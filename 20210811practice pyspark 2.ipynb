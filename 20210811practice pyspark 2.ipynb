{
 "cells": [
  {
   "cell_type": "code",
   "execution_count": 1,
   "id": "c371e81b",
   "metadata": {},
   "outputs": [],
   "source": [
    "import pandas as pd\n",
    "import matplotlib.pyplot as plt\n",
    "%matplotlib inline\n",
    "import seaborn as sns\n",
    "import glob\n",
    "from pyspark.sql.types import IntegerType, FloatType ,DateType\n",
    "from pyspark.sql import SparkSession, DataFrame\n",
    "import findspark\n",
    "import pyspark.sql.functions as F\n",
    "import pyspark.sql.functions as f\n",
    "from pyspark.sql.functions import *\n",
    "from datetime import datetime, timedelta\n",
    "sns.set_style('whitegrid')\n",
    "import matplotlib.pyplot as plt",
    ,
    
   ]
  },
  {
   "cell_type": "code",
   "execution_count": 2,
   "id": "92782915",
   "metadata": {},
   "outputs": [
    {
     "data": {
      "text/plain": [
       "'C:\\\\Spark\\\\spark-3.0.3-bin-hadoop2.7'"
      ]
     },
     "execution_count": 2,
     "metadata": {},
     "output_type": "execute_result"
    }
   ],
   "source": [
    "findspark.init()\n",
    "findspark.find()"
   ]
  },
  {
   "cell_type": "code",
   "execution_count": 3,
   "id": "db26c98b",
   "metadata": {},
   "outputs": [],
   "source": [
    "spark = SparkSession \\\n",
    "    .builder \\\n",
    "    .appName(\"Practice pyspark 2\") \\\n",
    "    .config(\"spark.some.config.option\", \"some-value\") \\\n",
    "    .getOrCreate()"
   ]
  },
  {
   "cell_type": "code",
   "execution_count": 4,
   "id": "5de84dac",
   "metadata": {},
   "outputs": [
    {
     "name": "stdout",
     "output_type": "stream",
     "text": [
      "+----+--------+------+---+---------+--------------+---------+-------+------------+-----------+------------+------+------------+-----------+-------------+--------------------+-----------------+-----------------+----------+------------------+-----------------+--------------------+-----------------+\n",
      "|Code|    area|gender|age|age_group|year_of_school|   degree|    job|know_english|know_france|know_chinese|income|booking_date|flight_date|flight_status|professionally_staff|customer_service |diversity_product|good_price|easily_transaction|goodlooking_staff|diversity_flighttime|good_construction|\n",
      "+----+--------+------+---+---------+--------------+---------+-------+------------+-----------+------------+------+------------+-----------+-------------+--------------------+-----------------+-----------------+----------+------------------+-----------------+--------------------+-----------------+\n",
      "|   1| central|female| 69|   middle|            16|   master|manager|           1|          1|           1| 33250|  06/04/2013| 01/05/2013|            1|                   2|                2|                1|         1|                 2|                2|                   1|                1|\n",
      "|   2|southern|female| 50|   middle|            12|highshool|officer|           0|          0|           0|  6960|  15/03/2013| 01/05/2013|            1|                   3|                3|                3|         2|                 3|                3|                   2|                3|\n",
      "|   3|northern|  male| 73|    elder|            12|highshool|officer|           1|          0|           0| 11100|  24/01/2013| 01/05/2013|            1|                   2|                2|                1|         2|                 3|                5|                   1|                1|\n",
      "|   4|northern|female| 73|    elder|            12|highshool|officer|           0|          0|           0| 11100|  15/01/2013| 01/05/2013|            1|                   5|                3|                2|         4|                 5|                3|                   2|                2|\n",
      "|   5| central|  male| 69|   middle|            16|   master|officer|           1|          0|           0| 16140|  14/11/2012| 01/05/2013|            0|                   3|                3|                3|         3|                 3|                3|                   3|                3|\n",
      "+----+--------+------+---+---------+--------------+---------+-------+------------+-----------+------------+------+------------+-----------+-------------+--------------------+-----------------+-----------------+----------+------------------+-----------------+--------------------+-----------------+\n",
      "only showing top 5 rows\n",
      "\n",
      "root\n",
      " |-- Code: string (nullable = true)\n",
      " |-- area: string (nullable = true)\n",
      " |-- gender: string (nullable = true)\n",
      " |-- age: string (nullable = true)\n",
      " |-- age_group: string (nullable = true)\n",
      " |-- year_of_school: string (nullable = true)\n",
      " |-- degree: string (nullable = true)\n",
      " |-- job: string (nullable = true)\n",
      " |-- know_english: string (nullable = true)\n",
      " |-- know_france: string (nullable = true)\n",
      " |-- know_chinese: string (nullable = true)\n",
      " |-- income: string (nullable = true)\n",
      " |-- booking_date: string (nullable = true)\n",
      " |-- flight_date: string (nullable = true)\n",
      " |-- flight_status: string (nullable = true)\n",
      " |-- professionally_staff: string (nullable = true)\n",
      " |-- customer_service : string (nullable = true)\n",
      " |-- diversity_product: string (nullable = true)\n",
      " |-- good_price: string (nullable = true)\n",
      " |-- easily_transaction: string (nullable = true)\n",
      " |-- goodlooking_staff: string (nullable = true)\n",
      " |-- diversity_flighttime: string (nullable = true)\n",
      " |-- good_construction: string (nullable = true)\n",
      "\n"
     ]
    }
   ],
   "source": [
    "df = spark.read.csv(\".\\data\\practive pyspark.csv\", header =True)\n",
    "df.show(5)\n",
    "df.printSchema()"
   ]
  },
  {
   "cell_type": "markdown",
   "id": "6d942d49",
   "metadata": {},
   "source": [
    "# Clean data"
   ]
  },
  {
   "cell_type": "code",
   "execution_count": 5,
   "id": "4905c940",
   "metadata": {},
   "outputs": [
    {
     "name": "stdout",
     "output_type": "stream",
     "text": [
      "root\n",
      " |-- Code: integer (nullable = true)\n",
      " |-- area: string (nullable = true)\n",
      " |-- gender: string (nullable = true)\n",
      " |-- age: integer (nullable = true)\n",
      " |-- age_group: string (nullable = true)\n",
      " |-- year_of_school: integer (nullable = true)\n",
      " |-- degree: string (nullable = true)\n",
      " |-- job: string (nullable = true)\n",
      " |-- know_english: integer (nullable = true)\n",
      " |-- know_france: integer (nullable = true)\n",
      " |-- know_chinese: integer (nullable = true)\n",
      " |-- income: integer (nullable = true)\n",
      " |-- booking_date: string (nullable = true)\n",
      " |-- flight_date: string (nullable = true)\n",
      " |-- flight_status: integer (nullable = true)\n",
      " |-- professionally_staff: integer (nullable = true)\n",
      " |-- customer_service : integer (nullable = true)\n",
      " |-- diversity_product: integer (nullable = true)\n",
      " |-- good_price: integer (nullable = true)\n",
      " |-- easily_transaction: integer (nullable = true)\n",
      " |-- goodlooking_staff: integer (nullable = true)\n",
      " |-- diversity_flighttime: integer (nullable = true)\n",
      " |-- good_construction: integer (nullable = true)\n",
      "\n"
     ]
    }
   ],
   "source": [
    "#Convering str to numberic\n",
    "df = df.withColumn('Code', F.col('Code').cast(IntegerType()))\\\n",
    "        .withColumn('age', F.col('age').cast(IntegerType()))\\\n",
    "        .withColumn('year_of_school',F.col('year_of_school').cast(IntegerType()))\\\n",
    "        .withColumn('know_english', F.col('know_english').cast(IntegerType()))\\\n",
    "        .withColumn('know_france', F.col('know_france').cast(IntegerType()))\\\n",
    "        .withColumn('know_chinese', F.col('know_chinese').cast(IntegerType()))\\\n",
    "        .withColumn('income', F.col('income').cast(IntegerType()))\\\n",
    "        .withColumn('flight_status', F.col('flight_status').cast(IntegerType()))\\\n",
    "        .withColumn('professionally_staff', F.col('professionally_staff').cast(IntegerType()))\\\n",
    "        .withColumn('customer_service ', F.col('customer_service ').cast(IntegerType()))\\\n",
    "        .withColumn('diversity_product', F.col('diversity_product').cast(IntegerType()))\\\n",
    "        .withColumn('good_price', F.col('good_price').cast(IntegerType()))\\\n",
    "        .withColumn('easily_transaction', F.col('easily_transaction').cast(IntegerType()))\\\n",
    "        .withColumn('goodlooking_staff', F.col('goodlooking_staff').cast(IntegerType()))\\\n",
    "        .withColumn('diversity_flighttime', F.col('diversity_flighttime').cast(IntegerType()))\\\n",
    "        .withColumn('good_construction', F.col('good_construction').cast(IntegerType()))\n",
    "df.printSchema()"
   ]
  },
  {
   "cell_type": "markdown",
   "id": "fd22445c",
   "metadata": {},
   "source": [
    "# 1. phân tích tương quan giữa thu nhập, tuổi, số năm đi học của kh"
   ]
  },
  {
   "cell_type": "code",
   "execution_count": 6,
   "id": "f4f0b91c",
   "metadata": {},
   "outputs": [],
   "source": [
    "data = df.select(\"age\",\"income\",\"year_of_school\")"
   ]
  },
  {
   "cell_type": "code",
   "execution_count": 7,
   "id": "e3dcdde5",
   "metadata": {},
   "outputs": [
    {
     "name": "stdout",
     "output_type": "stream",
     "text": [
      "+---+------+--------------+\n",
      "|age|income|year_of_school|\n",
      "+---+------+--------------+\n",
      "| 69| 33250|            16|\n",
      "| 50|  6960|            12|\n",
      "| 73| 11100|            12|\n",
      "+---+------+--------------+\n",
      "only showing top 3 rows\n",
      "\n"
     ]
    }
   ],
   "source": [
    "data.show(3)"
   ]
  },
  {
   "cell_type": "code",
   "execution_count": 8,
   "id": "970381d3",
   "metadata": {},
   "outputs": [],
   "source": [
    "data_df = data.toPandas() "
   ]
  },
  {
   "cell_type": "code",
   "execution_count": 9,
   "id": "7ac6a600",
   "metadata": {},
   "outputs": [],
   "source": [
    "corr = data_df.corr()"
   ]
  },
  {
   "cell_type": "code",
   "execution_count": 10,
   "id": "c96dea7e",
   "metadata": {},
   "outputs": [
    {
     "data": {
      "text/plain": [
       "(array([0.5, 1.5, 2.5]),\n",
       " [Text(0, 0.5, 'age'), Text(0, 1.5, 'income'), Text(0, 2.5, 'year_of_school')])"
      ]
     },
     "execution_count": 10,
     "metadata": {},
     "output_type": "execute_result"
    },
    {
     "data": {
      "image/png": "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\n",
      "text/plain": [
       "<Figure size 576x360 with 2 Axes>"
      ]
     },
     "metadata": {},
     "output_type": "display_data"
    }
   ],
   "source": [
    "plt.subplots(figsize = (8,5))\n",
    "sns.heatmap(corr, xticklabels=[\"age\",\"income\",\"year_of_school\"]\n",
    "            ,yticklabels=[\"age\",\"income\",\"year_of_school\"], annot = True,\n",
    "            linewidths = 0.5, \n",
    "            cmap = sns.diverging_palette(220, 20, as_cmap=True))\n",
    "plt.yticks(rotation=0)"
   ]
  },
  {
   "cell_type": "markdown",
   "id": "8f12115c",
   "metadata": {},
   "source": [
    "Biến income và biến year_of_school có độ tương bằng 0.66, vậy thu nhập có mối liên hệ positive với biến trung bình số lương đi học. Thu nhập tăng số năm đi học tăng"
   ]
  },
  {
   "cell_type": "markdown",
   "id": "da2eb9c5",
   "metadata": {},
   "source": [
    "# 2. tạo cột nhóm thu nhập với điều kiện\n",
    "-  income < 9000 -> low income\n",
    "-  9000 < income < 15000 -> medium income\n",
    "-  >15000 -> high income\n",
    "\n",
    "Thống kê số lượng kh của từng nhóm"
   ]
  },
  {
   "cell_type": "code",
   "execution_count": 11,
   "id": "c9b4c43a",
   "metadata": {},
   "outputs": [],
   "source": [
    "df = df.withColumn(\"Type income\", \\\n",
    "   when((df.income < 9000), lit(\"low income\")) \\\n",
    "     .when((df.income >= 9000) & (df.income < 15000), lit(\"medium income\")) \\\n",
    "     .otherwise(lit(\"high income\")))\n"
   ]
  },
  {
   "cell_type": "code",
   "execution_count": 12,
   "id": "7565bb0d",
   "metadata": {},
   "outputs": [
    {
     "name": "stdout",
     "output_type": "stream",
     "text": [
      "+------+-------------+\n",
      "|income|  Type income|\n",
      "+------+-------------+\n",
      "| 33250|  high income|\n",
      "|  6960|   low income|\n",
      "| 11100|medium income|\n",
      "| 11100|medium income|\n",
      "| 16140|  high income|\n",
      "+------+-------------+\n",
      "only showing top 5 rows\n",
      "\n"
     ]
    }
   ],
   "source": [
    "df.select('income','Type income').show(5)"
   ]
  },
  {
   "cell_type": "code",
   "execution_count": 13,
   "id": "7ec9a270",
   "metadata": {},
   "outputs": [],
   "source": [
    "income = df.select(\"income\",'Type Income')"
   ]
  },
  {
   "cell_type": "code",
   "execution_count": 14,
   "id": "812c87bf",
   "metadata": {},
   "outputs": [],
   "source": [
    "income_df = income.toPandas()"
   ]
  },
  {
   "cell_type": "code",
   "execution_count": 15,
   "id": "a7642cc0",
   "metadata": {},
   "outputs": [
    {
     "data": {
      "text/plain": [
       "<AxesSubplot:xlabel='Type Income', ylabel='income'>"
      ]
     },
     "execution_count": 15,
     "metadata": {},
     "output_type": "execute_result"
    },
    {
     "data": {
      "image/png": "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\n",
      "text/plain": [
       "<Figure size 432x288 with 1 Axes>"
      ]
     },
     "metadata": {},
     "output_type": "display_data"
    }
   ],
   "source": [
    "sns.barplot(y = income_df['income'], x = income_df['Type Income'] )"
   ]
  },
  {
   "cell_type": "markdown",
   "id": "d02e11cd",
   "metadata": {},
   "source": [
    "# 3. tính khoảng cách theo ngày giữa thời gian đặt vé và thời gian bay của kh"
   ]
  },
  {
   "cell_type": "code",
   "execution_count": 16,
   "id": "e7ebf78b",
   "metadata": {},
   "outputs": [],
   "source": [
    "df = df.withColumn(\"date_flight\",to_date(col(\"flight_date\"),\"dd/MM/yyyy\"))"
   ]
  },
  {
   "cell_type": "code",
   "execution_count": 17,
   "id": "9db61ee3",
   "metadata": {},
   "outputs": [],
   "source": [
    "df = df.withColumn(\"date_booking\",to_date(col(\"booking_date\"),\"dd/MM/yyyy\"))"
   ]
  },
  {
   "cell_type": "code",
   "execution_count": 18,
   "id": "a1bac795",
   "metadata": {},
   "outputs": [
    {
     "name": "stdout",
     "output_type": "stream",
     "text": [
      "+-----------+------------+\n",
      "|date_flight|date_booking|\n",
      "+-----------+------------+\n",
      "| 2013-05-01|  2013-04-06|\n",
      "| 2013-05-01|  2013-03-15|\n",
      "| 2013-05-01|  2013-01-24|\n",
      "+-----------+------------+\n",
      "only showing top 3 rows\n",
      "\n"
     ]
    }
   ],
   "source": [
    "df.select('date_flight','date_booking').show(3)"
   ]
  },
  {
   "cell_type": "code",
   "execution_count": 19,
   "id": "9639b437",
   "metadata": {},
   "outputs": [],
   "source": [
    "df = df.withColumn(\"Time\", df.date_flight - df.date_booking)"
   ]
  },
  {
   "cell_type": "code",
   "execution_count": 20,
   "id": "4d4f82c8",
   "metadata": {},
   "outputs": [
    {
     "name": "stdout",
     "output_type": "stream",
     "text": [
      "+-----------+------------+----------------+\n",
      "|date_flight|date_booking|            time|\n",
      "+-----------+------------+----------------+\n",
      "| 2013-05-01|  2013-04-06|         25 days|\n",
      "| 2013-05-01|  2013-03-15|1 months 16 days|\n",
      "| 2013-05-01|  2013-01-24| 3 months 7 days|\n",
      "+-----------+------------+----------------+\n",
      "only showing top 3 rows\n",
      "\n"
     ]
    }
   ],
   "source": [
    "df.select('date_flight','date_booking','time').show(3)"
   ]
  },
  {
   "cell_type": "markdown",
   "id": "ab49ae92",
   "metadata": {},
   "source": [
    "# 4. Tính trợ cấp 5% thu nhập đối với nv nữ"
   ]
  },
  {
   "cell_type": "code",
   "execution_count": 25,
   "id": "ffb252e3",
   "metadata": {
    "scrolled": true
   },
   "outputs": [],
   "source": [
    "df = df.withColumn(\"Trợ cấp\", when(col('gender') == 'female',col('income') * 0.05).otherwise(lit(0)))"
   ]
  },
  {
   "cell_type": "code",
   "execution_count": 26,
   "id": "a26bdf92",
   "metadata": {},
   "outputs": [
    {
     "name": "stdout",
     "output_type": "stream",
     "text": [
      "+------+-------+------+\n",
      "|gender|Trợ cấp|income|\n",
      "+------+-------+------+\n",
      "|female| 1662.5| 33250|\n",
      "|female|  348.0|  6960|\n",
      "|  male|    0.0| 11100|\n",
      "|female|  555.0| 11100|\n",
      "|  male|    0.0| 16140|\n",
      "+------+-------+------+\n",
      "only showing top 5 rows\n",
      "\n"
     ]
    }
   ],
   "source": [
    "df.select('gender',\"Trợ cấp\",'income').show(5)"
   ]
  },
  {
   "cell_type": "markdown",
   "id": "c8f9b31a",
   "metadata": {},
   "source": [
    "# 5. Tính số tiền nhận được của từng kh số tiền nhận được = thu nhập + trợ cấp"
   ]
  },
  {
   "cell_type": "code",
   "execution_count": 27,
   "id": "c23f0831",
   "metadata": {},
   "outputs": [],
   "source": [
    "df = df.withColumn(\"Total income\", col('income')+col('Trợ cấp'))"
   ]
  },
  {
   "cell_type": "code",
   "execution_count": 28,
   "id": "a5e4d7cb",
   "metadata": {},
   "outputs": [
    {
     "name": "stdout",
     "output_type": "stream",
     "text": [
      "+------------+-------+------+\n",
      "|Total income|Trợ cấp|income|\n",
      "+------------+-------+------+\n",
      "|     34912.5| 1662.5| 33250|\n",
      "|      7308.0|  348.0|  6960|\n",
      "|     11100.0|    0.0| 11100|\n",
      "|     11655.0|  555.0| 11100|\n",
      "|     16140.0|    0.0| 16140|\n",
      "+------------+-------+------+\n",
      "only showing top 5 rows\n",
      "\n"
     ]
    }
   ],
   "source": [
    "df.select('Total income',\"Trợ cấp\",'income').show(5)"
   ]
  },
  {
   "cell_type": "markdown",
   "id": "fc680a53",
   "metadata": {},
   "source": [
    "# 6. Giả sử tiền thuế thu nhập cá nhân được tính như sau:\n",
    "- từ 10.000 trở xuống thuế 5%\n",
    "- trên 10000 -30000 thuế 7%\n",
    "- trên 30000 thuế 10%\n",
    "\n",
    "Tính thuế tncn cho từng kh"
   ]
  },
  {
   "cell_type": "code",
   "execution_count": 30,
   "id": "ecaab08c",
   "metadata": {},
   "outputs": [],
   "source": [
    "df = df.withColumn(\"Tax\", \\\n",
    "   when((col('income') < 10000),col('income')*0.05) \\\n",
    "     .when((col('income') >= 10000) & (col('income') < 30000), 10000*0.05 + (col('income')-10000)*0.07) \\\n",
    "     .otherwise(10000*0.05 + 20000*0.07 + (col('income')-30000)*0.1))\n"
   ]
  },
  {
   "cell_type": "code",
   "execution_count": 31,
   "id": "2366f32f",
   "metadata": {},
   "outputs": [
    {
     "name": "stdout",
     "output_type": "stream",
     "text": [
      "+------+-----------------+\n",
      "|income|              Tax|\n",
      "+------+-----------------+\n",
      "| 33250|           2225.0|\n",
      "|  6960|            348.0|\n",
      "| 11100|            577.0|\n",
      "| 11100|            577.0|\n",
      "| 16140|929.8000000000001|\n",
      "+------+-----------------+\n",
      "only showing top 5 rows\n",
      "\n"
     ]
    }
   ],
   "source": [
    "df.select('income','Tax').show(5)"
   ]
  },
  {
   "cell_type": "markdown",
   "id": "ea991293",
   "metadata": {},
   "source": [
    "# 7. Thống kê số người đặt vé bay trong mỗi tháng của năm 2013"
   ]
  },
  {
   "cell_type": "code",
   "execution_count": 647,
   "id": "e42a13ad",
   "metadata": {},
   "outputs": [],
   "source": [
    "stats = df.select(\"date_booking\")"
   ]
  },
  {
   "cell_type": "code",
   "execution_count": 649,
   "id": "379eda3d",
   "metadata": {},
   "outputs": [
    {
     "name": "stdout",
     "output_type": "stream",
     "text": [
      "+------------+\n",
      "|date_booking|\n",
      "+------------+\n",
      "|  2013-04-06|\n",
      "|  2013-03-15|\n",
      "|  2013-01-24|\n",
      "+------------+\n",
      "only showing top 3 rows\n",
      "\n"
     ]
    }
   ],
   "source": [
    "stats.show(3)"
   ]
  },
  {
   "cell_type": "code",
   "execution_count": 662,
   "id": "8e05c06b",
   "metadata": {},
   "outputs": [],
   "source": [
    "stats = stats.withColumn('year',year(stats.date_booking))"
   ]
  },
  {
   "cell_type": "code",
   "execution_count": 664,
   "id": "2d718f8d",
   "metadata": {},
   "outputs": [],
   "source": [
    "stats = stats.withColumn('month', month(stats.date_booking))"
   ]
  },
  {
   "cell_type": "code",
   "execution_count": 670,
   "id": "98cf63e5",
   "metadata": {},
   "outputs": [],
   "source": [
    "stats = stats.withColumn('day', date_format(stats.date_booking, \"d\"))"
   ]
  },
  {
   "cell_type": "code",
   "execution_count": 681,
   "id": "2fc95512",
   "metadata": {},
   "outputs": [
    {
     "name": "stdout",
     "output_type": "stream",
     "text": [
      "+------------+----+-----+---+\n",
      "|date_booking|year|month|day|\n",
      "+------------+----+-----+---+\n",
      "|  2013-04-06|2013|    4|  6|\n",
      "|  2013-03-15|2013|    3| 15|\n",
      "|  2013-01-24|2013|    1| 24|\n",
      "|  2013-01-15|2013|    1| 15|\n",
      "|  2013-02-27|2013|    2| 27|\n",
      "+------------+----+-----+---+\n",
      "only showing top 5 rows\n",
      "\n"
     ]
    }
   ],
   "source": [
    "df_2013 = stats.filter(stats.year == 2013)\n",
    "df_2013.show(5)"
   ]
  },
  {
   "cell_type": "code",
   "execution_count": 741,
   "id": "5452640d",
   "metadata": {},
   "outputs": [
    {
     "name": "stdout",
     "output_type": "stream",
     "text": [
      "+---+-----+-----+\n",
      "|day|month|count|\n",
      "+---+-----+-----+\n",
      "| 13|    2|    6|\n",
      "| 25|    1|    2|\n",
      "|  4|    1|    1|\n",
      "+---+-----+-----+\n",
      "only showing top 3 rows\n",
      "\n"
     ]
    }
   ],
   "source": [
    "df8 = df_2013.groupby('day','month').count().show(3)"
   ]
  },
  {
   "cell_type": "code",
   "execution_count": 693,
   "id": "9b016b34",
   "metadata": {},
   "outputs": [],
   "source": [
    "df8 = stats.groupBy('day','month').count()\n",
    "pivotDF  = df8.groupBy(\"month\").pivot(\"day\").sum('count')"
   ]
  },
  {
   "cell_type": "code",
   "execution_count": 742,
   "id": "42094614",
   "metadata": {},
   "outputs": [],
   "source": [
    "df_20133 = pivotDF.toPandas()"
   ]
  },
  {
   "cell_type": "code",
   "execution_count": 743,
   "id": "d5ae275c",
   "metadata": {},
   "outputs": [],
   "source": [
    "df_20133 = df_20133.set_index(\"month\").sort_index()"
   ]
  },
  {
   "cell_type": "code",
   "execution_count": 744,
   "id": "c6f3063f",
   "metadata": {},
   "outputs": [],
   "source": [
    "df_20133 = df_20133.fillna(0)"
   ]
  },
  {
   "cell_type": "code",
   "execution_count": 745,
   "id": "dc0053bb",
   "metadata": {},
   "outputs": [
    {
     "data": {
      "text/plain": [
       "Text(70.0, 0.5, 'Tháng')"
      ]
     },
     "execution_count": 745,
     "metadata": {},
     "output_type": "execute_result"
    },
    {
     "data": {
      "image/png": "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\n",
      "text/plain": [
       "<Figure size 720x576 with 2 Axes>"
      ]
     },
     "metadata": {},
     "output_type": "display_data"
    }
   ],
   "source": [
    "plt.subplots(figsize = (10,8))\n",
    "sns.heatmap(df_20133, annot = True,\n",
    "            linewidths = 0.5, \n",
    "            cmap = sns.diverging_palette(220, 20, as_cmap=True))\n",
    "plt.xlabel(\"Ngày\")\n",
    "plt.ylabel(\"Tháng\")"
   ]
  },
  {
   "cell_type": "markdown",
   "id": "829c769d",
   "metadata": {},
   "source": [
    "# 8. vẽ biểu đồ các câu trên"
   ]
  },
  {
   "cell_type": "code",
   "execution_count": null,
   "id": "b7fbd885",
   "metadata": {},
   "outputs": [],
   "source": []
  }
 ],
 "metadata": {
  "kernelspec": {
   "display_name": "Python 3 (ipykernel)",
   "language": "python",
   "name": "python3"
  },
  "language_info": {
   "codemirror_mode": {
    "name": "ipython",
    "version": 3
   },
   "file_extension": ".py",
   "mimetype": "text/x-python",
   "name": "python",
   "nbconvert_exporter": "python",
   "pygments_lexer": "ipython3",
   "version": "3.9.6"
  }
 },
 "nbformat": 4,
 "nbformat_minor": 5
}
