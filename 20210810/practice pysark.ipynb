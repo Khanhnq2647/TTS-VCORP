{
 "cells": [
  {
   "cell_type": "code",
   "execution_count": 19,
   "id": "09da3648",
   "metadata": {},
   "outputs": [],
   "source": [
    "import numpy as np\n",
    "import pandas as pd\n",
    "import matplotlib.pyplot as plt\n",
    "%matplotlib inline\n",
    "import seaborn as sns\n",
    "import glob\n",
    "from pyspark.sql.types import IntegerType, FloatType\n",
    "from pyspark.sql import SparkSession, DataFrame\n",
    "import pyspark.sql.functions as F\n",
    "import findspark\n",
    "from pyspark.sql.functions import when\n",
    "from openpyxl import Workbook"
   ]
  },
  {
   "cell_type": "code",
   "execution_count": 3,
   "id": "090e5859",
   "metadata": {},
   "outputs": [
    {
     "data": {
      "text/plain": [
       "'C:\\\\Spark\\\\spark-3.0.3-bin-hadoop2.7'"
      ]
     },
     "execution_count": 3,
     "metadata": {},
     "output_type": "execute_result"
    }
   ],
   "source": [
    "findspark.init()\n",
    "findspark.find()"
   ]
  },
  {
   "cell_type": "code",
   "execution_count": 4,
   "id": "c1dc72a7",
   "metadata": {},
   "outputs": [],
   "source": [
    "spark = SparkSession \\\n",
    ".builder \\\n",
    ".appName(\"Practice\") \\\n",
    ".config(\"spark.some.config.option\", \"some-value\") \\\n",
    ".getOrCreate()"
   ]
  },
  {
   "cell_type": "code",
   "execution_count": 128,
   "id": "ab0ccfd9",
   "metadata": {
    "scrolled": true
   },
   "outputs": [
    {
     "name": "stdout",
     "output_type": "stream",
     "text": [
      "+----+--------+------+---+---------+--------------+---------+-------+------------+-----------+------------+------+------------+-----------+-------------+--------------------+-----------------+-----------------+----------+------------------+-----------------+--------------------+-----------------+\n",
      "|Code|    area|gender|age|age_group|year_of_school|   degree|    job|know_english|know_france|know_chinese|income|booking_date|flight_date|flight_status|professionally_staff|customer_service |diversity_product|good_price|easily_transaction|goodlooking_staff|diversity_flighttime|good_construction|\n",
      "+----+--------+------+---+---------+--------------+---------+-------+------------+-----------+------------+------+------------+-----------+-------------+--------------------+-----------------+-----------------+----------+------------------+-----------------+--------------------+-----------------+\n",
      "|   1| central|female| 69|   middle|            16|   master|manager|           1|          1|           1| 33250|  06/04/2013| 01/05/2013|            1|                   2|                2|                1|         1|                 2|                2|                   1|                1|\n",
      "|   2|southern|female| 50|   middle|            12|highshool|officer|           0|          0|           0|  6960|  15/03/2013| 01/05/2013|            1|                   3|                3|                3|         2|                 3|                3|                   2|                3|\n",
      "|   3|northern|  male| 73|    elder|            12|highshool|officer|           1|          0|           0| 11100|  24/01/2013| 01/05/2013|            1|                   2|                2|                1|         2|                 3|                5|                   1|                1|\n",
      "|   4|northern|female| 73|    elder|            12|highshool|officer|           0|          0|           0| 11100|  15/01/2013| 01/05/2013|            1|                   5|                3|                2|         4|                 5|                3|                   2|                2|\n",
      "|   5| central|  male| 69|   middle|            16|   master|officer|           1|          0|           0| 16140|  14/11/2012| 01/05/2013|            0|                   3|                3|                3|         3|                 3|                3|                   3|                3|\n",
      "+----+--------+------+---+---------+--------------+---------+-------+------------+-----------+------------+------+------------+-----------+-------------+--------------------+-----------------+-----------------+----------+------------------+-----------------+--------------------+-----------------+\n",
      "only showing top 5 rows\n",
      "\n",
      "root\n",
      " |-- Code: string (nullable = true)\n",
      " |-- area: string (nullable = true)\n",
      " |-- gender: string (nullable = true)\n",
      " |-- age: string (nullable = true)\n",
      " |-- age_group: string (nullable = true)\n",
      " |-- year_of_school: string (nullable = true)\n",
      " |-- degree: string (nullable = true)\n",
      " |-- job: string (nullable = true)\n",
      " |-- know_english: string (nullable = true)\n",
      " |-- know_france: string (nullable = true)\n",
      " |-- know_chinese: string (nullable = true)\n",
      " |-- income: string (nullable = true)\n",
      " |-- booking_date: string (nullable = true)\n",
      " |-- flight_date: string (nullable = true)\n",
      " |-- flight_status: string (nullable = true)\n",
      " |-- professionally_staff: string (nullable = true)\n",
      " |-- customer_service : string (nullable = true)\n",
      " |-- diversity_product: string (nullable = true)\n",
      " |-- good_price: string (nullable = true)\n",
      " |-- easily_transaction: string (nullable = true)\n",
      " |-- goodlooking_staff: string (nullable = true)\n",
      " |-- diversity_flighttime: string (nullable = true)\n",
      " |-- good_construction: string (nullable = true)\n",
      "\n"
     ]
    }
   ],
   "source": [
    "df = spark.read.csv(\".\\data\\practive pyspark.csv\", header =True)\n",
    "df.show(5)\n",
    "df.printSchema()"
   ]
  },
  {
   "cell_type": "markdown",
   "id": "601de8c0",
   "metadata": {},
   "source": [
    "# Clean Data"
   ]
  },
  {
   "cell_type": "code",
   "execution_count": 129,
   "id": "9db79f17",
   "metadata": {},
   "outputs": [
    {
     "name": "stdout",
     "output_type": "stream",
     "text": [
      "root\n",
      " |-- Code: integer (nullable = true)\n",
      " |-- area: string (nullable = true)\n",
      " |-- gender: string (nullable = true)\n",
      " |-- age: float (nullable = true)\n",
      " |-- age_group: string (nullable = true)\n",
      " |-- year_of_school: integer (nullable = true)\n",
      " |-- degree: string (nullable = true)\n",
      " |-- job: string (nullable = true)\n",
      " |-- know_english: integer (nullable = true)\n",
      " |-- know_france: integer (nullable = true)\n",
      " |-- know_chinese: integer (nullable = true)\n",
      " |-- income: float (nullable = true)\n",
      " |-- booking_date: string (nullable = true)\n",
      " |-- flight_date: string (nullable = true)\n",
      " |-- flight_status: integer (nullable = true)\n",
      " |-- professionally_staff: integer (nullable = true)\n",
      " |-- customer_service : integer (nullable = true)\n",
      " |-- diversity_product: integer (nullable = true)\n",
      " |-- good_price: integer (nullable = true)\n",
      " |-- easily_transaction: integer (nullable = true)\n",
      " |-- goodlooking_staff: integer (nullable = true)\n",
      " |-- diversity_flighttime: integer (nullable = true)\n",
      " |-- good_construction: integer (nullable = true)\n",
      "\n"
     ]
    }
   ],
   "source": [
    "#Convering str to numberic\n",
    "df = df.withColumn('Code', F.col('Code').cast(IntegerType()))\\\n",
    "        .withColumn('age', F.col('age').cast(FloatType()))\\\n",
    "        .withColumn('year_of_school',F.col('year_of_school').cast(IntegerType()))\\\n",
    "        .withColumn('know_english', F.col('know_english').cast(IntegerType()))\\\n",
    "        .withColumn('know_france', F.col('know_france').cast(IntegerType()))\\\n",
    "        .withColumn('know_chinese', F.col('know_chinese').cast(IntegerType()))\\\n",
    "        .withColumn('income', F.col('income').cast(FloatType()))\\\n",
    "        .withColumn('flight_status', F.col('flight_status').cast(IntegerType()))\\\n",
    "        .withColumn('professionally_staff', F.col('professionally_staff').cast(IntegerType()))\\\n",
    "        .withColumn('customer_service ', F.col('customer_service ').cast(IntegerType()))\\\n",
    "        .withColumn('diversity_product', F.col('diversity_product').cast(IntegerType()))\\\n",
    "        .withColumn('good_price', F.col('good_price').cast(IntegerType()))\\\n",
    "        .withColumn('easily_transaction', F.col('easily_transaction').cast(IntegerType()))\\\n",
    "        .withColumn('goodlooking_staff', F.col('goodlooking_staff').cast(IntegerType()))\\\n",
    "        .withColumn('diversity_flighttime', F.col('diversity_flighttime').cast(IntegerType()))\\\n",
    "        .withColumn('good_construction', F.col('good_construction').cast(IntegerType()))\n",
    "df.printSchema()"
   ]
  },
  {
   "cell_type": "code",
   "execution_count": 130,
   "id": "bebd4331",
   "metadata": {},
   "outputs": [
    {
     "data": {
      "text/html": [
       "<div>\n",
       "<style scoped>\n",
       "    .dataframe tbody tr th:only-of-type {\n",
       "        vertical-align: middle;\n",
       "    }\n",
       "\n",
       "    .dataframe tbody tr th {\n",
       "        vertical-align: top;\n",
       "    }\n",
       "\n",
       "    .dataframe thead th {\n",
       "        text-align: right;\n",
       "    }\n",
       "</style>\n",
       "<table border=\"1\" class=\"dataframe\">\n",
       "  <thead>\n",
       "    <tr style=\"text-align: right;\">\n",
       "      <th></th>\n",
       "      <th>Code</th>\n",
       "      <th>area</th>\n",
       "      <th>gender</th>\n",
       "      <th>age</th>\n",
       "      <th>age_group</th>\n",
       "      <th>year_of_school</th>\n",
       "      <th>degree</th>\n",
       "      <th>job</th>\n",
       "      <th>know_english</th>\n",
       "      <th>know_france</th>\n",
       "      <th>...</th>\n",
       "      <th>flight_date</th>\n",
       "      <th>flight_status</th>\n",
       "      <th>professionally_staff</th>\n",
       "      <th>customer_service</th>\n",
       "      <th>diversity_product</th>\n",
       "      <th>good_price</th>\n",
       "      <th>easily_transaction</th>\n",
       "      <th>goodlooking_staff</th>\n",
       "      <th>diversity_flighttime</th>\n",
       "      <th>good_construction</th>\n",
       "    </tr>\n",
       "  </thead>\n",
       "  <tbody>\n",
       "    <tr>\n",
       "      <th>0</th>\n",
       "      <td>1</td>\n",
       "      <td>central</td>\n",
       "      <td>female</td>\n",
       "      <td>69.0</td>\n",
       "      <td>middle</td>\n",
       "      <td>16</td>\n",
       "      <td>master</td>\n",
       "      <td>manager</td>\n",
       "      <td>1</td>\n",
       "      <td>1</td>\n",
       "      <td>...</td>\n",
       "      <td>01/05/2013</td>\n",
       "      <td>1</td>\n",
       "      <td>2</td>\n",
       "      <td>2</td>\n",
       "      <td>1</td>\n",
       "      <td>1</td>\n",
       "      <td>2</td>\n",
       "      <td>2</td>\n",
       "      <td>1</td>\n",
       "      <td>1</td>\n",
       "    </tr>\n",
       "    <tr>\n",
       "      <th>1</th>\n",
       "      <td>2</td>\n",
       "      <td>southern</td>\n",
       "      <td>female</td>\n",
       "      <td>50.0</td>\n",
       "      <td>middle</td>\n",
       "      <td>12</td>\n",
       "      <td>highshool</td>\n",
       "      <td>officer</td>\n",
       "      <td>0</td>\n",
       "      <td>0</td>\n",
       "      <td>...</td>\n",
       "      <td>01/05/2013</td>\n",
       "      <td>1</td>\n",
       "      <td>3</td>\n",
       "      <td>3</td>\n",
       "      <td>3</td>\n",
       "      <td>2</td>\n",
       "      <td>3</td>\n",
       "      <td>3</td>\n",
       "      <td>2</td>\n",
       "      <td>3</td>\n",
       "    </tr>\n",
       "    <tr>\n",
       "      <th>2</th>\n",
       "      <td>3</td>\n",
       "      <td>northern</td>\n",
       "      <td>male</td>\n",
       "      <td>73.0</td>\n",
       "      <td>elder</td>\n",
       "      <td>12</td>\n",
       "      <td>highshool</td>\n",
       "      <td>officer</td>\n",
       "      <td>1</td>\n",
       "      <td>0</td>\n",
       "      <td>...</td>\n",
       "      <td>01/05/2013</td>\n",
       "      <td>1</td>\n",
       "      <td>2</td>\n",
       "      <td>2</td>\n",
       "      <td>1</td>\n",
       "      <td>2</td>\n",
       "      <td>3</td>\n",
       "      <td>5</td>\n",
       "      <td>1</td>\n",
       "      <td>1</td>\n",
       "    </tr>\n",
       "    <tr>\n",
       "      <th>3</th>\n",
       "      <td>4</td>\n",
       "      <td>northern</td>\n",
       "      <td>female</td>\n",
       "      <td>73.0</td>\n",
       "      <td>elder</td>\n",
       "      <td>12</td>\n",
       "      <td>highshool</td>\n",
       "      <td>officer</td>\n",
       "      <td>0</td>\n",
       "      <td>0</td>\n",
       "      <td>...</td>\n",
       "      <td>01/05/2013</td>\n",
       "      <td>1</td>\n",
       "      <td>5</td>\n",
       "      <td>3</td>\n",
       "      <td>2</td>\n",
       "      <td>4</td>\n",
       "      <td>5</td>\n",
       "      <td>3</td>\n",
       "      <td>2</td>\n",
       "      <td>2</td>\n",
       "    </tr>\n",
       "    <tr>\n",
       "      <th>4</th>\n",
       "      <td>5</td>\n",
       "      <td>central</td>\n",
       "      <td>male</td>\n",
       "      <td>69.0</td>\n",
       "      <td>middle</td>\n",
       "      <td>16</td>\n",
       "      <td>master</td>\n",
       "      <td>officer</td>\n",
       "      <td>1</td>\n",
       "      <td>0</td>\n",
       "      <td>...</td>\n",
       "      <td>01/05/2013</td>\n",
       "      <td>0</td>\n",
       "      <td>3</td>\n",
       "      <td>3</td>\n",
       "      <td>3</td>\n",
       "      <td>3</td>\n",
       "      <td>3</td>\n",
       "      <td>3</td>\n",
       "      <td>3</td>\n",
       "      <td>3</td>\n",
       "    </tr>\n",
       "  </tbody>\n",
       "</table>\n",
       "<p>5 rows × 23 columns</p>\n",
       "</div>"
      ],
      "text/plain": [
       "   Code      area  gender   age age_group  year_of_school     degree      job  \\\n",
       "0     1   central  female  69.0    middle              16     master  manager   \n",
       "1     2  southern  female  50.0    middle              12  highshool  officer   \n",
       "2     3  northern    male  73.0     elder              12  highshool  officer   \n",
       "3     4  northern  female  73.0     elder              12  highshool  officer   \n",
       "4     5   central    male  69.0    middle              16     master  officer   \n",
       "\n",
       "   know_english  know_france  ...  flight_date  flight_status  \\\n",
       "0             1            1  ...   01/05/2013              1   \n",
       "1             0            0  ...   01/05/2013              1   \n",
       "2             1            0  ...   01/05/2013              1   \n",
       "3             0            0  ...   01/05/2013              1   \n",
       "4             1            0  ...   01/05/2013              0   \n",
       "\n",
       "  professionally_staff customer_service   diversity_product  good_price  \\\n",
       "0                    2                 2                  1           1   \n",
       "1                    3                 3                  3           2   \n",
       "2                    2                 2                  1           2   \n",
       "3                    5                 3                  2           4   \n",
       "4                    3                 3                  3           3   \n",
       "\n",
       "   easily_transaction  goodlooking_staff  diversity_flighttime  \\\n",
       "0                   2                  2                     1   \n",
       "1                   3                  3                     2   \n",
       "2                   3                  5                     1   \n",
       "3                   5                  3                     2   \n",
       "4                   3                  3                     3   \n",
       "\n",
       "   good_construction  \n",
       "0                  1  \n",
       "1                  3  \n",
       "2                  1  \n",
       "3                  2  \n",
       "4                  3  \n",
       "\n",
       "[5 rows x 23 columns]"
      ]
     },
     "execution_count": 130,
     "metadata": {},
     "output_type": "execute_result"
    }
   ],
   "source": [
    "ppandas = df.toPandas()\n",
    "ppandas.head()"
   ]
  },
  {
   "cell_type": "markdown",
   "id": "d92eab75",
   "metadata": {},
   "source": [
    "# Bài 1 thu nhập trung bình? mốt và trung vị về thu nhập"
   ]
  },
  {
   "cell_type": "code",
   "execution_count": 131,
   "id": "741844ee",
   "metadata": {},
   "outputs": [
    {
     "name": "stdout",
     "output_type": "stream",
     "text": [
      "tthu nhập trung bình, mốt và trung vị về thu nhập là:\n",
      "+-------+----------------+\n",
      "|summary|          income|\n",
      "+-------+----------------+\n",
      "|  count|             500|\n",
      "|   mean|        13859.62|\n",
      "| stddev|7144.29879569467|\n",
      "|    min|          6300.0|\n",
      "|    max|         54000.0|\n",
      "+-------+----------------+\n",
      "\n"
     ]
    }
   ],
   "source": [
    "print(\"tthu nhập trung bình, mốt và trung vị về thu nhập là:\")\n",
    "df.describe(['income']).show()"
   ]
  },
  {
   "cell_type": "code",
   "execution_count": 132,
   "id": "2b90ef7c",
   "metadata": {},
   "outputs": [],
   "source": [
    "#PySpark SQL Tutorial\n",
    "df.createOrReplaceTempView(\"practice_pyspark\")\n",
    "df2 = spark.sql(\"SELECT * from practice_pyspark\")"
   ]
  },
  {
   "cell_type": "code",
   "execution_count": 133,
   "id": "50605f58",
   "metadata": {},
   "outputs": [
    {
     "name": "stdout",
     "output_type": "stream",
     "text": [
      "Mode là: \n",
      "+-------+---------+\n",
      "| income|frequence|\n",
      "+-------+---------+\n",
      "|12300.0|       13|\n",
      "+-------+---------+\n",
      "\n"
     ]
    }
   ],
   "source": [
    "print(\"Mode là: \")\n",
    "mode = spark.sql(\"SELECT income, count(income) as frequence FROM practice_pyspark GROUP by income order by frequence DESC LIMIT 1 \")\n",
    "mode.show()"
   ]
  },
  {
   "cell_type": "code",
   "execution_count": 156,
   "id": "ddb6e23c",
   "metadata": {},
   "outputs": [
    {
     "data": {
      "text/plain": [
       "<AxesSubplot:ylabel='income'>"
      ]
     },
     "execution_count": 156,
     "metadata": {},
     "output_type": "execute_result"
    },
    {
     "data": {
      "image/png": "[encoded data removed]",
      "text/plain": [
       "<Figure size 576x360 with 1 Axes>"
      ]
     },
     "metadata": {},
     "output_type": "display_data"
    }
   ],
   "source": [
    "plt.subplots(figsize = (8,5))\n",
    "sns.set_theme(style=\"whitegrid\")\n",
    "sns.boxplot(y=ppandas[\"income\"])"
   ]
  },
  {
   "cell_type": "markdown",
   "id": "be1211c2",
   "metadata": {},
   "source": [
    "# Bài 2. thu nhập trung bình từng khu vực"
   ]
  },
  {
   "cell_type": "code",
   "execution_count": 134,
   "id": "d5d7823d",
   "metadata": {},
   "outputs": [
    {
     "name": "stdout",
     "output_type": "stream",
     "text": [
      "+--------+------------------+\n",
      "|    area|            income|\n",
      "+--------+------------------+\n",
      "| central| 19586.09661835749|\n",
      "|southern| 8209.814814814816|\n",
      "|northern|10750.421621621621|\n",
      "+--------+------------------+\n",
      "\n"
     ]
    }
   ],
   "source": [
    "avgincome = spark.sql(\"SELECT area, Avg(income) as income from practice_pyspark group by area \")\n",
    "avgincome.show()"
   ]
  },
  {
   "cell_type": "code",
   "execution_count": 157,
   "id": "4535779b",
   "metadata": {},
   "outputs": [],
   "source": [
    "avgincome = avgincome.toPandas()"
   ]
  },
  {
   "cell_type": "code",
   "execution_count": 162,
   "id": "72391910",
   "metadata": {},
   "outputs": [
    {
     "data": {
      "text/plain": [
       "<AxesSubplot:xlabel='area', ylabel='income'>"
      ]
     },
     "execution_count": 162,
     "metadata": {},
     "output_type": "execute_result"
    },
    {
     "data": {
      "image/png": "[encoded data removed]",
      "text/plain": [
       "<Figure size 576x360 with 1 Axes>"
      ]
     },
     "metadata": {},
     "output_type": "display_data"
    }
   ],
   "source": [
    "plt.subplots(figsize = (8,5))\n",
    "sns.barplot(x = avgincome['area'], y = avgincome['income'])"
   ]
  },
  {
   "cell_type": "markdown",
   "id": "1377526f",
   "metadata": {},
   "source": [
    "# Bài 3. số năm đi học tb đối với kh nam và là nv kinh doanh"
   ]
  },
  {
   "cell_type": "code",
   "execution_count": 172,
   "id": "134e2960",
   "metadata": {},
   "outputs": [
    {
     "name": "stdout",
     "output_type": "stream",
     "text": [
      "+------+-----------------+\n",
      "|gender| tb_so_nam_di_hoc|\n",
      "+------+-----------------+\n",
      "|female|12.92079207920792|\n",
      "+------+-----------------+\n",
      "\n"
     ]
    }
   ],
   "source": [
    "avgyear = spark.sql(\"SELECT gender,avg(year_of_school) as tb_so_nam_di_hoc from practice_pyspark where (gender = 'female' and job = 'sale') group by gender\")\n",
    "avgyear.show()"
   ]
  },
  {
   "cell_type": "code",
   "execution_count": 173,
   "id": "a4c0c59c",
   "metadata": {},
   "outputs": [],
   "source": [
    "avgyear = avgyear.toPandas()"
   ]
  },
  {
   "cell_type": "code",
   "execution_count": 180,
   "id": "42975fd3",
   "metadata": {},
   "outputs": [
    {
     "data": {
      "text/plain": [
       "<AxesSubplot:xlabel='gender', ylabel='tb_so_nam_di_hoc'>"
      ]
     },
     "execution_count": 180,
     "metadata": {},
     "output_type": "execute_result"
    },
    {
     "data": {
      "image/png": "[encoded data removed]",
      "text/plain": [
       "<Figure size 576x360 with 1 Axes>"
      ]
     },
     "metadata": {},
     "output_type": "display_data"
    }
   ],
   "source": [
    "plt.subplots(figsize = (8,5))\n",
    "sns.barplot(x = avgyear['gender'], y = avgyear['tb_so_nam_di_hoc'])"
   ]
  },
  {
   "cell_type": "markdown",
   "id": "2e8ebc16",
   "metadata": {},
   "source": [
    "# bài 4. tuổi tb kh nữ sống ở miền nam và miền trung"
   ]
  },
  {
   "cell_type": "code",
   "execution_count": 136,
   "id": "b878bd9f",
   "metadata": {},
   "outputs": [
    {
     "name": "stdout",
     "output_type": "stream",
     "text": [
      "+--------+------------------+\n",
      "|    area|           avg_age|\n",
      "+--------+------------------+\n",
      "| central|62.794871794871796|\n",
      "|northern| 62.96808510638298|\n",
      "+--------+------------------+\n",
      "\n"
     ]
    }
   ],
   "source": [
    "avgage = spark.sql(\"SELECT area, avg(age) as avg_age from practice_pyspark where (gender = 'female'  and (area = 'northern' or area = 'central'))  group by area\")\n",
    "avgage.show()"
   ]
  },
  {
   "cell_type": "code",
   "execution_count": 175,
   "id": "b3961608",
   "metadata": {},
   "outputs": [],
   "source": [
    "avgage = avgage.toPandas()"
   ]
  },
  {
   "cell_type": "code",
   "execution_count": 178,
   "id": "ac024823",
   "metadata": {},
   "outputs": [
    {
     "data": {
      "text/plain": [
       "<AxesSubplot:xlabel='avg_age', ylabel='area'>"
      ]
     },
     "execution_count": 178,
     "metadata": {},
     "output_type": "execute_result"
    },
    {
     "data": {
      "image/png": "[encoded data removed]",
      "text/plain": [
       "<Figure size 576x360 with 1 Axes>"
      ]
     },
     "metadata": {},
     "output_type": "display_data"
    }
   ],
   "source": [
    "plt.subplots(figsize = (8,5))\n",
    "sns.barplot(y = avgage['area'], x = avgage['avg_age'])"
   ]
  },
  {
   "cell_type": "markdown",
   "id": "83d4b916",
   "metadata": {},
   "source": [
    "# Bài 5. tuổi tb cho 30% kh có tuổi thấp nhất"
   ]
  },
  {
   "cell_type": "code",
   "execution_count": 137,
   "id": "6913baa6",
   "metadata": {},
   "outputs": [
    {
     "name": "stdout",
     "output_type": "stream",
     "text": [
      "+--------+\n",
      "|count(1)|\n",
      "+--------+\n",
      "|     500|\n",
      "+--------+\n",
      "\n"
     ]
    }
   ],
   "source": [
    "count = spark.sql(\"SELECT Count(*) from practice_pyspark\")\n",
    "count.show()"
   ]
  },
  {
   "cell_type": "code",
   "execution_count": 138,
   "id": "83e8ebfa",
   "metadata": {},
   "outputs": [],
   "source": [
    "#30% 500*30% = 150"
   ]
  },
  {
   "cell_type": "code",
   "execution_count": 139,
   "id": "f1d4631d",
   "metadata": {},
   "outputs": [
    {
     "name": "stdout",
     "output_type": "stream",
     "text": [
      "+-----------------+\n",
      "|         avg(age)|\n",
      "+-----------------+\n",
      "|43.85806451612903|\n",
      "+-----------------+\n",
      "\n"
     ]
    }
   ],
   "source": [
    "avgage30 = spark.sql(\"SELECT avg(age)  from practice_pyspark Where age in (SELECT age from practice_pyspark ORDER BY age ASC LIMIT 150 )\")\n",
    "avgage30.show()"
   ]
  },
  {
   "cell_type": "code",
   "execution_count": null,
   "id": "814f4b27",
   "metadata": {},
   "outputs": [],
   "source": []
  },
  {
   "cell_type": "markdown",
   "id": "35554672",
   "metadata": {},
   "source": [
    "# Bài 6. thu nhập tb cho 20% có tuổi thấp nhất"
   ]
  },
  {
   "cell_type": "code",
   "execution_count": 140,
   "id": "3f998277",
   "metadata": {},
   "outputs": [
    {
     "name": "stdout",
     "output_type": "stream",
     "text": [
      "+-----------------+\n",
      "|         avg(age)|\n",
      "+-----------------+\n",
      "|43.85806451612903|\n",
      "+-----------------+\n",
      "\n"
     ]
    }
   ],
   "source": [
    "avgage30 = spark.sql(\"SELECT avg(age)  from practice_pyspark Where age in (SELECT age from practice_pyspark ORDER BY age ASC LIMIT 150 )\")\n",
    "avgage30.show()"
   ]
  },
  {
   "cell_type": "markdown",
   "id": "1a3309ce",
   "metadata": {},
   "source": [
    "# Bài 7: số năm đi học tb cho 10% kh có thu nhập cao nhất"
   ]
  },
  {
   "cell_type": "code",
   "execution_count": 141,
   "id": "48568d93",
   "metadata": {},
   "outputs": [
    {
     "name": "stdout",
     "output_type": "stream",
     "text": [
      "+-------------------+\n",
      "|avg(year_of_school)|\n",
      "+-------------------+\n",
      "| 12.154929577464788|\n",
      "+-------------------+\n",
      "\n"
     ]
    }
   ],
   "source": [
    "avgyear = spark.sql(\"SELECT avg(year_of_school)  from practice_pyspark Where income in (SELECT income from practice_pyspark ORDER BY age DESC LIMIT 50 )\")\n",
    "avgyear.show()"
   ]
  },
  {
   "cell_type": "markdown",
   "id": "a45de0f9",
   "metadata": {},
   "source": [
    "# Bài 8 lập bảng thống kê số lượng khách hàng, tỷ trọng theo từng trình độ"
   ]
  },
  {
   "cell_type": "code",
   "execution_count": 143,
   "id": "4c923a91",
   "metadata": {},
   "outputs": [
    {
     "name": "stdout",
     "output_type": "stream",
     "text": [
      "root\n",
      " |-- Code: string (nullable = true)\n",
      " |-- KnowE: string (nullable = true)\n",
      " |-- KnowF: string (nullable = true)\n",
      " |-- KnowC: string (nullable = true)\n",
      "\n"
     ]
    }
   ],
   "source": [
    "from pyspark.sql.types import StructType,StructField, StringType, IntegerType\n",
    "emptyRDD = spark.sparkContext.emptyRDD()\n",
    "schema = StructType([ \\\n",
    "    StructField(\"Code\",StringType(),True), \\\n",
    "    StructField(\"KnowE\",StringType(),True), \\\n",
    "    StructField(\"KnowF\",StringType(),True), \\\n",
    "    StructField(\"KnowC\", StringType(), True), \\\n",
    "  ])\n",
    " \n",
    "df1 = spark.createDataFrame(emptyRDD,schema)\n",
    "df1.printSchema()"
   ]
  },
  {
   "cell_type": "code",
   "execution_count": 148,
   "id": "c6f1a7c3",
   "metadata": {},
   "outputs": [
    {
     "name": "stdout",
     "output_type": "stream",
     "text": [
      "+----+-----+-----+-----+\n",
      "|Code|KnowE|KnowF|KnowC|\n",
      "+----+-----+-----+-----+\n",
      "+----+-----+-----+-----+\n",
      "\n"
     ]
    }
   ],
   "source": [
    "df1.createOrReplaceTempView(\"Table_Stast\")\n",
    "df3 = spark.sql(\"SELECT * from Table_Stast\")\n",
    "df3.show()"
   ]
  },
  {
   "cell_type": "code",
   "execution_count": 250,
   "id": "c55432b6",
   "metadata": {},
   "outputs": [],
   "source": [
    "data = {'Title':['Số lượng', 'Tỷ trọng'],\n",
    "    'Chỉ biết tiếng anh':[len(ppandas.loc[(ppandas['know_english'] == 1) & (ppandas['know_france']==0) & (ppandas['know_chinese']==0)]),len(ppandas.loc[(ppandas['know_english'] == 1) & (ppandas['know_france']==0) & (ppandas['know_chinese']==0)])/500],\n",
    "       'Chỉ biết tiếng pháp': [len(ppandas.loc[(ppandas['know_english'] == 0) & (ppandas['know_france']==1) & (ppandas['know_chinese']==0)]),len(ppandas.loc[(ppandas['know_english'] == 0) & (ppandas['know_france']==1) & (ppandas['know_chinese']==0)])/500],\n",
    "       'Chỉ biết tiếng Trung Quốc': [len(ppandas.loc[(ppandas['know_english'] == 0) & (ppandas['know_france']==0) & (ppandas['know_chinese']==1)]),len(ppandas.loc[(ppandas['know_english'] == 0) & (ppandas['know_france']==0) & (ppandas['know_chinese']==1)])/500],\n",
    "       'Biết Tiếng anh và Tiếng Pháp':[len(ppandas.loc[(ppandas['know_english'] == 1) & (ppandas['know_france']==1) & (ppandas['know_chinese']==0)]),len(ppandas.loc[(ppandas['know_english'] == 1) & (ppandas['know_france']==1) & (ppandas['know_chinese']==0)])/500],\n",
    "       'Biết Tiếng anh và Tiếng Trung Quốc':[len(ppandas.loc[(ppandas['know_english'] == 1) & (ppandas['know_france']==0) & (ppandas['know_chinese']==1)]),len(ppandas.loc[(ppandas['know_english'] == 1) & (ppandas['know_france']==0) & (ppandas['know_chinese']==1)])/500],\n",
    "       'Biết Tiếng Pháp và Tiếng Trung Quốc':[len(ppandas.loc[(ppandas['know_english'] == 0) & (ppandas['know_france']==1) & (ppandas['know_chinese']==1)]),len(ppandas.loc[(ppandas['know_english'] == 0) & (ppandas['know_france']==1) & (ppandas['know_chinese']==1)])/500],\n",
    "       \"Biết cả 3 ngôn ngữ\":[len(ppandas.loc[(ppandas['know_english'] == 1) & (ppandas['know_france']==1) & (ppandas['know_chinese']==1)]),len(ppandas.loc[(ppandas['know_english'] == 1) & (ppandas['know_france']==1) & (ppandas['know_chinese']==1)])/500],\n",
    "       \"Không biết ngôn ngữ nào\": [len(ppandas.loc[(ppandas['know_english'] == 0) & (ppandas['know_france']==0) & (ppandas['know_chinese']==0)]),len(ppandas.loc[(ppandas['know_english'] == 0) & (ppandas['know_france']==0) & (ppandas['know_chinese']==0)])/500]}"
   ]
  },
  {
   "cell_type": "code",
   "execution_count": 261,
   "id": "31860f1d",
   "metadata": {},
   "outputs": [
    {
     "data": {
      "text/html": [
       "<div>\n",
       "<style scoped>\n",
       "    .dataframe tbody tr th:only-of-type {\n",
       "        vertical-align: middle;\n",
       "    }\n",
       "\n",
       "    .dataframe tbody tr th {\n",
       "        vertical-align: top;\n",
       "    }\n",
       "\n",
       "    .dataframe thead th {\n",
       "        text-align: right;\n",
       "    }\n",
       "</style>\n",
       "<table border=\"1\" class=\"dataframe\">\n",
       "  <thead>\n",
       "    <tr style=\"text-align: right;\">\n",
       "      <th></th>\n",
       "      <th>Title</th>\n",
       "      <th>Chỉ biết tiếng anh</th>\n",
       "      <th>Chỉ biết tiếng pháp</th>\n",
       "      <th>Chỉ biết tiếng Trung Quốc</th>\n",
       "      <th>Biết Tiếng anh và Tiếng Pháp</th>\n",
       "      <th>Biết Tiếng anh và Tiếng Trung Quốc</th>\n",
       "      <th>Biết Tiếng Pháp và Tiếng Trung Quốc</th>\n",
       "      <th>Biết cả 3 ngôn ngữ</th>\n",
       "      <th>Không biết ngôn ngữ nào</th>\n",
       "    </tr>\n",
       "  </thead>\n",
       "  <tbody>\n",
       "    <tr>\n",
       "      <th>0</th>\n",
       "      <td>Số lượng</td>\n",
       "      <td>160.00</td>\n",
       "      <td>17.000</td>\n",
       "      <td>19.000</td>\n",
       "      <td>34.000</td>\n",
       "      <td>31.000</td>\n",
       "      <td>0.0</td>\n",
       "      <td>16.000</td>\n",
       "      <td>223.000</td>\n",
       "    </tr>\n",
       "    <tr>\n",
       "      <th>1</th>\n",
       "      <td>Tỷ trọng</td>\n",
       "      <td>0.32</td>\n",
       "      <td>0.034</td>\n",
       "      <td>0.038</td>\n",
       "      <td>0.068</td>\n",
       "      <td>0.062</td>\n",
       "      <td>0.0</td>\n",
       "      <td>0.032</td>\n",
       "      <td>0.446</td>\n",
       "    </tr>\n",
       "  </tbody>\n",
       "</table>\n",
       "</div>"
      ],
      "text/plain": [
       "      Title  Chỉ biết tiếng anh  Chỉ biết tiếng pháp  \\\n",
       "0  Số lượng              160.00               17.000   \n",
       "1  Tỷ trọng                0.32                0.034   \n",
       "\n",
       "   Chỉ biết tiếng Trung Quốc  Biết Tiếng anh và Tiếng Pháp  \\\n",
       "0                     19.000                        34.000   \n",
       "1                      0.038                         0.068   \n",
       "\n",
       "   Biết Tiếng anh và Tiếng Trung Quốc  Biết Tiếng Pháp và Tiếng Trung Quốc  \\\n",
       "0                              31.000                                  0.0   \n",
       "1                               0.062                                  0.0   \n",
       "\n",
       "   Biết cả 3 ngôn ngữ  Không biết ngôn ngữ nào  \n",
       "0              16.000                  223.000  \n",
       "1               0.032                    0.446  "
      ]
     },
     "execution_count": 261,
     "metadata": {},
     "output_type": "execute_result"
    }
   ],
   "source": [
    "table_statistic1 = pd.DataFrame(data)\n",
    "table_statistic1"
   ]
  },
  {
   "cell_type": "code",
   "execution_count": 262,
   "id": "6841ca95",
   "metadata": {},
   "outputs": [],
   "source": [
    "table_statistic1.set_index('Title',inplace =True)"
   ]
  },
  {
   "cell_type": "code",
   "execution_count": 226,
   "id": "ade4357a",
   "metadata": {},
   "outputs": [
    {
     "data": {
      "text/plain": [
       "Số lượng    500.0\n",
       "Tỷ trọng      1.0\n",
       "dtype: float64"
      ]
     },
     "execution_count": 226,
     "metadata": {},
     "output_type": "execute_result"
    }
   ],
   "source": [
    "#Check xem đủ 500 không\n",
    "table_statistic1.sum(axis = 1)"
   ]
  },
  {
   "cell_type": "code",
   "execution_count": 273,
   "id": "c485e368",
   "metadata": {},
   "outputs": [],
   "source": [
    "dff = table_statistic1.T"
   ]
  },
  {
   "cell_type": "code",
   "execution_count": 283,
   "id": "368e9f0d",
   "metadata": {},
   "outputs": [
    {
     "data": {
      "image/png": "[encoded data removed]",
      "text/plain": [
       "<Figure size 576x360 with 1 Axes>"
      ]
     },
     "metadata": {},
     "output_type": "display_data"
    }
   ],
   "source": [
    "plt.subplots(figsize = (8,5))\n",
    "ax = sns.barplot(data=d, y=dff['Số lượng'].index, x=dff['Số lượng'].values)"
   ]
  },
  {
   "cell_type": "markdown",
   "id": "3cbcfe72",
   "metadata": {},
   "source": [
    "# Bài 9: lập bảng thống kê số lượng kh, tỷ trọng theo nhóm tuổi và giới tính"
   ]
  },
  {
   "cell_type": "code",
   "execution_count": 233,
   "id": "f5ddd4f2",
   "metadata": {},
   "outputs": [],
   "source": [
    "data1 = {'Female':[len(ppandas.loc[ppandas['gender']=='female']),len(ppandas.loc[ppandas['gender']=='female'])/500],\n",
    "        \"Male\":[len(ppandas.loc[ppandas['gender']=='male']),len(ppandas.loc[ppandas['gender']=='male'])/500],\n",
    "         \"Youth\":[len(ppandas.loc[ppandas['age_group']=='youth']),len(ppandas.loc[ppandas['age_group']=='youth'])/500],\n",
    "         \"elder\":[len(ppandas.loc[ppandas['age_group']=='elder']),len(ppandas.loc[ppandas['age_group']=='elder'])/500],\n",
    "         \"middle\":[len(ppandas.loc[ppandas['age_group']=='middle']),len(ppandas.loc[ppandas['age_group']=='middle'])/500]\n",
    "        }"
   ]
  },
  {
   "cell_type": "code",
   "execution_count": 234,
   "id": "f3c11376",
   "metadata": {},
   "outputs": [
    {
     "data": {
      "text/html": [
       "<div>\n",
       "<style scoped>\n",
       "    .dataframe tbody tr th:only-of-type {\n",
       "        vertical-align: middle;\n",
       "    }\n",
       "\n",
       "    .dataframe tbody tr th {\n",
       "        vertical-align: top;\n",
       "    }\n",
       "\n",
       "    .dataframe thead th {\n",
       "        text-align: right;\n",
       "    }\n",
       "</style>\n",
       "<table border=\"1\" class=\"dataframe\">\n",
       "  <thead>\n",
       "    <tr style=\"text-align: right;\">\n",
       "      <th></th>\n",
       "      <th>Female</th>\n",
       "      <th>Male</th>\n",
       "      <th>Youth</th>\n",
       "      <th>elder</th>\n",
       "      <th>middle</th>\n",
       "    </tr>\n",
       "  </thead>\n",
       "  <tbody>\n",
       "    <tr>\n",
       "      <th>Số lượng</th>\n",
       "      <td>229.000</td>\n",
       "      <td>271.000</td>\n",
       "      <td>48.000</td>\n",
       "      <td>99.000</td>\n",
       "      <td>353.000</td>\n",
       "    </tr>\n",
       "    <tr>\n",
       "      <th>Tỷ trọng</th>\n",
       "      <td>0.458</td>\n",
       "      <td>0.542</td>\n",
       "      <td>0.096</td>\n",
       "      <td>0.198</td>\n",
       "      <td>0.706</td>\n",
       "    </tr>\n",
       "  </tbody>\n",
       "</table>\n",
       "</div>"
      ],
      "text/plain": [
       "           Female     Male   Youth   elder   middle\n",
       "Số lượng  229.000  271.000  48.000  99.000  353.000\n",
       "Tỷ trọng    0.458    0.542   0.096   0.198    0.706"
      ]
     },
     "execution_count": 234,
     "metadata": {},
     "output_type": "execute_result"
    }
   ],
   "source": [
    "table_statistic2 = pd.DataFrame(data1, index = ['Số lượng', 'Tỷ trọng'])\n",
    "table_statistic2"
   ]
  },
  {
   "cell_type": "code",
   "execution_count": 236,
   "id": "82c5c626",
   "metadata": {},
   "outputs": [
    {
     "data": {
      "text/plain": [
       "Số lượng    1000.0\n",
       "Tỷ trọng       2.0\n",
       "dtype: float64"
      ]
     },
     "execution_count": 236,
     "metadata": {},
     "output_type": "execute_result"
    }
   ],
   "source": [
    "#Check \n",
    "table_statistic2.sum(axis = 1)"
   ]
  },
  {
   "cell_type": "markdown",
   "id": "dfac9a30",
   "metadata": {},
   "source": [
    "# Bài 10: Vẽ các loại biểu đồ theo các câu trên"
   ]
  },
  {
   "cell_type": "code",
   "execution_count": null,
   "id": "a5ebf7ae",
   "metadata": {},
   "outputs": [],
   "source": []
  }
 ],
 "metadata": {
  "kernelspec": {
   "display_name": "Python 3 (ipykernel)",
   "language": "python",
   "name": "python3"
  },
  "language_info": {
   "codemirror_mode": {
    "name": "ipython",
    "version": 3
   },
   "file_extension": ".py",
   "mimetype": "text/x-python",
   "name": "python",
   "nbconvert_exporter": "python",
   "pygments_lexer": "ipython3",
   "version": "3.9.6"
  }
 },
 "nbformat": 4,
 "nbformat_minor": 5
}
