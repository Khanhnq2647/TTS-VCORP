{
 "cells": [
  {
   "cell_type": "code",
   "execution_count": 1,
   "id": "09da3648",
   "metadata": {},
   "outputs": [],
   "source": [
    "import pandas as pd\n",
    "import matplotlib.pyplot as plt\n",
    "%matplotlib inline\n",
    "import seaborn as sns\n",
    "import glob\n",
    "from pyspark.sql.types import IntegerType, FloatType\n",
    "from pyspark.sql import SparkSession, DataFrame\n",
    "import findspark\n",
    "import pyspark.sql.functions as F\n",
    "from pyspark.sql.functions import *"
   ]
  },
  {
   "cell_type": "code",
   "execution_count": 2,
   "id": "090e5859",
   "metadata": {},
   "outputs": [
    {
     "data": {
      "text/plain": [
       "'C:\\\\Spark\\\\spark-3.0.3-bin-hadoop2.7'"
      ]
     },
     "execution_count": 2,
     "metadata": {},
     "output_type": "execute_result"
    }
   ],
   "source": [
    "findspark.init()\n",
    "findspark.find()"
   ]
  },
  {
   "cell_type": "code",
   "execution_count": 3,
   "id": "c1dc72a7",
   "metadata": {},
   "outputs": [],
   "source": [
    "spark = SparkSession \\\n",
    ".builder \\\n",
    ".appName(\"Practice\") \\\n",
    ".config(\"spark.some.config.option\", \"some-value\") \\\n",
    ".getOrCreate()"
   ]
  },
  {
   "cell_type": "code",
   "execution_count": 4,
   "id": "ab0ccfd9",
   "metadata": {
    "scrolled": true
   },
   "outputs": [
    {
     "name": "stdout",
     "output_type": "stream",
     "text": [
      "+----+--------+------+---+---------+--------------+---------+-------+------------+-----------+------------+------+------------+-----------+-------------+--------------------+-----------------+-----------------+----------+------------------+-----------------+--------------------+-----------------+\n",
      "|Code|    area|gender|age|age_group|year_of_school|   degree|    job|know_english|know_france|know_chinese|income|booking_date|flight_date|flight_status|professionally_staff|customer_service |diversity_product|good_price|easily_transaction|goodlooking_staff|diversity_flighttime|good_construction|\n",
      "+----+--------+------+---+---------+--------------+---------+-------+------------+-----------+------------+------+------------+-----------+-------------+--------------------+-----------------+-----------------+----------+------------------+-----------------+--------------------+-----------------+\n",
      "|   1| central|female| 69|   middle|            16|   master|manager|           1|          1|           1| 33250|  06/04/2013| 01/05/2013|            1|                   2|                2|                1|         1|                 2|                2|                   1|                1|\n",
      "|   2|southern|female| 50|   middle|            12|highshool|officer|           0|          0|           0|  6960|  15/03/2013| 01/05/2013|            1|                   3|                3|                3|         2|                 3|                3|                   2|                3|\n",
      "|   3|northern|  male| 73|    elder|            12|highshool|officer|           1|          0|           0| 11100|  24/01/2013| 01/05/2013|            1|                   2|                2|                1|         2|                 3|                5|                   1|                1|\n",
      "|   4|northern|female| 73|    elder|            12|highshool|officer|           0|          0|           0| 11100|  15/01/2013| 01/05/2013|            1|                   5|                3|                2|         4|                 5|                3|                   2|                2|\n",
      "|   5| central|  male| 69|   middle|            16|   master|officer|           1|          0|           0| 16140|  14/11/2012| 01/05/2013|            0|                   3|                3|                3|         3|                 3|                3|                   3|                3|\n",
      "+----+--------+------+---+---------+--------------+---------+-------+------------+-----------+------------+------+------------+-----------+-------------+--------------------+-----------------+-----------------+----------+------------------+-----------------+--------------------+-----------------+\n",
      "only showing top 5 rows\n",
      "\n",
      "root\n",
      " |-- Code: string (nullable = true)\n",
      " |-- area: string (nullable = true)\n",
      " |-- gender: string (nullable = true)\n",
      " |-- age: string (nullable = true)\n",
      " |-- age_group: string (nullable = true)\n",
      " |-- year_of_school: string (nullable = true)\n",
      " |-- degree: string (nullable = true)\n",
      " |-- job: string (nullable = true)\n",
      " |-- know_english: string (nullable = true)\n",
      " |-- know_france: string (nullable = true)\n",
      " |-- know_chinese: string (nullable = true)\n",
      " |-- income: string (nullable = true)\n",
      " |-- booking_date: string (nullable = true)\n",
      " |-- flight_date: string (nullable = true)\n",
      " |-- flight_status: string (nullable = true)\n",
      " |-- professionally_staff: string (nullable = true)\n",
      " |-- customer_service : string (nullable = true)\n",
      " |-- diversity_product: string (nullable = true)\n",
      " |-- good_price: string (nullable = true)\n",
      " |-- easily_transaction: string (nullable = true)\n",
      " |-- goodlooking_staff: string (nullable = true)\n",
      " |-- diversity_flighttime: string (nullable = true)\n",
      " |-- good_construction: string (nullable = true)\n",
      "\n"
     ]
    }
   ],
   "source": [
    "df = spark.read.csv(\".\\data\\practive pyspark.csv\", header =True)\n",
    "df.show(5)\n",
    "df.printSchema()"
   ]
  },
  {
   "cell_type": "markdown",
   "id": "601de8c0",
   "metadata": {},
   "source": [
    "# Clean Data"
   ]
  },
  {
   "cell_type": "code",
   "execution_count": 5,
   "id": "9db79f17",
   "metadata": {},
   "outputs": [
    {
     "name": "stdout",
     "output_type": "stream",
     "text": [
      "root\n",
      " |-- Code: integer (nullable = true)\n",
      " |-- area: string (nullable = true)\n",
      " |-- gender: string (nullable = true)\n",
      " |-- age: float (nullable = true)\n",
      " |-- age_group: string (nullable = true)\n",
      " |-- year_of_school: integer (nullable = true)\n",
      " |-- degree: string (nullable = true)\n",
      " |-- job: string (nullable = true)\n",
      " |-- know_english: integer (nullable = true)\n",
      " |-- know_france: integer (nullable = true)\n",
      " |-- know_chinese: integer (nullable = true)\n",
      " |-- income: float (nullable = true)\n",
      " |-- booking_date: string (nullable = true)\n",
      " |-- flight_date: string (nullable = true)\n",
      " |-- flight_status: integer (nullable = true)\n",
      " |-- professionally_staff: integer (nullable = true)\n",
      " |-- customer_service : integer (nullable = true)\n",
      " |-- diversity_product: integer (nullable = true)\n",
      " |-- good_price: integer (nullable = true)\n",
      " |-- easily_transaction: integer (nullable = true)\n",
      " |-- goodlooking_staff: integer (nullable = true)\n",
      " |-- diversity_flighttime: integer (nullable = true)\n",
      " |-- good_construction: integer (nullable = true)\n",
      "\n"
     ]
    }
   ],
   "source": [
    "#Convering str to numberic\n",
    "df = df.withColumn('Code', F.col('Code').cast(IntegerType()))\\\n",
    "        .withColumn('age', F.col('age').cast(FloatType()))\\\n",
    "        .withColumn('year_of_school',F.col('year_of_school').cast(IntegerType()))\\\n",
    "        .withColumn('know_english', F.col('know_english').cast(IntegerType()))\\\n",
    "        .withColumn('know_france', F.col('know_france').cast(IntegerType()))\\\n",
    "        .withColumn('know_chinese', F.col('know_chinese').cast(IntegerType()))\\\n",
    "        .withColumn('income', F.col('income').cast(FloatType()))\\\n",
    "        .withColumn('flight_status', F.col('flight_status').cast(IntegerType()))\\\n",
    "        .withColumn('professionally_staff', F.col('professionally_staff').cast(IntegerType()))\\\n",
    "        .withColumn('customer_service ', F.col('customer_service ').cast(IntegerType()))\\\n",
    "        .withColumn('diversity_product', F.col('diversity_product').cast(IntegerType()))\\\n",
    "        .withColumn('good_price', F.col('good_price').cast(IntegerType()))\\\n",
    "        .withColumn('easily_transaction', F.col('easily_transaction').cast(IntegerType()))\\\n",
    "        .withColumn('goodlooking_staff', F.col('goodlooking_staff').cast(IntegerType()))\\\n",
    "        .withColumn('diversity_flighttime', F.col('diversity_flighttime').cast(IntegerType()))\\\n",
    "        .withColumn('good_construction', F.col('good_construction').cast(IntegerType()))\n",
    "df.printSchema()"
   ]
  },
  {
   "cell_type": "code",
   "execution_count": 6,
   "id": "bebd4331",
   "metadata": {},
   "outputs": [
    {
     "data": {
      "text/html": [
       "<div>\n",
       "<style scoped>\n",
       "    .dataframe tbody tr th:only-of-type {\n",
       "        vertical-align: middle;\n",
       "    }\n",
       "\n",
       "    .dataframe tbody tr th {\n",
       "        vertical-align: top;\n",
       "    }\n",
       "\n",
       "    .dataframe thead th {\n",
       "        text-align: right;\n",
       "    }\n",
       "</style>\n",
       "<table border=\"1\" class=\"dataframe\">\n",
       "  <thead>\n",
       "    <tr style=\"text-align: right;\">\n",
       "      <th></th>\n",
       "      <th>Code</th>\n",
       "      <th>area</th>\n",
       "      <th>gender</th>\n",
       "      <th>age</th>\n",
       "      <th>age_group</th>\n",
       "      <th>year_of_school</th>\n",
       "      <th>degree</th>\n",
       "      <th>job</th>\n",
       "      <th>know_english</th>\n",
       "      <th>know_france</th>\n",
       "      <th>...</th>\n",
       "      <th>flight_date</th>\n",
       "      <th>flight_status</th>\n",
       "      <th>professionally_staff</th>\n",
       "      <th>customer_service</th>\n",
       "      <th>diversity_product</th>\n",
       "      <th>good_price</th>\n",
       "      <th>easily_transaction</th>\n",
       "      <th>goodlooking_staff</th>\n",
       "      <th>diversity_flighttime</th>\n",
       "      <th>good_construction</th>\n",
       "    </tr>\n",
       "  </thead>\n",
       "  <tbody>\n",
       "    <tr>\n",
       "      <th>0</th>\n",
       "      <td>1</td>\n",
       "      <td>central</td>\n",
       "      <td>female</td>\n",
       "      <td>69.0</td>\n",
       "      <td>middle</td>\n",
       "      <td>16</td>\n",
       "      <td>master</td>\n",
       "      <td>manager</td>\n",
       "      <td>1</td>\n",
       "      <td>1</td>\n",
       "      <td>...</td>\n",
       "      <td>01/05/2013</td>\n",
       "      <td>1</td>\n",
       "      <td>2</td>\n",
       "      <td>2</td>\n",
       "      <td>1</td>\n",
       "      <td>1</td>\n",
       "      <td>2</td>\n",
       "      <td>2</td>\n",
       "      <td>1</td>\n",
       "      <td>1</td>\n",
       "    </tr>\n",
       "    <tr>\n",
       "      <th>1</th>\n",
       "      <td>2</td>\n",
       "      <td>southern</td>\n",
       "      <td>female</td>\n",
       "      <td>50.0</td>\n",
       "      <td>middle</td>\n",
       "      <td>12</td>\n",
       "      <td>highshool</td>\n",
       "      <td>officer</td>\n",
       "      <td>0</td>\n",
       "      <td>0</td>\n",
       "      <td>...</td>\n",
       "      <td>01/05/2013</td>\n",
       "      <td>1</td>\n",
       "      <td>3</td>\n",
       "      <td>3</td>\n",
       "      <td>3</td>\n",
       "      <td>2</td>\n",
       "      <td>3</td>\n",
       "      <td>3</td>\n",
       "      <td>2</td>\n",
       "      <td>3</td>\n",
       "    </tr>\n",
       "    <tr>\n",
       "      <th>2</th>\n",
       "      <td>3</td>\n",
       "      <td>northern</td>\n",
       "      <td>male</td>\n",
       "      <td>73.0</td>\n",
       "      <td>elder</td>\n",
       "      <td>12</td>\n",
       "      <td>highshool</td>\n",
       "      <td>officer</td>\n",
       "      <td>1</td>\n",
       "      <td>0</td>\n",
       "      <td>...</td>\n",
       "      <td>01/05/2013</td>\n",
       "      <td>1</td>\n",
       "      <td>2</td>\n",
       "      <td>2</td>\n",
       "      <td>1</td>\n",
       "      <td>2</td>\n",
       "      <td>3</td>\n",
       "      <td>5</td>\n",
       "      <td>1</td>\n",
       "      <td>1</td>\n",
       "    </tr>\n",
       "    <tr>\n",
       "      <th>3</th>\n",
       "      <td>4</td>\n",
       "      <td>northern</td>\n",
       "      <td>female</td>\n",
       "      <td>73.0</td>\n",
       "      <td>elder</td>\n",
       "      <td>12</td>\n",
       "      <td>highshool</td>\n",
       "      <td>officer</td>\n",
       "      <td>0</td>\n",
       "      <td>0</td>\n",
       "      <td>...</td>\n",
       "      <td>01/05/2013</td>\n",
       "      <td>1</td>\n",
       "      <td>5</td>\n",
       "      <td>3</td>\n",
       "      <td>2</td>\n",
       "      <td>4</td>\n",
       "      <td>5</td>\n",
       "      <td>3</td>\n",
       "      <td>2</td>\n",
       "      <td>2</td>\n",
       "    </tr>\n",
       "    <tr>\n",
       "      <th>4</th>\n",
       "      <td>5</td>\n",
       "      <td>central</td>\n",
       "      <td>male</td>\n",
       "      <td>69.0</td>\n",
       "      <td>middle</td>\n",
       "      <td>16</td>\n",
       "      <td>master</td>\n",
       "      <td>officer</td>\n",
       "      <td>1</td>\n",
       "      <td>0</td>\n",
       "      <td>...</td>\n",
       "      <td>01/05/2013</td>\n",
       "      <td>0</td>\n",
       "      <td>3</td>\n",
       "      <td>3</td>\n",
       "      <td>3</td>\n",
       "      <td>3</td>\n",
       "      <td>3</td>\n",
       "      <td>3</td>\n",
       "      <td>3</td>\n",
       "      <td>3</td>\n",
       "    </tr>\n",
       "  </tbody>\n",
       "</table>\n",
       "<p>5 rows × 23 columns</p>\n",
       "</div>"
      ],
      "text/plain": [
       "   Code      area  gender   age age_group  year_of_school     degree      job  \\\n",
       "0     1   central  female  69.0    middle              16     master  manager   \n",
       "1     2  southern  female  50.0    middle              12  highshool  officer   \n",
       "2     3  northern    male  73.0     elder              12  highshool  officer   \n",
       "3     4  northern  female  73.0     elder              12  highshool  officer   \n",
       "4     5   central    male  69.0    middle              16     master  officer   \n",
       "\n",
       "   know_english  know_france  ...  flight_date  flight_status  \\\n",
       "0             1            1  ...   01/05/2013              1   \n",
       "1             0            0  ...   01/05/2013              1   \n",
       "2             1            0  ...   01/05/2013              1   \n",
       "3             0            0  ...   01/05/2013              1   \n",
       "4             1            0  ...   01/05/2013              0   \n",
       "\n",
       "  professionally_staff customer_service   diversity_product  good_price  \\\n",
       "0                    2                 2                  1           1   \n",
       "1                    3                 3                  3           2   \n",
       "2                    2                 2                  1           2   \n",
       "3                    5                 3                  2           4   \n",
       "4                    3                 3                  3           3   \n",
       "\n",
       "   easily_transaction  goodlooking_staff  diversity_flighttime  \\\n",
       "0                   2                  2                     1   \n",
       "1                   3                  3                     2   \n",
       "2                   3                  5                     1   \n",
       "3                   5                  3                     2   \n",
       "4                   3                  3                     3   \n",
       "\n",
       "   good_construction  \n",
       "0                  1  \n",
       "1                  3  \n",
       "2                  1  \n",
       "3                  2  \n",
       "4                  3  \n",
       "\n",
       "[5 rows x 23 columns]"
      ]
     },
     "execution_count": 6,
     "metadata": {},
     "output_type": "execute_result"
    }
   ],
   "source": [
    "ppandas = df.toPandas()\n",
    "ppandas.head()"
   ]
  },
  {
   "cell_type": "markdown",
   "id": "d92eab75",
   "metadata": {},
   "source": [
    "# Bài 1 thu nhập trung bình? mốt và trung vị về thu nhập"
   ]
  },
  {
   "cell_type": "code",
   "execution_count": 7,
   "id": "741844ee",
   "metadata": {},
   "outputs": [
    {
     "name": "stdout",
     "output_type": "stream",
     "text": [
      "tthu nhập trung bình, mốt và trung vị về thu nhập là:\n",
      "+-------+----------------+\n",
      "|summary|          income|\n",
      "+-------+----------------+\n",
      "|  count|             500|\n",
      "|   mean|        13859.62|\n",
      "| stddev|7144.29879569467|\n",
      "|    min|          6300.0|\n",
      "|    max|         54000.0|\n",
      "+-------+----------------+\n",
      "\n",
      "median is: [65.0]\n"
     ]
    }
   ],
   "source": [
    "print(\"tthu nhập trung bình, mốt và trung vị về thu nhập là:\")\n",
    "df.describe(['income']).show()\n",
    "med = df.approxQuantile(\"age\", [0.5],0)\n",
    "print(\"median is:\", med)"
   ]
  },
  {
   "cell_type": "code",
   "execution_count": 8,
   "id": "2b90ef7c",
   "metadata": {},
   "outputs": [],
   "source": [
    "#PySpark SQL Tutorial\n",
    "df.createOrReplaceTempView(\"practice_pyspark\")\n",
    "df2 = spark.sql(\"SELECT * from practice_pyspark\")"
   ]
  },
  {
   "cell_type": "code",
   "execution_count": 9,
   "id": "50605f58",
   "metadata": {},
   "outputs": [
    {
     "name": "stdout",
     "output_type": "stream",
     "text": [
      "Mode là: \n",
      "+-------+---------+\n",
      "| income|frequence|\n",
      "+-------+---------+\n",
      "|12300.0|       13|\n",
      "+-------+---------+\n",
      "\n"
     ]
    }
   ],
   "source": [
    "print(\"Mode là: \")\n",
    "mode = spark.sql(\"SELECT income, count(income) as frequence FROM practice_pyspark GROUP by income order by frequence DESC LIMIT 1 \")\n",
    "mode.show()"
   ]
  },
  {
   "cell_type": "code",
   "execution_count": 10,
   "id": "ddb6e23c",
   "metadata": {},
   "outputs": [
    {
     "data": {
      "text/plain": [
       "<AxesSubplot:ylabel='income'>"
      ]
     },
     "execution_count": 10,
     "metadata": {},
     "output_type": "execute_result"
    },
    {
     "data": {
      "image/png": "[encoded data removed]",
      "text/plain": [
       "<Figure size 576x360 with 1 Axes>"
      ]
     },
     "metadata": {
      "needs_background": "light"
     },
     "output_type": "display_data"
    }
   ],
   "source": [
    "plt.subplots(figsize = (8,5))\n",
    "sns.set_theme(style=\"whitegrid\")\n",
    "sns.boxplot(y=ppandas[\"income\"])"
   ]
  },
  {
   "cell_type": "markdown",
   "id": "be1211c2",
   "metadata": {},
   "source": [
    "# Bài 2. thu nhập trung bình từng khu vực"
   ]
  },
  {
   "cell_type": "code",
   "execution_count": 11,
   "id": "d5d7823d",
   "metadata": {},
   "outputs": [
    {
     "name": "stdout",
     "output_type": "stream",
     "text": [
      "+--------+------------------+\n",
      "|    area|       avg(income)|\n",
      "+--------+------------------+\n",
      "| central| 19586.09661835749|\n",
      "|southern| 8209.814814814816|\n",
      "|northern|10750.421621621621|\n",
      "+--------+------------------+\n",
      "\n"
     ]
    }
   ],
   "source": [
    "avgincome = df.groupby(\"area\").avg(\"income\")\n",
    "avgincome.show()"
   ]
  },
  {
   "cell_type": "markdown",
   "id": "1377526f",
   "metadata": {},
   "source": [
    "# Bài 3. số năm đi học tb đối với kh nam và là nv kinh doanh"
   ]
  },
  {
   "cell_type": "code",
   "execution_count": 12,
   "id": "134e2960",
   "metadata": {
    "scrolled": true
   },
   "outputs": [
    {
     "name": "stdout",
     "output_type": "stream",
     "text": [
      "+------+----+-------------------+\n",
      "|gender| job|avg(year_of_school)|\n",
      "+------+----+-------------------+\n",
      "|  male|sale| 13.922413793103448|\n",
      "+------+----+-------------------+\n",
      "\n"
     ]
    }
   ],
   "source": [
    "avgyear = df.groupBy(\"gender\",\"job\").avg(\"year_of_school\").where((col(\"gender\")=='male')&(col(\"job\")==\"sale\")).show()"
   ]
  },
  {
   "cell_type": "markdown",
   "id": "2e8ebc16",
   "metadata": {},
   "source": [
    "# bài 4. tuổi tb kh nữ sống ở miền nam và miền trung"
   ]
  },
  {
   "cell_type": "code",
   "execution_count": 13,
   "id": "e9ff7794",
   "metadata": {},
   "outputs": [
    {
     "name": "stdout",
     "output_type": "stream",
     "text": [
      "+--------+------------------+\n",
      "|area    |avg(age)          |\n",
      "+--------+------------------+\n",
      "|central |61.38647342995169 |\n",
      "|northern|61.972972972972975|\n",
      "+--------+------------------+\n",
      "\n"
     ]
    }
   ],
   "source": [
    "avgage = df.groupBy(\"area\").avg(\"age\").where(col(\"area\")!='southern')\n",
    "avgage.show(truncate=False)        "
   ]
  },
  {
   "cell_type": "code",
   "execution_count": 14,
   "id": "3d29ff81",
   "metadata": {},
   "outputs": [],
   "source": [
    "avgage = avgage.toPandas()"
   ]
  },
  {
   "cell_type": "code",
   "execution_count": 15,
   "id": "ed295298",
   "metadata": {},
   "outputs": [
    {
     "data": {
      "text/plain": [
       "<AxesSubplot:xlabel='area', ylabel='avg(age)'>"
      ]
     },
     "execution_count": 15,
     "metadata": {},
     "output_type": "execute_result"
    },
    {
     "data": {
      "image/png": "[encoded data removed]",
      "text/plain": [
       "<Figure size 576x360 with 1 Axes>"
      ]
     },
     "metadata": {},
     "output_type": "display_data"
    }
   ],
   "source": [
    "plt.subplots(figsize = (8,5))\n",
    "sns.set_theme(style=\"whitegrid\")\n",
    "sns.barplot(x=avgage[\"area\"], y = avgage['avg(age)'])"
   ]
  },
  {
   "cell_type": "markdown",
   "id": "83d4b916",
   "metadata": {},
   "source": [
    "# Bài 5. tuổi tb cho 30% kh có tuổi thấp nhất"
   ]
  },
  {
   "cell_type": "code",
   "execution_count": 40,
   "id": "f1d4631d",
   "metadata": {
    "scrolled": true
   },
   "outputs": [
    {
     "name": "stdout",
     "output_type": "stream",
     "text": [
      "+-----------------+\n",
      "|         avg(age)|\n",
      "+-----------------+\n",
      "|43.85806451612903|\n",
      "+-----------------+\n",
      "\n"
     ]
    }
   ],
   "source": [
    "avgage30 = spark.sql(\"SELECT avg(age)  from practice_pyspark Where age in (SELECT age from practice_pyspark ORDER BY age ASC LIMIT 150 )\")\n",
    "avgage30.show()"
   ]
  },
  {
   "cell_type": "code",
   "execution_count": 53,
   "id": "814f4b27",
   "metadata": {},
   "outputs": [
    {
     "name": "stdout",
     "output_type": "stream",
     "text": [
      "+-----------------+\n",
      "|         avg(age)|\n",
      "+-----------------+\n",
      "|43.33108108108108|\n",
      "+-----------------+\n",
      "\n"
     ]
    }
   ],
   "source": [
    "#Cách 2\n",
    "df.filter(col('age') < df.approxQuantile(\"age\", [0.3], 0)[0]).agg(avg(col('age'))).show() "
   ]
  },
  {
   "cell_type": "markdown",
   "id": "35554672",
   "metadata": {},
   "source": [
    "# Bài 6. thu nhập tb cho 20% có tuổi thấp nhất"
   ]
  },
  {
   "cell_type": "code",
   "execution_count": 37,
   "id": "3f998277",
   "metadata": {},
   "outputs": [
    {
     "name": "stdout",
     "output_type": "stream",
     "text": [
      "+------------------+\n",
      "|       avg(income)|\n",
      "+------------------+\n",
      "|10286.960784313726|\n",
      "+------------------+\n",
      "\n"
     ]
    }
   ],
   "source": [
    "avgincome20 = spark.sql(\"SELECT avg(income)  from practice_pyspark Where age in (SELECT age from practice_pyspark ORDER BY age ASC LIMIT 100 )\")\n",
    "avgincome20.show()"
   ]
  },
  {
   "cell_type": "code",
   "execution_count": 54,
   "id": "dfcb07b4",
   "metadata": {},
   "outputs": [
    {
     "name": "stdout",
     "output_type": "stream",
     "text": [
      "+------------------+\n",
      "|       avg(income)|\n",
      "+------------------+\n",
      "|10321.028037383177|\n",
      "+------------------+\n",
      "\n"
     ]
    }
   ],
   "source": [
    "#cách 2\n",
    "df.filter(col('age') < df.approxQuantile(\"age\", [0.2], 0.05)[0]).agg(avg(col('income'))).show() "
   ]
  },
  {
   "cell_type": "markdown",
   "id": "1a3309ce",
   "metadata": {},
   "source": [
    "# Bài 7: số năm đi học tb cho 10% kh có thu nhập cao nhất"
   ]
  },
  {
   "cell_type": "code",
   "execution_count": 46,
   "id": "48568d93",
   "metadata": {},
   "outputs": [
    {
     "name": "stdout",
     "output_type": "stream",
     "text": [
      "+-------------------+\n",
      "|avg(year_of_school)|\n",
      "+-------------------+\n",
      "|              17.94|\n",
      "+-------------------+\n",
      "\n"
     ]
    }
   ],
   "source": [
    "avgyear = spark.sql(\"SELECT avg(year_of_school)  from practice_pyspark Where income in (SELECT income from practice_pyspark ORDER BY income DESC LIMIT 50 )\")\n",
    "avgyear.show()"
   ]
  },
  {
   "cell_type": "code",
   "execution_count": 48,
   "id": "1b1999c6",
   "metadata": {},
   "outputs": [
    {
     "name": "stdout",
     "output_type": "stream",
     "text": [
      "+-------------------+\n",
      "|avg(year_of_school)|\n",
      "+-------------------+\n",
      "|              17.94|\n",
      "+-------------------+\n",
      "\n"
     ]
    }
   ],
   "source": [
    "#cách 2\n",
    "df.filter(col('income') > df.approxQuantile(\"income\", [0.9], 0)[0]).agg(avg(col('year_of_school'))).show() "
   ]
  },
  {
   "cell_type": "markdown",
   "id": "a45de0f9",
   "metadata": {},
   "source": [
    "# Bài 8 lập bảng thống kê số lượng khách hàng, tỷ trọng theo từng trình độ"
   ]
  },
  {
   "cell_type": "code",
   "execution_count": 162,
   "id": "a65d486f",
   "metadata": {},
   "outputs": [
    {
     "name": "stdout",
     "output_type": "stream",
     "text": [
      "root\n",
      " |-- count: long (nullable = false)\n",
      " |-- bachelor: long (nullable = true)\n",
      " |-- highshool: long (nullable = true)\n",
      " |-- master: long (nullable = true)\n",
      "\n",
      "+-----+--------+---------+------+\n",
      "|count|bachelor|highshool|master|\n",
      "+-----+--------+---------+------+\n",
      "|1    |129     |257      |114   |\n",
      "+-----+--------+---------+------+\n",
      "\n"
     ]
    }
   ],
   "source": [
    "df8 = df.groupBy('degree','code').count()\n",
    "pivotDF  = df8.groupBy(\"count\").pivot(\"degree\").sum('count')\n",
    "pivotDF.printSchema()\n",
    "pivotDF.show(truncate=False)"
   ]
  },
  {
   "cell_type": "markdown",
   "id": "3cbcfe72",
   "metadata": {},
   "source": [
    "# Bài 9: lập bảng thống kê số lượng kh, tỷ trọng theo nhóm tuổi và giới tính"
   ]
  },
  {
   "cell_type": "code",
   "execution_count": 211,
   "id": "83265045",
   "metadata": {},
   "outputs": [
    {
     "name": "stdout",
     "output_type": "stream",
     "text": [
      "root\n",
      " |-- age: float (nullable = true)\n",
      " |-- female: long (nullable = true)\n",
      " |-- male: long (nullable = true)\n",
      "\n",
      "+----+------+----+\n",
      "|age |female|male|\n",
      "+----+------+----+\n",
      "|64.0|4     |12  |\n",
      "|47.0|4     |3   |\n",
      "|58.0|1     |6   |\n",
      "|39.0|3     |2   |\n",
      "|41.0|4     |2   |\n",
      "|67.0|8     |39  |\n",
      "|49.0|5     |2   |\n",
      "|56.0|2     |4   |\n",
      "|54.0|1     |4   |\n",
      "|55.0|2     |5   |\n",
      "|38.0|3     |2   |\n",
      "|51.0|5     |5   |\n",
      "|48.0|3     |2   |\n",
      "|66.0|4     |22  |\n",
      "|72.0|26    |5   |\n",
      "|70.0|16    |6   |\n",
      "|65.0|7     |23  |\n",
      "|43.0|6     |3   |\n",
      "|53.0|2     |2   |\n",
      "|68.0|9     |25  |\n",
      "+----+------+----+\n",
      "only showing top 20 rows\n",
      "\n"
     ]
    }
   ],
   "source": [
    "df3 = df.groupBy('age','gender','code').count()\n",
    "pivotDF  = df3.groupBy(\"age\").pivot(\"gender\").sum('count')\n",
    "pivotDF.printSchema()\n",
    "pivotDF.show(truncate=False)"
   ]
  },
  {
   "cell_type": "code",
   "execution_count": 212,
   "id": "7212e95d",
   "metadata": {},
   "outputs": [],
   "source": [
    "pivotDF = pivotDF.toPandas()"
   ]
  },
  {
   "cell_type": "code",
   "execution_count": 209,
   "id": "a9d29e77",
   "metadata": {},
   "outputs": [
    {
     "data": {
      "text/plain": [
       "<AxesSubplot:>"
      ]
     },
     "execution_count": 209,
     "metadata": {},
     "output_type": "execute_result"
    },
    {
     "data": {
      "image/png": "[encoded data removed]",
      "text/plain": [
       "<Figure size 1080x720 with 2 Axes>"
      ]
     },
     "metadata": {},
     "output_type": "display_data"
    }
   ],
   "source": [
    "plt.figure(figsize=(15,10))\n",
    "palette = sns.cubehelix_palette(as_cmap=True)\n",
    "sns.heatmap(pivotDF,cmap=palette, annot=True)"
   ]
  },
  {
   "cell_type": "markdown",
   "id": "dfac9a30",
   "metadata": {},
   "source": [
    "# Bài 10: Vẽ các loại biểu đồ theo các câu trên"
   ]
  }
 ],
 "metadata": {
  "kernelspec": {
   "display_name": "Python 3 (ipykernel)",
   "language": "python",
   "name": "python3"
  },
  "language_info": {
   "codemirror_mode": {
    "name": "ipython",
    "version": 3
   },
   "file_extension": ".py",
   "mimetype": "text/x-python",
   "name": "python",
   "nbconvert_exporter": "python",
   "pygments_lexer": "ipython3",
   "version": "3.9.6"
  }
 },
 "nbformat": 4,
 "nbformat_minor": 5
}
