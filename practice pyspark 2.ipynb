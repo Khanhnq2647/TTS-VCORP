{
 "cells": [
  {
   "cell_type": "code",
   "execution_count": 1,
   "id": "c371e81b",
   "metadata": {},
   "outputs": [],
   "source": [
    "import pandas as pd\n",
    "import matplotlib.pyplot as plt\n",
    "%matplotlib inline\n",
    "import seaborn as sns\n",
    "import glob\n",
    "from pyspark.sql.types import IntegerType, FloatType ,DateType\n",
    "from pyspark.sql import SparkSession, DataFrame\n",
    "import findspark\n",
    "import pyspark.sql.functions as F\n",
    "import pyspark.sql.functions as f\n",
    "from pyspark.sql.functions import *\n",
    "sns.set_style('whitegrid')\n",
    "import matplotlib.pyplot as plt"
   ]
  },
  {
   "cell_type": "code",
   "execution_count": 2,
   "id": "92782915",
   "metadata": {},
   "outputs": [
    {
     "data": {
      "text/plain": [
       "'C:\\\\Spark\\\\spark-3.0.3-bin-hadoop2.7'"
      ]
     },
     "execution_count": 2,
     "metadata": {},
     "output_type": "execute_result"
    }
   ],
   "source": [
    "findspark.init()\n",
    "findspark.find()"
   ]
  },
  {
   "cell_type": "code",
   "execution_count": 3,
   "id": "db26c98b",
   "metadata": {},
   "outputs": [],
   "source": [
    "spark = SparkSession \\\n",
    "    .builder \\\n",
    "    .appName(\"Practice pyspark 2\") \\\n",
    "    .config(\"spark.some.config.option\", \"some-value\") \\\n",
    "    .getOrCreate()"
   ]
  },
  {
   "cell_type": "code",
   "execution_count": 33,
   "id": "5de84dac",
   "metadata": {},
   "outputs": [
    {
     "name": "stdout",
     "output_type": "stream",
     "text": [
      "+----+--------+------+---+---------+--------------+---------+-------+------------+-----------+------------+------+------------+-----------+-------------+--------------------+-----------------+-----------------+----------+------------------+-----------------+--------------------+-----------------+\n",
      "|Code|    area|gender|age|age_group|year_of_school|   degree|    job|know_english|know_france|know_chinese|income|booking_date|flight_date|flight_status|professionally_staff|customer_service |diversity_product|good_price|easily_transaction|goodlooking_staff|diversity_flighttime|good_construction|\n",
      "+----+--------+------+---+---------+--------------+---------+-------+------------+-----------+------------+------+------------+-----------+-------------+--------------------+-----------------+-----------------+----------+------------------+-----------------+--------------------+-----------------+\n",
      "|   1| central|female| 69|   middle|            16|   master|manager|           1|          1|           1| 33250|  06/04/2013| 01/05/2013|            1|                   2|                2|                1|         1|                 2|                2|                   1|                1|\n",
      "|   2|southern|female| 50|   middle|            12|highshool|officer|           0|          0|           0|  6960|  15/03/2013| 01/05/2013|            1|                   3|                3|                3|         2|                 3|                3|                   2|                3|\n",
      "|   3|northern|  male| 73|    elder|            12|highshool|officer|           1|          0|           0| 11100|  24/01/2013| 01/05/2013|            1|                   2|                2|                1|         2|                 3|                5|                   1|                1|\n",
      "|   4|northern|female| 73|    elder|            12|highshool|officer|           0|          0|           0| 11100|  15/01/2013| 01/05/2013|            1|                   5|                3|                2|         4|                 5|                3|                   2|                2|\n",
      "|   5| central|  male| 69|   middle|            16|   master|officer|           1|          0|           0| 16140|  14/11/2012| 01/05/2013|            0|                   3|                3|                3|         3|                 3|                3|                   3|                3|\n",
      "+----+--------+------+---+---------+--------------+---------+-------+------------+-----------+------------+------+------------+-----------+-------------+--------------------+-----------------+-----------------+----------+------------------+-----------------+--------------------+-----------------+\n",
      "only showing top 5 rows\n",
      "\n",
      "root\n",
      " |-- Code: string (nullable = true)\n",
      " |-- area: string (nullable = true)\n",
      " |-- gender: string (nullable = true)\n",
      " |-- age: string (nullable = true)\n",
      " |-- age_group: string (nullable = true)\n",
      " |-- year_of_school: string (nullable = true)\n",
      " |-- degree: string (nullable = true)\n",
      " |-- job: string (nullable = true)\n",
      " |-- know_english: string (nullable = true)\n",
      " |-- know_france: string (nullable = true)\n",
      " |-- know_chinese: string (nullable = true)\n",
      " |-- income: string (nullable = true)\n",
      " |-- booking_date: string (nullable = true)\n",
      " |-- flight_date: string (nullable = true)\n",
      " |-- flight_status: string (nullable = true)\n",
      " |-- professionally_staff: string (nullable = true)\n",
      " |-- customer_service : string (nullable = true)\n",
      " |-- diversity_product: string (nullable = true)\n",
      " |-- good_price: string (nullable = true)\n",
      " |-- easily_transaction: string (nullable = true)\n",
      " |-- goodlooking_staff: string (nullable = true)\n",
      " |-- diversity_flighttime: string (nullable = true)\n",
      " |-- good_construction: string (nullable = true)\n",
      "\n"
     ]
    }
   ],
   "source": [
    "df = spark.read.csv(\".\\data\\practive pyspark.csv\", header =True)\n",
    "df.show(5)\n",
    "df.printSchema()"
   ]
  },
  {
   "cell_type": "markdown",
   "id": "6d942d49",
   "metadata": {},
   "source": [
    "# Clean data"
   ]
  },
  {
   "cell_type": "code",
   "execution_count": 5,
   "id": "4905c940",
   "metadata": {},
   "outputs": [
    {
     "name": "stdout",
     "output_type": "stream",
     "text": [
      "root\n",
      " |-- Code: integer (nullable = true)\n",
      " |-- area: string (nullable = true)\n",
      " |-- gender: string (nullable = true)\n",
      " |-- age: integer (nullable = true)\n",
      " |-- age_group: string (nullable = true)\n",
      " |-- year_of_school: integer (nullable = true)\n",
      " |-- degree: string (nullable = true)\n",
      " |-- job: string (nullable = true)\n",
      " |-- know_english: integer (nullable = true)\n",
      " |-- know_france: integer (nullable = true)\n",
      " |-- know_chinese: integer (nullable = true)\n",
      " |-- income: integer (nullable = true)\n",
      " |-- booking_date: string (nullable = true)\n",
      " |-- flight_date: string (nullable = true)\n",
      " |-- flight_status: integer (nullable = true)\n",
      " |-- professionally_staff: integer (nullable = true)\n",
      " |-- customer_service : integer (nullable = true)\n",
      " |-- diversity_product: integer (nullable = true)\n",
      " |-- good_price: integer (nullable = true)\n",
      " |-- easily_transaction: integer (nullable = true)\n",
      " |-- goodlooking_staff: integer (nullable = true)\n",
      " |-- diversity_flighttime: integer (nullable = true)\n",
      " |-- good_construction: integer (nullable = true)\n",
      "\n"
     ]
    }
   ],
   "source": [
    "#Convering str to numberic\n",
    "df = df.withColumn('Code', F.col('Code').cast(IntegerType()))\\\n",
    "        .withColumn('age', F.col('age').cast(IntegerType()))\\\n",
    "        .withColumn('year_of_school',F.col('year_of_school').cast(IntegerType()))\\\n",
    "        .withColumn('know_english', F.col('know_english').cast(IntegerType()))\\\n",
    "        .withColumn('know_france', F.col('know_france').cast(IntegerType()))\\\n",
    "        .withColumn('know_chinese', F.col('know_chinese').cast(IntegerType()))\\\n",
    "        .withColumn('income', F.col('income').cast(IntegerType()))\\\n",
    "        .withColumn('flight_status', F.col('flight_status').cast(IntegerType()))\\\n",
    "        .withColumn('professionally_staff', F.col('professionally_staff').cast(IntegerType()))\\\n",
    "        .withColumn('customer_service ', F.col('customer_service ').cast(IntegerType()))\\\n",
    "        .withColumn('diversity_product', F.col('diversity_product').cast(IntegerType()))\\\n",
    "        .withColumn('good_price', F.col('good_price').cast(IntegerType()))\\\n",
    "        .withColumn('easily_transaction', F.col('easily_transaction').cast(IntegerType()))\\\n",
    "        .withColumn('goodlooking_staff', F.col('goodlooking_staff').cast(IntegerType()))\\\n",
    "        .withColumn('diversity_flighttime', F.col('diversity_flighttime').cast(IntegerType()))\\\n",
    "        .withColumn('good_construction', F.col('good_construction').cast(IntegerType()))\n",
    "df.printSchema()"
   ]
  },
  {
   "cell_type": "markdown",
   "id": "fd22445c",
   "metadata": {},
   "source": [
    "# 1. phân tích tương quan giữa thu nhập, tuổi, số năm đi học của kh"
   ]
  },
  {
   "cell_type": "code",
   "execution_count": 6,
   "id": "f4f0b91c",
   "metadata": {},
   "outputs": [],
   "source": [
    "data = df.select(\"age\",\"income\",\"year_of_school\")"
   ]
  },
  {
   "cell_type": "code",
   "execution_count": 8,
   "id": "970381d3",
   "metadata": {},
   "outputs": [],
   "source": [
    "data_df = data.toPandas() "
   ]
  },
  {
   "cell_type": "code",
   "execution_count": 24,
   "id": "c96dea7e",
   "metadata": {},
   "outputs": [
    {
     "data": {
      "text/plain": [
       "(array([0.5, 1.5, 2.5]),\n",
       " [Text(0, 0.5, 'age'), Text(0, 1.5, 'income'), Text(0, 2.5, 'year_of_school')])"
      ]
     },
     "execution_count": 24,
     "metadata": {},
     "output_type": "execute_result"
    },
    {
     "data": {
      "image/png": "[encoded data removed]",
      "text/plain": [
       "<Figure size 576x360 with 2 Axes>"
      ]
     },
     "metadata": {},
     "output_type": "display_data"
    }
   ],
   "source": [
    "plt.subplots(figsize = (8,5))\n",
    "sns.heatmap( data_df.corr(), xticklabels=[\"age\",\"income\",\"year_of_school\"]\n",
    "            ,yticklabels=[\"age\",\"income\",\"year_of_school\"], annot = True,\n",
    "            linewidths = 0.5, \n",
    "            cmap = sns.diverging_palette(220, 20, as_cmap=True))\n",
    "plt.yticks(rotation=0)"
   ]
  },
  {
   "cell_type": "markdown",
   "id": "8f12115c",
   "metadata": {},
   "source": [
    "Biến income và biến year_of_school có độ tương bằng 0.66, vậy thu nhập có mối liên hệ positive với biến trung bình số lương đi học. Thu nhập tăng số năm đi học tăng"
   ]
  },
  {
   "cell_type": "markdown",
   "id": "da2eb9c5",
   "metadata": {},
   "source": [
    "# 2. tạo cột nhóm thu nhập với điều kiện\n",
    "-  income < 9000 -> low income\n",
    "-  9000 < income < 15000 -> medium income\n",
    "-  >15000 -> high income\n",
    "\n",
    "Thống kê số lượng kh của từng nhóm"
   ]
  },
  {
   "cell_type": "code",
   "execution_count": 11,
   "id": "c9b4c43a",
   "metadata": {},
   "outputs": [],
   "source": [
    "df = df.withColumn(\"Type income\", \\\n",
    "   when((df.income < 9000), lit(\"low income\")) \\\n",
    "     .when((df.income >= 9000) & (df.income < 15000), lit(\"medium income\")) \\\n",
    "     .otherwise(lit(\"high income\")))\n"
   ]
  },
  {
   "cell_type": "code",
   "execution_count": 26,
   "id": "7565bb0d",
   "metadata": {},
   "outputs": [
    {
     "name": "stdout",
     "output_type": "stream",
     "text": [
      "+------+-------------+\n",
      "|income|  Type income|\n",
      "+------+-------------+\n",
      "| 33250|  high income|\n",
      "|  6960|   low income|\n",
      "| 11100|medium income|\n",
      "| 11100|medium income|\n",
      "| 16140|  high income|\n",
      "+------+-------------+\n",
      "only showing top 5 rows\n",
      "\n"
     ]
    }
   ],
   "source": [
    "df.select('income','Type income').show(5)\n",
    "income = df.select(\"income\",'Type Income')\n",
    "income_df = income.toPandas()"
   ]
  },
  {
   "cell_type": "code",
   "execution_count": 27,
   "id": "a7642cc0",
   "metadata": {},
   "outputs": [
    {
     "data": {
      "text/plain": [
       "<AxesSubplot:xlabel='Type Income', ylabel='income'>"
      ]
     },
     "execution_count": 27,
     "metadata": {},
     "output_type": "execute_result"
    },
    {
     "data": {
      "image/png": "[encoded data removed]",
      "text/plain": [
       "<Figure size 432x288 with 1 Axes>"
      ]
     },
     "metadata": {},
     "output_type": "display_data"
    }
   ],
   "source": [
    "sns.barplot(y = income_df['income'], x = income_df['Type Income'] )"
   ]
  },
  {
   "cell_type": "markdown",
   "id": "d02e11cd",
   "metadata": {},
   "source": [
    "# 3. tính khoảng cách theo ngày giữa thời gian đặt vé và thời gian bay của kh"
   ]
  },
  {
   "cell_type": "code",
   "execution_count": 34,
   "id": "e7ebf78b",
   "metadata": {},
   "outputs": [],
   "source": [
    "df = df.withColumn(\"date_flight\",to_date(col(\"flight_date\"),\"dd/MM/yyyy\"))\n",
    "df = df.withColumn(\"date_booking\",to_date(col(\"booking_date\"),\"dd/MM/yyyy\"))"
   ]
  },
  {
   "cell_type": "code",
   "execution_count": 35,
   "id": "a1bac795",
   "metadata": {},
   "outputs": [],
   "source": [
    "df = df.withColumn(\"Time\", df.date_flight - df.date_booking)"
   ]
  },
  {
   "cell_type": "code",
   "execution_count": 36,
   "id": "4d4f82c8",
   "metadata": {},
   "outputs": [
    {
     "name": "stdout",
     "output_type": "stream",
     "text": [
      "+-----------+------------+----------------+\n",
      "|date_flight|date_booking|            time|\n",
      "+-----------+------------+----------------+\n",
      "| 2013-05-01|  2013-04-06|         25 days|\n",
      "| 2013-05-01|  2013-03-15|1 months 16 days|\n",
      "| 2013-05-01|  2013-01-24| 3 months 7 days|\n",
      "+-----------+------------+----------------+\n",
      "only showing top 3 rows\n",
      "\n"
     ]
    }
   ],
   "source": [
    "df.select('date_flight','date_booking','time').show(3)"
   ]
  },
  {
   "cell_type": "markdown",
   "id": "ab49ae92",
   "metadata": {},
   "source": [
    "# 4. Tính trợ cấp 5% thu nhập đối với nv nữ"
   ]
  },
  {
   "cell_type": "code",
   "execution_count": 37,
   "id": "ffb252e3",
   "metadata": {
    "scrolled": true
   },
   "outputs": [
    {
     "name": "stdout",
     "output_type": "stream",
     "text": [
      "+------+-------+------+\n",
      "|gender|Trợ cấp|income|\n",
      "+------+-------+------+\n",
      "|female| 1662.5| 33250|\n",
      "|female|  348.0|  6960|\n",
      "|  male|    0.0| 11100|\n",
      "|female|  555.0| 11100|\n",
      "|  male|    0.0| 16140|\n",
      "+------+-------+------+\n",
      "only showing top 5 rows\n",
      "\n"
     ]
    }
   ],
   "source": [
    "df = df.withColumn(\"Trợ cấp\", when(col('gender') == 'female',col('income') * 0.05).otherwise(lit(0)))\n",
    "df.select('gender',\"Trợ cấp\",'income').show(5)"
   ]
  },
  {
   "cell_type": "markdown",
   "id": "c8f9b31a",
   "metadata": {},
   "source": [
    "# 5. Tính số tiền nhận được của từng kh số tiền nhận được = thu nhập + trợ cấp"
   ]
  },
  {
   "cell_type": "code",
   "execution_count": 38,
   "id": "c23f0831",
   "metadata": {},
   "outputs": [
    {
     "name": "stdout",
     "output_type": "stream",
     "text": [
      "+------------+-------+------+\n",
      "|Total income|Trợ cấp|income|\n",
      "+------------+-------+------+\n",
      "|     34912.5| 1662.5| 33250|\n",
      "|      7308.0|  348.0|  6960|\n",
      "|     11100.0|    0.0| 11100|\n",
      "|     11655.0|  555.0| 11100|\n",
      "|     16140.0|    0.0| 16140|\n",
      "+------------+-------+------+\n",
      "only showing top 5 rows\n",
      "\n"
     ]
    }
   ],
   "source": [
    "df = df.withColumn(\"Total income\", col('income')+col('Trợ cấp'))\n",
    "df.select('Total income',\"Trợ cấp\",'income').show(5)"
   ]
  },
  {
   "cell_type": "markdown",
   "id": "fc680a53",
   "metadata": {},
   "source": [
    "# 6. Giả sử tiền thuế thu nhập cá nhân được tính như sau:\n",
    "- từ 10.000 trở xuống thuế 5%\n",
    "- trên 10000 -30000 thuế 7%\n",
    "- trên 30000 thuế 10%\n",
    "\n",
    "Tính thuế tncn cho từng kh"
   ]
  },
  {
   "cell_type": "code",
   "execution_count": 39,
   "id": "ecaab08c",
   "metadata": {},
   "outputs": [
    {
     "name": "stdout",
     "output_type": "stream",
     "text": [
      "+------+-----------------+\n",
      "|income|              Tax|\n",
      "+------+-----------------+\n",
      "| 33250|           2225.0|\n",
      "|  6960|            348.0|\n",
      "| 11100|            577.0|\n",
      "| 11100|            577.0|\n",
      "| 16140|929.8000000000001|\n",
      "+------+-----------------+\n",
      "only showing top 5 rows\n",
      "\n"
     ]
    }
   ],
   "source": [
    "df = df.withColumn(\"Tax\", \\\n",
    "   when((col('income') < 10000),col('income')*0.05) \\\n",
    "     .when((col('income') >= 10000) & (col('income') < 30000), 10000*0.05 + (col('income')-10000)*0.07) \\\n",
    "     .otherwise(10000*0.05 + 20000*0.07 + (col('income')-30000)*0.1))\n",
    "df.select('income','Tax').show(5)"
   ]
  },
  {
   "cell_type": "markdown",
   "id": "ea991293",
   "metadata": {},
   "source": [
    "# 7. Thống kê số người đặt vé bay trong mỗi tháng của năm 2013"
   ]
  },
  {
   "cell_type": "code",
   "execution_count": 41,
   "id": "e42a13ad",
   "metadata": {},
   "outputs": [],
   "source": [
    "stats = df.select(\"date_booking\")"
   ]
  },
  {
   "cell_type": "code",
   "execution_count": 42,
   "id": "8e05c06b",
   "metadata": {},
   "outputs": [],
   "source": [
    "stats = stats.withColumn('year',year(stats.date_booking))\n",
    "stats = stats.withColumn('month', month(stats.date_booking))\n",
    "stats = stats.withColumn('day', date_format(stats.date_booking, \"d\"))"
   ]
  },
  {
   "cell_type": "code",
   "execution_count": 95,
   "id": "2fc95512",
   "metadata": {},
   "outputs": [
    {
     "data": {
      "text/plain": [
       "1     47\n",
       "2     79\n",
       "3    162\n",
       "4    151\n",
       "5      4\n",
       "Name: month, dtype: int64"
      ]
     },
     "execution_count": 95,
     "metadata": {},
     "output_type": "execute_result"
    }
   ],
   "source": [
    "df_2013 = stats.filter(stats.year == 2013)\n",
    "df_20133 = df_2013.toPandas()\n",
    "tk = df_20133['month'].value_counts().sort_index()\n",
    "tk"
   ]
  },
  {
   "cell_type": "code",
   "execution_count": 98,
   "id": "b7fbd885",
   "metadata": {},
   "outputs": [
    {
     "data": {
      "image/png": "[encoded data removed]",
      "text/plain": [
       "<Figure size 432x288 with 1 Axes>"
      ]
     },
     "metadata": {},
     "output_type": "display_data"
    }
   ],
   "source": [
    "sns.barplot(x= tk.index, y = tk.values)\n",
    "plt.title(\"biểu đồ số người đặt vé bay trong mỗi tháng của năm 2013\");"
   ]
  },
  {
   "cell_type": "code",
   "execution_count": null,
   "id": "3fc72ce0",
   "metadata": {},
   "outputs": [],
   "source": []
  }
 ],
 "metadata": {
  "kernelspec": {
   "display_name": "Python 3 (ipykernel)",
   "language": "python",
   "name": "python3"
  },
  "language_info": {
   "codemirror_mode": {
    "name": "ipython",
    "version": 3
   },
   "file_extension": ".py",
   "mimetype": "text/x-python",
   "name": "python",
   "nbconvert_exporter": "python",
   "pygments_lexer": "ipython3",
   "version": "3.9.6"
  }
 },
 "nbformat": 4,
 "nbformat_minor": 5
}
