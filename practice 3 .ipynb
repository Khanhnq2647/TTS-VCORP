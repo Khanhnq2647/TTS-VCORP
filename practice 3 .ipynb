{
 "cells": [
  {
   "cell_type": "code",
   "execution_count": 1,
   "id": "16e169ff",
   "metadata": {},
   "outputs": [],
   "source": [
    "import pandas as pd\n",
    "from scipy.stats import *\n",
    "import pandas as pd\n",
    "import matplotlib.pyplot as plt\n",
    "%matplotlib inline\n",
    "import seaborn as sns\n",
    "from pyspark.sql.types import IntegerType, FloatType ,DateType\n",
    "from pyspark.sql import SparkSession\n",
    "import findspark\n",
    "import pyspark.sql.functions as F\n",
    "from pyspark.sql.functions import *\n",
    "sns.set_style('whitegrid')\n",
    "import matplotlib.pyplot as plt\n",
    "import numpy as np"
   ]
  },
  {
   "cell_type": "code",
   "execution_count": 2,
   "id": "2a6900d9",
   "metadata": {},
   "outputs": [
    {
     "data": {
      "text/plain": [
       "'C:\\\\Spark\\\\spark-3.0.3-bin-hadoop2.7'"
      ]
     },
     "execution_count": 2,
     "metadata": {},
     "output_type": "execute_result"
    }
   ],
   "source": [
    "findspark.init()\n",
    "findspark.find()"
   ]
  },
  {
   "cell_type": "code",
   "execution_count": 3,
   "id": "1534cefb",
   "metadata": {},
   "outputs": [],
   "source": [
    "spark = SparkSession \\\n",
    "    .builder \\\n",
    "    .appName(\"Hypothesis \") \\\n",
    "    .config(\"spark.some.config.option\", \"some-value\") \\\n",
    "    .getOrCreate()"
   ]
  },
  {
   "cell_type": "markdown",
   "id": "7375a936",
   "metadata": {},
   "source": [
    "# Read data"
   ]
  },
  {
   "cell_type": "code",
   "execution_count": 4,
   "id": "64e4b014",
   "metadata": {},
   "outputs": [
    {
     "name": "stdout",
     "output_type": "stream",
     "text": [
      "root\n",
      " |-- Code: string (nullable = true)\n",
      " |-- area: string (nullable = true)\n",
      " |-- gender: string (nullable = true)\n",
      " |-- age: string (nullable = true)\n",
      " |-- age_group: string (nullable = true)\n",
      " |-- year_of_school: string (nullable = true)\n",
      " |-- degree: string (nullable = true)\n",
      " |-- job: string (nullable = true)\n",
      " |-- know_english: string (nullable = true)\n",
      " |-- know_france: string (nullable = true)\n",
      " |-- know_chinese: string (nullable = true)\n",
      " |-- income: string (nullable = true)\n",
      " |-- booking_date: string (nullable = true)\n",
      " |-- flight_date: string (nullable = true)\n",
      " |-- flight_status: string (nullable = true)\n",
      " |-- professionally_staff: string (nullable = true)\n",
      " |-- customer_service : string (nullable = true)\n",
      " |-- diversity_product: string (nullable = true)\n",
      " |-- good_price: string (nullable = true)\n",
      " |-- easily_transaction: string (nullable = true)\n",
      " |-- goodlooking_staff: string (nullable = true)\n",
      " |-- diversity_flighttime: string (nullable = true)\n",
      " |-- good_construction: string (nullable = true)\n",
      "\n"
     ]
    }
   ],
   "source": [
    "df = spark.read.csv(\".\\data\\practive pyspark.csv\", header =True)\n",
    "df.printSchema()"
   ]
  },
  {
   "cell_type": "markdown",
   "id": "efc3ddd5",
   "metadata": {},
   "source": [
    "# preprocessing data"
   ]
  },
  {
   "cell_type": "code",
   "execution_count": 5,
   "id": "abdb0a84",
   "metadata": {},
   "outputs": [
    {
     "name": "stdout",
     "output_type": "stream",
     "text": [
      "root\n",
      " |-- Code: integer (nullable = true)\n",
      " |-- area: string (nullable = true)\n",
      " |-- gender: string (nullable = true)\n",
      " |-- age: integer (nullable = true)\n",
      " |-- age_group: string (nullable = true)\n",
      " |-- year_of_school: integer (nullable = true)\n",
      " |-- degree: string (nullable = true)\n",
      " |-- job: string (nullable = true)\n",
      " |-- know_english: integer (nullable = true)\n",
      " |-- know_france: integer (nullable = true)\n",
      " |-- know_chinese: integer (nullable = true)\n",
      " |-- income: integer (nullable = true)\n",
      " |-- booking_date: string (nullable = true)\n",
      " |-- flight_date: string (nullable = true)\n",
      " |-- flight_status: integer (nullable = true)\n",
      " |-- professionally_staff: integer (nullable = true)\n",
      " |-- customer_service : integer (nullable = true)\n",
      " |-- diversity_product: integer (nullable = true)\n",
      " |-- good_price: integer (nullable = true)\n",
      " |-- easily_transaction: integer (nullable = true)\n",
      " |-- goodlooking_staff: integer (nullable = true)\n",
      " |-- diversity_flighttime: integer (nullable = true)\n",
      " |-- good_construction: integer (nullable = true)\n",
      "\n"
     ]
    }
   ],
   "source": [
    "#Convering str to numberic\n",
    "df = df.withColumn('Code', F.col('Code').cast(IntegerType()))\\\n",
    "        .withColumn('age', F.col('age').cast(IntegerType()))\\\n",
    "        .withColumn('year_of_school',F.col('year_of_school').cast(IntegerType()))\\\n",
    "        .withColumn('know_english', F.col('know_english').cast(IntegerType()))\\\n",
    "        .withColumn('know_france', F.col('know_france').cast(IntegerType()))\\\n",
    "        .withColumn('know_chinese', F.col('know_chinese').cast(IntegerType()))\\\n",
    "        .withColumn('income', F.col('income').cast(IntegerType()))\\\n",
    "        .withColumn('flight_status', F.col('flight_status').cast(IntegerType()))\\\n",
    "        .withColumn('professionally_staff', F.col('professionally_staff').cast(IntegerType()))\\\n",
    "        .withColumn('customer_service ', F.col('customer_service ').cast(IntegerType()))\\\n",
    "        .withColumn('diversity_product', F.col('diversity_product').cast(IntegerType()))\\\n",
    "        .withColumn('good_price', F.col('good_price').cast(IntegerType()))\\\n",
    "        .withColumn('easily_transaction', F.col('easily_transaction').cast(IntegerType()))\\\n",
    "        .withColumn('goodlooking_staff', F.col('goodlooking_staff').cast(IntegerType()))\\\n",
    "        .withColumn('diversity_flighttime', F.col('diversity_flighttime').cast(IntegerType()))\\\n",
    "        .withColumn('good_construction', F.col('good_construction').cast(IntegerType()))\n",
    "df.printSchema()"
   ]
  },
  {
   "cell_type": "code",
   "execution_count": 6,
   "id": "95b65f09",
   "metadata": {},
   "outputs": [],
   "source": [
    "data = df.toPandas()"
   ]
  },
  {
   "cell_type": "markdown",
   "id": "148ee08e",
   "metadata": {},
   "source": [
    "# 1. Giả sử thu nhập của kh có độ lệch chuẩn là 5000, với alpha=0.05, có thể kết luận thu nhập trung bình của kh là 14000 hay không?\n"
   ]
  },
  {
   "cell_type": "markdown",
   "id": "8aa11e7d",
   "metadata": {},
   "source": [
    "- H0 : mu # 14000\n",
    "- H1 : mu = 14000"
   ]
  },
  {
   "cell_type": "code",
   "execution_count": 7,
   "id": "779596a4",
   "metadata": {},
   "outputs": [
    {
     "data": {
      "text/plain": [
       "-0.6277984453628374"
      ]
     },
     "execution_count": 7,
     "metadata": {},
     "output_type": "execute_result"
    }
   ],
   "source": [
    "z_score = (-14000+data.income.mean())/(5000/np.sqrt(len(data.income)))\n",
    "z_score"
   ]
  },
  {
   "cell_type": "markdown",
   "id": "30658614",
   "metadata": {},
   "source": [
    "p_value = 1-0.4480 = 0.552> 0.05 . Vậy Fail to reject H0. \n",
    "-  95% thu nhập  trung bình  # 14000"
   ]
  },
  {
   "cell_type": "markdown",
   "id": "a59f2c75",
   "metadata": {},
   "source": [
    "# 2 Có kết luận cho rằng thu nhập trung bình của nam cao hơn nữ 5000, đúng hay sai? biết aplpha = 0.05, độ lệch chuẩn thu nhập của nam và nữ lần lượt là 7000 và 5000."
   ]
  },
  {
   "cell_type": "markdown",
   "id": "8b7fe3dc",
   "metadata": {},
   "source": [
    "Hypotheses"
   ]
  },
  {
   "cell_type": "markdown",
   "id": "81b1c6c4",
   "metadata": {},
   "source": [
    "- mu1 : Thu nhập trung bình của nam\n",
    "- mu2 : Thu nhập trung bình của nữ\n",
    "- H0 : mu1 - mu2 =< 0\n",
    "- H1 : m1 - mu2 > 0"
   ]
  },
  {
   "cell_type": "markdown",
   "id": "b30eaa17",
   "metadata": {},
   "source": [
    "test statistic"
   ]
  },
  {
   "cell_type": "code",
   "execution_count": 8,
   "id": "d6fc01e9",
   "metadata": {},
   "outputs": [],
   "source": [
    "n2 = len(data[data.gender == 'female'])\n",
    "n1 = len(data[data.gender == 'male'])\n",
    "mean_1 = data[data.gender == 'male']['income'].mean()\n",
    "mean_2  =data[data.gender == 'female']['income'].mean()\n",
    "sigma1_square = 7000*7000\n",
    "sigma2_square = 5000*5000"
   ]
  },
  {
   "attachments": {
    "image.png": {
     "image/png": "[encoded data removed]"
    }
   },
   "cell_type": "markdown",
   "id": "d113085c",
   "metadata": {},
   "source": [
    "![image.png](attachment:image.png)"
   ]
  },
  {
   "cell_type": "code",
   "execution_count": 9,
   "id": "c24aac3f",
   "metadata": {},
   "outputs": [
    {
     "data": {
      "text/plain": [
       "11.858532354212112"
      ]
     },
     "execution_count": 9,
     "metadata": {},
     "output_type": "execute_result"
    }
   ],
   "source": [
    "z_score = (mean_1-mean_2)/np.sqrt((sigma1_square/n1)+(sigma2_square/n2))\n",
    "z_score"
   ]
  },
  {
   "cell_type": "markdown",
   "id": "e2ea599a",
   "metadata": {},
   "source": [
    "z_0.05 = 1.645 < z_sccore . Do not reject H0. Vậy không đủ bằng chứng để kết luận thu nhập của nam cao hơn của nữ"
   ]
  },
  {
   "cell_type": "markdown",
   "id": "e22df589",
   "metadata": {},
   "source": [
    "# 3 với alpha = 0.05, trung bình thu nhập của kh là 13000 đúng hay sai? (chưa biết phương sai)"
   ]
  },
  {
   "cell_type": "markdown",
   "id": "ebe1ddbf",
   "metadata": {},
   "source": [
    "- H0: mu = 13000\n",
    "- H1: mu1 # 13000"
   ]
  },
  {
   "cell_type": "code",
   "execution_count": 10,
   "id": "c2190ff6",
   "metadata": {},
   "outputs": [
    {
     "name": "stdout",
     "output_type": "stream",
     "text": [
      "giá trị p 0.007373867945841888\n",
      " bác bỏ giả thuyết Ho\n"
     ]
    }
   ],
   "source": [
    "tset, pval = ttest_1samp (data.income, 13000)\n",
    "print ('giá trị p', pval)\n",
    "if pval <0.05:  # alpha là 0,05 hoặc 5% \n",
    "    print (\" bác bỏ giả thuyết Ho\") \n",
    "else: \n",
    "    print (\"Chấp nhận giả thuyết Ho\")"
   ]
  },
  {
   "cell_type": "markdown",
   "id": "6c9e32f2",
   "metadata": {},
   "source": [
    "p_value <0.05 vậy ta có thể kết luận là trung thu nhập của khách hàng khác 13000"
   ]
  },
  {
   "cell_type": "markdown",
   "id": "87ae273c",
   "metadata": {},
   "source": [
    "# 4 với alpha = 0.05, thu nhập tb của kh nam bằng thu nhập tb của kh nữ đúng hay sai? (chưa biết phương sai)"
   ]
  },
  {
   "cell_type": "markdown",
   "id": "5748922a",
   "metadata": {},
   "source": [
    "- Ho : mu1 = mu2\n",
    "- H1: mu1 # mu2"
   ]
  },
  {
   "cell_type": "code",
   "execution_count": 11,
   "id": "3dbc07d5",
   "metadata": {},
   "outputs": [
    {
     "name": "stdout",
     "output_type": "stream",
     "text": [
      "giá trị p 8.758653500007178e-26\n",
      " bác bỏ giả thuyết Ho\n"
     ]
    }
   ],
   "source": [
    "tset, pval = stats.ttest_ind(data[data.gender == 'female']['income'], data[data.gender =='male']['income'])\n",
    "print ('giá trị p', pval)\n",
    "if pval <0.05:  # alpha là 0,05 hoặc 5% \n",
    "    print (\" bác bỏ giả thuyết Ho\") \n",
    "else: \n",
    "    print (\"Chấp nhận giả thuyết Ho\")"
   ]
  },
  {
   "cell_type": "markdown",
   "id": "f1c10c94",
   "metadata": {},
   "source": [
    "Với p vlue < 0.05 ,ta có thể kết luận rằng thu nhập trung bình của khách hàng nam khác thu nhập trung bình của khách hàng nữ"
   ]
  },
  {
   "cell_type": "markdown",
   "id": "28d138a5",
   "metadata": {},
   "source": [
    "# 5 Liệu có mối quan hệ giữa 2 biến age_group và degree hay không? kiểm định điều đó"
   ]
  },
  {
   "cell_type": "markdown",
   "id": "9cb6a2b4",
   "metadata": {},
   "source": [
    "- H0: Không tương quan\n",
    "- H1: Tương quan"
   ]
  },
  {
   "cell_type": "code",
   "execution_count": 12,
   "id": "dc626032",
   "metadata": {},
   "outputs": [
    {
     "data": {
      "text/html": [
       "<div>\n",
       "<style scoped>\n",
       "    .dataframe tbody tr th:only-of-type {\n",
       "        vertical-align: middle;\n",
       "    }\n",
       "\n",
       "    .dataframe tbody tr th {\n",
       "        vertical-align: top;\n",
       "    }\n",
       "\n",
       "    .dataframe thead th {\n",
       "        text-align: right;\n",
       "    }\n",
       "</style>\n",
       "<table border=\"1\" class=\"dataframe\">\n",
       "  <thead>\n",
       "    <tr style=\"text-align: right;\">\n",
       "      <th>degree</th>\n",
       "      <th>bachelor</th>\n",
       "      <th>highshool</th>\n",
       "      <th>master</th>\n",
       "      <th>All</th>\n",
       "    </tr>\n",
       "    <tr>\n",
       "      <th>age_group</th>\n",
       "      <th></th>\n",
       "      <th></th>\n",
       "      <th></th>\n",
       "      <th></th>\n",
       "    </tr>\n",
       "  </thead>\n",
       "  <tbody>\n",
       "    <tr>\n",
       "      <th>elder</th>\n",
       "      <td>17.0</td>\n",
       "      <td>81.0</td>\n",
       "      <td>1.0</td>\n",
       "      <td>99</td>\n",
       "    </tr>\n",
       "    <tr>\n",
       "      <th>middle</th>\n",
       "      <td>102.0</td>\n",
       "      <td>138.0</td>\n",
       "      <td>113.0</td>\n",
       "      <td>353</td>\n",
       "    </tr>\n",
       "    <tr>\n",
       "      <th>youth</th>\n",
       "      <td>10.0</td>\n",
       "      <td>38.0</td>\n",
       "      <td>0.0</td>\n",
       "      <td>48</td>\n",
       "    </tr>\n",
       "    <tr>\n",
       "      <th>All</th>\n",
       "      <td>129.0</td>\n",
       "      <td>257.0</td>\n",
       "      <td>114.0</td>\n",
       "      <td>500</td>\n",
       "    </tr>\n",
       "  </tbody>\n",
       "</table>\n",
       "</div>"
      ],
      "text/plain": [
       "degree     bachelor  highshool  master  All\n",
       "age_group                                  \n",
       "elder          17.0       81.0     1.0   99\n",
       "middle        102.0      138.0   113.0  353\n",
       "youth          10.0       38.0     0.0   48\n",
       "All           129.0      257.0   114.0  500"
      ]
     },
     "execution_count": 12,
     "metadata": {},
     "output_type": "execute_result"
    }
   ],
   "source": [
    "d = pd.pivot_table(data,index = 'age_group', columns = 'degree', values  ='Code',\\\n",
    "                   aggfunc=pd.Series.nunique, margins = True).fillna(0)\n",
    "d"
   ]
  },
  {
   "cell_type": "code",
   "execution_count": 13,
   "id": "fb84fd00",
   "metadata": {},
   "outputs": [],
   "source": [
    "chi2, p, dof, ex = chi2_contingency(d, correction=False)"
   ]
  },
  {
   "cell_type": "code",
   "execution_count": 14,
   "id": "ec920e88",
   "metadata": {},
   "outputs": [
    {
     "name": "stdout",
     "output_type": "stream",
     "text": [
      "tương quan (reject H0) p=0.000\n"
     ]
    }
   ],
   "source": [
    "alpha = 0.05\n",
    "if p > alpha:\n",
    "    print('Không tươgn quan (fail to reject H0) p=%.3f' % p)\n",
    "else:\n",
    "    print('tương quan (reject H0) p=%.3f' % p)"
   ]
  },
  {
   "cell_type": "markdown",
   "id": "2790bf13",
   "metadata": {},
   "source": [
    "Vậy hai biến có mối quan hệ với nhau"
   ]
  },
  {
   "cell_type": "markdown",
   "id": "90265d6f",
   "metadata": {},
   "source": [
    "# 6 Số kh làm officer bằng số kh làm sale và gấp 5 lần số kh làm manager đúng hay sai?"
   ]
  },
  {
   "cell_type": "markdown",
   "id": "74132aca",
   "metadata": {},
   "source": [
    "- Ho: officer = sale, officer = 5 manager\n",
    "- H1: Không bằng"
   ]
  },
  {
   "cell_type": "code",
   "execution_count": 15,
   "id": "a6d57423",
   "metadata": {},
   "outputs": [
    {
     "data": {
      "text/plain": [
       "officer    239\n",
       "sale       217\n",
       "manager     44\n",
       "Name: job, dtype: int64"
      ]
     },
     "execution_count": 15,
     "metadata": {},
     "output_type": "execute_result"
    }
   ],
   "source": [
    "data.job.value_counts()"
   ]
  },
  {
   "cell_type": "markdown",
   "id": "c500c9fb",
   "metadata": {},
   "source": [
    "# 7 Kiểm định phân phối của biến age xem có đúng là pp chuẩn hay ko?"
   ]
  },
  {
   "cell_type": "code",
   "execution_count": 19,
   "id": "3341c67e",
   "metadata": {},
   "outputs": [],
   "source": [
    "H0=  'tuân theo phân phôi chuẩn'\n",
    "H1= 'không tuân theo Phân phối chuẩn'"
   ]
  },
  {
   "cell_type": "code",
   "execution_count": 20,
   "id": "1c12a4d6",
   "metadata": {},
   "outputs": [
    {
     "name": "stdout",
     "output_type": "stream",
     "text": [
      "stat=0.867, p=0.000\n",
      "không tuân theo Phân phối chuẩn\n"
     ]
    }
   ],
   "source": [
    "# Example of the Shapiro-Wilk Normality Test\n",
    "from scipy.stats import shapiro\n",
    "stat, p = shapiro(data.age)\n",
    "print('stat=%.3f, p=%.3f' % (stat, p))\n",
    "if p > 0.05:\n",
    "    print(H0)\n",
    "else:\n",
    "    print(H1)"
   ]
  },
  {
   "cell_type": "code",
   "execution_count": null,
   "id": "d6e7cd58",
   "metadata": {},
   "outputs": [],
   "source": []
  },
  {
   "cell_type": "code",
   "execution_count": null,
   "id": "27725cba",
   "metadata": {},
   "outputs": [],
   "source": []
  }
 ],
 "metadata": {
  "kernelspec": {
   "display_name": "Python 3 (ipykernel)",
   "language": "python",
   "name": "python3"
  },
  "language_info": {
   "codemirror_mode": {
    "name": "ipython",
    "version": 3
   },
   "file_extension": ".py",
   "mimetype": "text/x-python",
   "name": "python",
   "nbconvert_exporter": "python",
   "pygments_lexer": "ipython3",
   "version": "3.9.6"
  }
 },
 "nbformat": 4,
 "nbformat_minor": 5
}
