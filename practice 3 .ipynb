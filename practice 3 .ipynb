{
 "cells": [
  {
   "cell_type": "code",
   "execution_count": 34,
   "id": "8ec09001",
   "metadata": {},
   "outputs": [],
   "source": [
    "import pandas as pd\n",
    "from scipy.stats import *\n",
    "import pandas as pd\n",
    "import matplotlib.pyplot as plt\n",
    "%matplotlib inline\n",
    "import seaborn as sns\n",
    "from pyspark.sql.types import IntegerType, FloatType ,DateType\n",
    "from pyspark.sql import SparkSession\n",
    "import findspark\n",
    "import pyspark.sql.functions as F\n",
    "from pyspark.sql.functions import *\n",
    "sns.set_style('whitegrid')\n",
    "import matplotlib.pyplot as plt\n",
    "import numpy as np"
   ]
  },
  {
   "cell_type": "code",
   "execution_count": 5,
   "id": "384167c7",
   "metadata": {},
   "outputs": [
    {
     "data": {
      "text/plain": [
       "'C:\\\\Spark\\\\spark-3.0.3-bin-hadoop2.7'"
      ]
     },
     "execution_count": 5,
     "metadata": {},
     "output_type": "execute_result"
    }
   ],
   "source": [
    "findspark.init()\n",
    "findspark.find()"
   ]
  },
  {
   "cell_type": "code",
   "execution_count": 6,
   "id": "cc7e232f",
   "metadata": {},
   "outputs": [],
   "source": [
    "spark = SparkSession \\\n",
    "    .builder \\\n",
    "    .appName(\"Hypothesis \") \\\n",
    "    .config(\"spark.some.config.option\", \"some-value\") \\\n",
    "    .getOrCreate()"
   ]
  },
  {
   "cell_type": "markdown",
   "id": "6080fafa",
   "metadata": {},
   "source": [
    "# Read data"
   ]
  },
  {
   "cell_type": "code",
   "execution_count": 156,
   "id": "b726ce38",
   "metadata": {},
   "outputs": [
    {
     "name": "stdout",
     "output_type": "stream",
     "text": [
      "root\n",
      " |-- Code: string (nullable = true)\n",
      " |-- area: string (nullable = true)\n",
      " |-- gender: string (nullable = true)\n",
      " |-- age: string (nullable = true)\n",
      " |-- age_group: string (nullable = true)\n",
      " |-- year_of_school: string (nullable = true)\n",
      " |-- degree: string (nullable = true)\n",
      " |-- job: string (nullable = true)\n",
      " |-- know_english: string (nullable = true)\n",
      " |-- know_france: string (nullable = true)\n",
      " |-- know_chinese: string (nullable = true)\n",
      " |-- income: string (nullable = true)\n",
      " |-- booking_date: string (nullable = true)\n",
      " |-- flight_date: string (nullable = true)\n",
      " |-- flight_status: string (nullable = true)\n",
      " |-- professionally_staff: string (nullable = true)\n",
      " |-- customer_service : string (nullable = true)\n",
      " |-- diversity_product: string (nullable = true)\n",
      " |-- good_price: string (nullable = true)\n",
      " |-- easily_transaction: string (nullable = true)\n",
      " |-- goodlooking_staff: string (nullable = true)\n",
      " |-- diversity_flighttime: string (nullable = true)\n",
      " |-- good_construction: string (nullable = true)\n",
      "\n"
     ]
    }
   ],
   "source": [
    "df = spark.read.csv(\".\\data\\practive pyspark.csv\", header =True)\n",
    "df.printSchema()"
   ]
  },
  {
   "cell_type": "markdown",
   "id": "bba540e5",
   "metadata": {},
   "source": [
    "# preprocessing data"
   ]
  },
  {
   "cell_type": "code",
   "execution_count": 157,
   "id": "395e84cb",
   "metadata": {},
   "outputs": [
    {
     "name": "stdout",
     "output_type": "stream",
     "text": [
      "root\n",
      " |-- Code: integer (nullable = true)\n",
      " |-- area: string (nullable = true)\n",
      " |-- gender: string (nullable = true)\n",
      " |-- age: integer (nullable = true)\n",
      " |-- age_group: string (nullable = true)\n",
      " |-- year_of_school: integer (nullable = true)\n",
      " |-- degree: string (nullable = true)\n",
      " |-- job: string (nullable = true)\n",
      " |-- know_english: integer (nullable = true)\n",
      " |-- know_france: integer (nullable = true)\n",
      " |-- know_chinese: integer (nullable = true)\n",
      " |-- income: integer (nullable = true)\n",
      " |-- booking_date: string (nullable = true)\n",
      " |-- flight_date: string (nullable = true)\n",
      " |-- flight_status: integer (nullable = true)\n",
      " |-- professionally_staff: integer (nullable = true)\n",
      " |-- customer_service : integer (nullable = true)\n",
      " |-- diversity_product: integer (nullable = true)\n",
      " |-- good_price: integer (nullable = true)\n",
      " |-- easily_transaction: integer (nullable = true)\n",
      " |-- goodlooking_staff: integer (nullable = true)\n",
      " |-- diversity_flighttime: integer (nullable = true)\n",
      " |-- good_construction: integer (nullable = true)\n",
      "\n"
     ]
    }
   ],
   "source": [
    "#Convering str to numberic\n",
    "df = df.withColumn('Code', F.col('Code').cast(IntegerType()))\\\n",
    "        .withColumn('age', F.col('age').cast(IntegerType()))\\\n",
    "        .withColumn('year_of_school',F.col('year_of_school').cast(IntegerType()))\\\n",
    "        .withColumn('know_english', F.col('know_english').cast(IntegerType()))\\\n",
    "        .withColumn('know_france', F.col('know_france').cast(IntegerType()))\\\n",
    "        .withColumn('know_chinese', F.col('know_chinese').cast(IntegerType()))\\\n",
    "        .withColumn('income', F.col('income').cast(IntegerType()))\\\n",
    "        .withColumn('flight_status', F.col('flight_status').cast(IntegerType()))\\\n",
    "        .withColumn('professionally_staff', F.col('professionally_staff').cast(IntegerType()))\\\n",
    "        .withColumn('customer_service ', F.col('customer_service ').cast(IntegerType()))\\\n",
    "        .withColumn('diversity_product', F.col('diversity_product').cast(IntegerType()))\\\n",
    "        .withColumn('good_price', F.col('good_price').cast(IntegerType()))\\\n",
    "        .withColumn('easily_transaction', F.col('easily_transaction').cast(IntegerType()))\\\n",
    "        .withColumn('goodlooking_staff', F.col('goodlooking_staff').cast(IntegerType()))\\\n",
    "        .withColumn('diversity_flighttime', F.col('diversity_flighttime').cast(IntegerType()))\\\n",
    "        .withColumn('good_construction', F.col('good_construction').cast(IntegerType()))\n",
    "df.printSchema()"
   ]
  },
  {
   "cell_type": "code",
   "execution_count": 158,
   "id": "e7cceb2e",
   "metadata": {},
   "outputs": [],
   "source": [
    "data = df.toPandas()"
   ]
  },
  {
   "cell_type": "markdown",
   "id": "87fcbce5",
   "metadata": {},
   "source": [
    "# 1. Giả sử thu nhập của kh có độ lệch chuẩn là 5000, với alpha=0.05, có thể kết luận thu nhập trung bình của kh là 14000 hay không?\n"
   ]
  },
  {
   "cell_type": "markdown",
   "id": "778025f3",
   "metadata": {},
   "source": [
    "- H0 : mu # 14000\n",
    "- H1 : mu = 14000"
   ]
  },
  {
   "cell_type": "code",
   "execution_count": 134,
   "id": "271fbe28",
   "metadata": {},
   "outputs": [
    {
     "data": {
      "text/plain": [
       "-0.6277984453628374"
      ]
     },
     "execution_count": 134,
     "metadata": {},
     "output_type": "execute_result"
    }
   ],
   "source": [
    "z_score = (-14000+data.income.mean())/(5000/np.sqrt(len(data.income)))\n",
    "z_score"
   ]
  },
  {
   "cell_type": "markdown",
   "id": "6a3f95a2",
   "metadata": {},
   "source": [
    "p_value = 1-0.4480 = 0.552> 0.05 . Vậy Fail to reject H0. \n",
    "-  95% thu nhập  trung bình  # 14000"
   ]
  },
  {
   "cell_type": "markdown",
   "id": "11b0ad04",
   "metadata": {},
   "source": [
    "# Có kết luận cho rằng thu nhập trung bình của nam cao hơn nữ 5000, đúng hay sai? biết aplpha = 0.05, độ lệch chuẩn thu nhập của nam và nữ lần lượt là 7000 và 5000."
   ]
  },
  {
   "cell_type": "markdown",
   "id": "fafa863b",
   "metadata": {},
   "source": [
    "Hypotheses"
   ]
  },
  {
   "cell_type": "markdown",
   "id": "b915c5d1",
   "metadata": {},
   "source": [
    "- mu1 : Thu nhập trung bình của nam\n",
    "- mu2 : Thu nhập trung bình của nữ\n",
    "- H0 : mu1 - mu2 =< 0\n",
    "- H1 : m1 - mu2 > 0"
   ]
  },
  {
   "cell_type": "markdown",
   "id": "7769e74d",
   "metadata": {},
   "source": [
    "test statistic"
   ]
  },
  {
   "cell_type": "code",
   "execution_count": 111,
   "id": "ec652b89",
   "metadata": {},
   "outputs": [],
   "source": [
    "n2 = len(data[data.gender == 'female'])\n",
    "n1 = len(data[data.gender == 'male'])\n",
    "mean_1 = data[data.gender == 'male']['income'].mean()\n",
    "mean_2  =data[data.gender == 'female']['income'].mean()\n",
    "mu1_square = 7000*7000\n",
    "mu2_square = 5000*5000"
   ]
  },
  {
   "attachments": {
    "image.png": {
     "image/png": "[encoded data removed]"
    }
   },
   "cell_type": "markdown",
   "id": "ef416b30",
   "metadata": {},
   "source": [
    "![image.png](attachment:image.png)"
   ]
  },
  {
   "cell_type": "code",
   "execution_count": 114,
   "id": "8496bb7a",
   "metadata": {},
   "outputs": [
    {
     "data": {
      "text/plain": [
       "11.858532354212112"
      ]
     },
     "execution_count": 114,
     "metadata": {},
     "output_type": "execute_result"
    }
   ],
   "source": [
    "z_score = (mean_1-mean_2)/np.sqrt((mu1_square/n1)+(mu2_square/n2))\n",
    "z_score"
   ]
  },
  {
   "cell_type": "markdown",
   "id": "3d4bf4d7",
   "metadata": {},
   "source": [
    "z_0.05 = 1.645 < z_sccore . Do not reject H0. Vậy không đủ bằng chứng để kết luận thu nhập của nam cao hơn của nữ"
   ]
  },
  {
   "cell_type": "markdown",
   "id": "a1a58deb",
   "metadata": {},
   "source": [
    "# với alpha = 0.05, trung bình thu nhập của kh là 13000 đúng hay sai? (chưa biết phương sai)"
   ]
  },
  {
   "cell_type": "code",
   "execution_count": 133,
   "id": "bb4b17de",
   "metadata": {},
   "outputs": [
    {
     "data": {
      "text/plain": [
       "7144.298795694671"
      ]
     },
     "execution_count": 133,
     "metadata": {},
     "output_type": "execute_result"
    }
   ],
   "source": [
    "import statistics\n",
    "standard_deviation = statistics.stdev(data.income)\n",
    "standard_deviation"
   ]
  },
  {
   "cell_type": "markdown",
   "id": "6d0d5fd6",
   "metadata": {},
   "source": [
    "- H0: mu # 13000\n",
    "- H1: mu1 = 13000"
   ]
  },
  {
   "attachments": {
    "image.png": {
     "image/png": "[encoded data removed]"
    }
   },
   "cell_type": "markdown",
   "id": "5c36217f",
   "metadata": {},
   "source": [
    "![image.png](attachment:image.png)"
   ]
  },
  {
   "cell_type": "code",
   "execution_count": 136,
   "id": "fb064fc1",
   "metadata": {},
   "outputs": [
    {
     "data": {
      "text/plain": [
       "-2.6904932307376574"
      ]
     },
     "execution_count": 136,
     "metadata": {},
     "output_type": "execute_result"
    }
   ],
   "source": [
    "z_score = (13000 -  data.income.mean())/(standard_deviation/np.sqrt(500))\n",
    "z_score"
   ]
  },
  {
   "cell_type": "markdown",
   "id": "88d4aaef",
   "metadata": {},
   "source": [
    "p_value = 0.07 > 0.05. Do not reject H0. "
   ]
  },
  {
   "cell_type": "markdown",
   "id": "7dc8f045",
   "metadata": {},
   "source": [
    "# với alpha = 0.05, thu nhập tb của kh nam bằng thu nhập tb của kh nữ đúng hay sai? (chưa biết phương sai)"
   ]
  },
  {
   "cell_type": "code",
   "execution_count": 131,
   "id": "939393f1",
   "metadata": {},
   "outputs": [],
   "source": [
    "standard_deviation_male = statistics.stdev(data[data.gender == 'male']['income'])\n",
    "standard_deviation_female = statistics.stdev(data[data.gender == 'male']['income'])"
   ]
  },
  {
   "attachments": {
    "image-2.png": {
     "image/png": "[encoded data removed]"
    }
   },
   "cell_type": "markdown",
   "id": "59b6a5df",
   "metadata": {},
   "source": [
    "![image-2.png](attachment:image-2.png)"
   ]
  },
  {
   "cell_type": "markdown",
   "id": "ab600899",
   "metadata": {},
   "source": [
    "- Ho : mu1 # mu2\n",
    "- H1: mu1 = mu2"
   ]
  },
  {
   "cell_type": "code",
   "execution_count": 126,
   "id": "d0ee72af",
   "metadata": {},
   "outputs": [
    {
     "data": {
      "text/plain": [
       "8.709406746571693"
      ]
     },
     "execution_count": 126,
     "metadata": {},
     "output_type": "execute_result"
    }
   ],
   "source": [
    "z_score = (mean_1-mean_2)/np.sqrt(((standard_deviation_male**2)/n1)+((standard_deviation_female**2)/n2))\n",
    "z_score"
   ]
  },
  {
   "cell_type": "markdown",
   "id": "d3a378d0",
   "metadata": {},
   "source": [
    "z_0.025 = 1.96 < z_sccore . Do not reject H0. Vậy không đủ bằng chứng để kết luận thu nhập của nam bằng thu nhập của nữ"
   ]
  },
  {
   "cell_type": "markdown",
   "id": "05342dfc",
   "metadata": {},
   "source": [
    "# Liệu có mối quan hệ giữa 2 biến age_group và degree hay không? kiểm định điều đó"
   ]
  },
  {
   "cell_type": "code",
   "execution_count": 159,
   "id": "a5d510eb",
   "metadata": {},
   "outputs": [],
   "source": [
    "data['degree'] = data['degree'].map({'master':3,'highshool':1,'bachelor':2})\n",
    "data['age_group'] = data['age_group'].map({'elder':3,'youth':1,'middle':2})"
   ]
  },
  {
   "cell_type": "code",
   "execution_count": 161,
   "id": "239935d8",
   "metadata": {},
   "outputs": [
    {
     "data": {
      "text/html": [
       "<div>\n",
       "<style scoped>\n",
       "    .dataframe tbody tr th:only-of-type {\n",
       "        vertical-align: middle;\n",
       "    }\n",
       "\n",
       "    .dataframe tbody tr th {\n",
       "        vertical-align: top;\n",
       "    }\n",
       "\n",
       "    .dataframe thead th {\n",
       "        text-align: right;\n",
       "    }\n",
       "</style>\n",
       "<table border=\"1\" class=\"dataframe\">\n",
       "  <thead>\n",
       "    <tr style=\"text-align: right;\">\n",
       "      <th></th>\n",
       "      <th>Code</th>\n",
       "      <th>area</th>\n",
       "      <th>gender</th>\n",
       "      <th>age</th>\n",
       "      <th>age_group</th>\n",
       "      <th>year_of_school</th>\n",
       "      <th>degree</th>\n",
       "      <th>job</th>\n",
       "      <th>know_english</th>\n",
       "      <th>know_france</th>\n",
       "      <th>...</th>\n",
       "      <th>flight_date</th>\n",
       "      <th>flight_status</th>\n",
       "      <th>professionally_staff</th>\n",
       "      <th>customer_service</th>\n",
       "      <th>diversity_product</th>\n",
       "      <th>good_price</th>\n",
       "      <th>easily_transaction</th>\n",
       "      <th>goodlooking_staff</th>\n",
       "      <th>diversity_flighttime</th>\n",
       "      <th>good_construction</th>\n",
       "    </tr>\n",
       "  </thead>\n",
       "  <tbody>\n",
       "    <tr>\n",
       "      <th>0</th>\n",
       "      <td>1</td>\n",
       "      <td>central</td>\n",
       "      <td>female</td>\n",
       "      <td>69</td>\n",
       "      <td>2</td>\n",
       "      <td>16</td>\n",
       "      <td>3</td>\n",
       "      <td>manager</td>\n",
       "      <td>1</td>\n",
       "      <td>1</td>\n",
       "      <td>...</td>\n",
       "      <td>01/05/2013</td>\n",
       "      <td>1</td>\n",
       "      <td>2</td>\n",
       "      <td>2</td>\n",
       "      <td>1</td>\n",
       "      <td>1</td>\n",
       "      <td>2</td>\n",
       "      <td>2</td>\n",
       "      <td>1</td>\n",
       "      <td>1</td>\n",
       "    </tr>\n",
       "    <tr>\n",
       "      <th>1</th>\n",
       "      <td>2</td>\n",
       "      <td>southern</td>\n",
       "      <td>female</td>\n",
       "      <td>50</td>\n",
       "      <td>2</td>\n",
       "      <td>12</td>\n",
       "      <td>1</td>\n",
       "      <td>officer</td>\n",
       "      <td>0</td>\n",
       "      <td>0</td>\n",
       "      <td>...</td>\n",
       "      <td>01/05/2013</td>\n",
       "      <td>1</td>\n",
       "      <td>3</td>\n",
       "      <td>3</td>\n",
       "      <td>3</td>\n",
       "      <td>2</td>\n",
       "      <td>3</td>\n",
       "      <td>3</td>\n",
       "      <td>2</td>\n",
       "      <td>3</td>\n",
       "    </tr>\n",
       "    <tr>\n",
       "      <th>2</th>\n",
       "      <td>3</td>\n",
       "      <td>northern</td>\n",
       "      <td>male</td>\n",
       "      <td>73</td>\n",
       "      <td>3</td>\n",
       "      <td>12</td>\n",
       "      <td>1</td>\n",
       "      <td>officer</td>\n",
       "      <td>1</td>\n",
       "      <td>0</td>\n",
       "      <td>...</td>\n",
       "      <td>01/05/2013</td>\n",
       "      <td>1</td>\n",
       "      <td>2</td>\n",
       "      <td>2</td>\n",
       "      <td>1</td>\n",
       "      <td>2</td>\n",
       "      <td>3</td>\n",
       "      <td>5</td>\n",
       "      <td>1</td>\n",
       "      <td>1</td>\n",
       "    </tr>\n",
       "    <tr>\n",
       "      <th>3</th>\n",
       "      <td>4</td>\n",
       "      <td>northern</td>\n",
       "      <td>female</td>\n",
       "      <td>73</td>\n",
       "      <td>3</td>\n",
       "      <td>12</td>\n",
       "      <td>1</td>\n",
       "      <td>officer</td>\n",
       "      <td>0</td>\n",
       "      <td>0</td>\n",
       "      <td>...</td>\n",
       "      <td>01/05/2013</td>\n",
       "      <td>1</td>\n",
       "      <td>5</td>\n",
       "      <td>3</td>\n",
       "      <td>2</td>\n",
       "      <td>4</td>\n",
       "      <td>5</td>\n",
       "      <td>3</td>\n",
       "      <td>2</td>\n",
       "      <td>2</td>\n",
       "    </tr>\n",
       "    <tr>\n",
       "      <th>4</th>\n",
       "      <td>5</td>\n",
       "      <td>central</td>\n",
       "      <td>male</td>\n",
       "      <td>69</td>\n",
       "      <td>2</td>\n",
       "      <td>16</td>\n",
       "      <td>3</td>\n",
       "      <td>officer</td>\n",
       "      <td>1</td>\n",
       "      <td>0</td>\n",
       "      <td>...</td>\n",
       "      <td>01/05/2013</td>\n",
       "      <td>0</td>\n",
       "      <td>3</td>\n",
       "      <td>3</td>\n",
       "      <td>3</td>\n",
       "      <td>3</td>\n",
       "      <td>3</td>\n",
       "      <td>3</td>\n",
       "      <td>3</td>\n",
       "      <td>3</td>\n",
       "    </tr>\n",
       "  </tbody>\n",
       "</table>\n",
       "<p>5 rows × 23 columns</p>\n",
       "</div>"
      ],
      "text/plain": [
       "   Code      area  gender  age  age_group  year_of_school  degree      job  \\\n",
       "0     1   central  female   69          2              16       3  manager   \n",
       "1     2  southern  female   50          2              12       1  officer   \n",
       "2     3  northern    male   73          3              12       1  officer   \n",
       "3     4  northern  female   73          3              12       1  officer   \n",
       "4     5   central    male   69          2              16       3  officer   \n",
       "\n",
       "   know_english  know_france  ...  flight_date  flight_status  \\\n",
       "0             1            1  ...   01/05/2013              1   \n",
       "1             0            0  ...   01/05/2013              1   \n",
       "2             1            0  ...   01/05/2013              1   \n",
       "3             0            0  ...   01/05/2013              1   \n",
       "4             1            0  ...   01/05/2013              0   \n",
       "\n",
       "  professionally_staff customer_service   diversity_product  good_price  \\\n",
       "0                    2                 2                  1           1   \n",
       "1                    3                 3                  3           2   \n",
       "2                    2                 2                  1           2   \n",
       "3                    5                 3                  2           4   \n",
       "4                    3                 3                  3           3   \n",
       "\n",
       "   easily_transaction  goodlooking_staff  diversity_flighttime  \\\n",
       "0                   2                  2                     1   \n",
       "1                   3                  3                     2   \n",
       "2                   3                  5                     1   \n",
       "3                   5                  3                     2   \n",
       "4                   3                  3                     3   \n",
       "\n",
       "   good_construction  \n",
       "0                  1  \n",
       "1                  3  \n",
       "2                  1  \n",
       "3                  2  \n",
       "4                  3  \n",
       "\n",
       "[5 rows x 23 columns]"
      ]
     },
     "execution_count": 161,
     "metadata": {},
     "output_type": "execute_result"
    }
   ],
   "source": [
    "data.head()"
   ]
  },
  {
   "cell_type": "markdown",
   "id": "e2891f49",
   "metadata": {},
   "source": [
    "- H0: Không tương quan\n",
    "- H1: Tương quan"
   ]
  },
  {
   "cell_type": "code",
   "execution_count": 164,
   "id": "d43c4406",
   "metadata": {},
   "outputs": [],
   "source": [
    "coef, p = spearmanr(data.age_group, data.degree)"
   ]
  },
  {
   "cell_type": "code",
   "execution_count": 165,
   "id": "5ce548bf",
   "metadata": {},
   "outputs": [
    {
     "name": "stdout",
     "output_type": "stream",
     "text": [
      "Spearmans correlation coefficient: -0.148\n",
      "tương quan (reject H0) p=0.001\n"
     ]
    }
   ],
   "source": [
    "print('Spearmans correlation coefficient: %.3f' % coef)\n",
    "# interpret the significance\n",
    "alpha = 0.05\n",
    "if p > alpha:\n",
    "    print('Không tươgn quan (fail to reject H0) p=%.3f' % p)\n",
    "else:\n",
    "    print('tương quan (reject H0) p=%.3f' % p)"
   ]
  },
  {
   "cell_type": "markdown",
   "id": "3d1bc6a7",
   "metadata": {},
   "source": [
    "Vậy hai biến có mối quan hệ với nhau"
   ]
  },
  {
   "cell_type": "markdown",
   "id": "d0bb289d",
   "metadata": {},
   "source": [
    "# Số kh làm officer bằng số kh làm sale và gấp 5 lần số kh làm manager đúng hay sai?"
   ]
  },
  {
   "cell_type": "markdown",
   "id": "d4d0cabc",
   "metadata": {},
   "source": [
    "- Ho: officer = sale = 5 manager\n",
    "- H1: Không bằng"
   ]
  },
  {
   "cell_type": "code",
   "execution_count": null,
   "id": "2f6f1aff",
   "metadata": {},
   "outputs": [],
   "source": []
  },
  {
   "cell_type": "markdown",
   "id": "4de52b53",
   "metadata": {},
   "source": [
    "# Kiểm định phân phối của biến age xem có đúng là pp chuẩn hay ko?"
   ]
  },
  {
   "cell_type": "code",
   "execution_count": 183,
   "id": "e69322f6",
   "metadata": {},
   "outputs": [],
   "source": [
    "H0=  'Không tuân theo phân phôi chuẩn'\n",
    "H1= 'Tuân theo Phân phối chuẩn'"
   ]
  },
  {
   "cell_type": "code",
   "execution_count": 188,
   "id": "d3698c63",
   "metadata": {},
   "outputs": [
    {
     "name": "stdout",
     "output_type": "stream",
     "text": [
      "stat=0.867, p=0.000\n",
      "Tuân theo Phân phối chuẩn\n"
     ]
    }
   ],
   "source": [
    "# Example of the Shapiro-Wilk Normality Test\n",
    "from scipy.stats import shapiro\n",
    "stat, p = shapiro(data.age)\n",
    "print('stat=%.3f, p=%.3f' % (stat, p))\n",
    "if p > 0.05:\n",
    "    print(H0)\n",
    "else:\n",
    "    print(H1)"
   ]
  },
  {
   "cell_type": "code",
   "execution_count": null,
   "id": "3cbb79ee",
   "metadata": {},
   "outputs": [],
   "source": []
  }
 ],
 "metadata": {
  "kernelspec": {
   "display_name": "Python 3 (ipykernel)",
   "language": "python",
   "name": "python3"
  },
  "language_info": {
   "codemirror_mode": {
    "name": "ipython",
    "version": 3
   },
   "file_extension": ".py",
   "mimetype": "text/x-python",
   "name": "python",
   "nbconvert_exporter": "python",
   "pygments_lexer": "ipython3",
   "version": "3.9.6"
  }
 },
 "nbformat": 4,
 "nbformat_minor": 5
}
