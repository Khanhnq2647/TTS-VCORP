{
 "cells": [
  {
   "cell_type": "code",
   "execution_count": 34,
   "id": "8ec09001",
   "metadata": {},
   "outputs": [],
   "source": [
    "import pandas as pd\n",
    "from scipy.stats import *\n",
    "import pandas as pd\n",
    "import matplotlib.pyplot as plt\n",
    "%matplotlib inline\n",
    "import seaborn as sns\n",
    "from pyspark.sql.types import IntegerType, FloatType ,DateType\n",
    "from pyspark.sql import SparkSession\n",
    "import findspark\n",
    "import pyspark.sql.functions as F\n",
    "from pyspark.sql.functions import *\n",
    "sns.set_style('whitegrid')\n",
    "import matplotlib.pyplot as plt\n",
    "import numpy as np"
   ]
  },
  {
   "cell_type": "code",
   "execution_count": 5,
   "id": "384167c7",
   "metadata": {},
   "outputs": [
    {
     "data": {
      "text/plain": [
       "'C:\\\\Spark\\\\spark-3.0.3-bin-hadoop2.7'"
      ]
     },
     "execution_count": 5,
     "metadata": {},
     "output_type": "execute_result"
    }
   ],
   "source": [
    "findspark.init()\n",
    "findspark.find()"
   ]
  },
  {
   "cell_type": "code",
   "execution_count": 6,
   "id": "cc7e232f",
   "metadata": {},
   "outputs": [],
   "source": [
    "spark = SparkSession \\\n",
    "    .builder \\\n",
    "    .appName(\"Hypothesis \") \\\n",
    "    .config(\"spark.some.config.option\", \"some-value\") \\\n",
    "    .getOrCreate()"
   ]
  },
  {
   "cell_type": "markdown",
   "id": "6080fafa",
   "metadata": {},
   "source": [
    "# Read data"
   ]
  },
  {
   "cell_type": "code",
   "execution_count": 156,
   "id": "b726ce38",
   "metadata": {},
   "outputs": [
    {
     "name": "stdout",
     "output_type": "stream",
     "text": [
      "root\n",
      " |-- Code: string (nullable = true)\n",
      " |-- area: string (nullable = true)\n",
      " |-- gender: string (nullable = true)\n",
      " |-- age: string (nullable = true)\n",
      " |-- age_group: string (nullable = true)\n",
      " |-- year_of_school: string (nullable = true)\n",
      " |-- degree: string (nullable = true)\n",
      " |-- job: string (nullable = true)\n",
      " |-- know_english: string (nullable = true)\n",
      " |-- know_france: string (nullable = true)\n",
      " |-- know_chinese: string (nullable = true)\n",
      " |-- income: string (nullable = true)\n",
      " |-- booking_date: string (nullable = true)\n",
      " |-- flight_date: string (nullable = true)\n",
      " |-- flight_status: string (nullable = true)\n",
      " |-- professionally_staff: string (nullable = true)\n",
      " |-- customer_service : string (nullable = true)\n",
      " |-- diversity_product: string (nullable = true)\n",
      " |-- good_price: string (nullable = true)\n",
      " |-- easily_transaction: string (nullable = true)\n",
      " |-- goodlooking_staff: string (nullable = true)\n",
      " |-- diversity_flighttime: string (nullable = true)\n",
      " |-- good_construction: string (nullable = true)\n",
      "\n"
     ]
    }
   ],
   "source": [
    "df = spark.read.csv(\".\\data\\practive pyspark.csv\", header =True)\n",
    "df.printSchema()"
   ]
  },
  {
   "cell_type": "markdown",
   "id": "bba540e5",
   "metadata": {},
   "source": [
    "# preprocessing data"
   ]
  },
  {
   "cell_type": "code",
   "execution_count": 157,
   "id": "395e84cb",
   "metadata": {},
   "outputs": [
    {
     "name": "stdout",
     "output_type": "stream",
     "text": [
      "root\n",
      " |-- Code: integer (nullable = true)\n",
      " |-- area: string (nullable = true)\n",
      " |-- gender: string (nullable = true)\n",
      " |-- age: integer (nullable = true)\n",
      " |-- age_group: string (nullable = true)\n",
      " |-- year_of_school: integer (nullable = true)\n",
      " |-- degree: string (nullable = true)\n",
      " |-- job: string (nullable = true)\n",
      " |-- know_english: integer (nullable = true)\n",
      " |-- know_france: integer (nullable = true)\n",
      " |-- know_chinese: integer (nullable = true)\n",
      " |-- income: integer (nullable = true)\n",
      " |-- booking_date: string (nullable = true)\n",
      " |-- flight_date: string (nullable = true)\n",
      " |-- flight_status: integer (nullable = true)\n",
      " |-- professionally_staff: integer (nullable = true)\n",
      " |-- customer_service : integer (nullable = true)\n",
      " |-- diversity_product: integer (nullable = true)\n",
      " |-- good_price: integer (nullable = true)\n",
      " |-- easily_transaction: integer (nullable = true)\n",
      " |-- goodlooking_staff: integer (nullable = true)\n",
      " |-- diversity_flighttime: integer (nullable = true)\n",
      " |-- good_construction: integer (nullable = true)\n",
      "\n"
     ]
    }
   ],
   "source": [
    "#Convering str to numberic\n",
    "df = df.withColumn('Code', F.col('Code').cast(IntegerType()))\\\n",
    "        .withColumn('age', F.col('age').cast(IntegerType()))\\\n",
    "        .withColumn('year_of_school',F.col('year_of_school').cast(IntegerType()))\\\n",
    "        .withColumn('know_english', F.col('know_english').cast(IntegerType()))\\\n",
    "        .withColumn('know_france', F.col('know_france').cast(IntegerType()))\\\n",
    "        .withColumn('know_chinese', F.col('know_chinese').cast(IntegerType()))\\\n",
    "        .withColumn('income', F.col('income').cast(IntegerType()))\\\n",
    "        .withColumn('flight_status', F.col('flight_status').cast(IntegerType()))\\\n",
    "        .withColumn('professionally_staff', F.col('professionally_staff').cast(IntegerType()))\\\n",
    "        .withColumn('customer_service ', F.col('customer_service ').cast(IntegerType()))\\\n",
    "        .withColumn('diversity_product', F.col('diversity_product').cast(IntegerType()))\\\n",
    "        .withColumn('good_price', F.col('good_price').cast(IntegerType()))\\\n",
    "        .withColumn('easily_transaction', F.col('easily_transaction').cast(IntegerType()))\\\n",
    "        .withColumn('goodlooking_staff', F.col('goodlooking_staff').cast(IntegerType()))\\\n",
    "        .withColumn('diversity_flighttime', F.col('diversity_flighttime').cast(IntegerType()))\\\n",
    "        .withColumn('good_construction', F.col('good_construction').cast(IntegerType()))\n",
    "df.printSchema()"
   ]
  },
  {
   "cell_type": "code",
   "execution_count": 158,
   "id": "e7cceb2e",
   "metadata": {},
   "outputs": [],
   "source": [
    "data = df.toPandas()"
   ]
  },
  {
   "cell_type": "markdown",
   "id": "87fcbce5",
   "metadata": {},
   "source": [
    "# 1. Giả sử thu nhập của kh có độ lệch chuẩn là 5000, với alpha=0.05, có thể kết luận thu nhập trung bình của kh là 14000 hay không?\n"
   ]
  },
  {
   "cell_type": "markdown",
   "id": "778025f3",
   "metadata": {},
   "source": [
    "- H0 : mu # 14000\n",
    "- H1 : mu = 14000"
   ]
  },
  {
   "cell_type": "code",
   "execution_count": 134,
   "id": "271fbe28",
   "metadata": {},
   "outputs": [
    {
     "data": {
      "text/plain": [
       "-0.6277984453628374"
      ]
     },
     "execution_count": 134,
     "metadata": {},
     "output_type": "execute_result"
    }
   ],
   "source": [
    "z_score = (-14000+data.income.mean())/(5000/np.sqrt(len(data.income)))\n",
    "z_score"
   ]
  },
  {
   "cell_type": "markdown",
   "id": "6a3f95a2",
   "metadata": {},
   "source": [
    "p_value = 1-0.4480 = 0.552> 0.05 . Vậy Fail to reject H0. \n",
    "-  95% thu nhập  trung bình  # 14000"
   ]
  },
  {
   "cell_type": "markdown",
   "id": "11b0ad04",
   "metadata": {},
   "source": [
    "# Có kết luận cho rằng thu nhập trung bình của nam cao hơn nữ 5000, đúng hay sai? biết aplpha = 0.05, độ lệch chuẩn thu nhập của nam và nữ lần lượt là 7000 và 5000."
   ]
  },
  {
   "cell_type": "markdown",
   "id": "fafa863b",
   "metadata": {},
   "source": [
    "Hypotheses"
   ]
  },
  {
   "cell_type": "markdown",
   "id": "b915c5d1",
   "metadata": {},
   "source": [
    "- mu1 : Thu nhập trung bình của nam\n",
    "- mu2 : Thu nhập trung bình của nữ\n",
    "- H0 : mu1 - mu2 =< 0\n",
    "- H1 : m1 - mu2 > 0"
   ]
  },
  {
   "cell_type": "markdown",
   "id": "7769e74d",
   "metadata": {},
   "source": [
    "test statistic"
   ]
  },
  {
   "cell_type": "code",
   "execution_count": 111,
   "id": "ec652b89",
   "metadata": {},
   "outputs": [],
   "source": [
    "n2 = len(data[data.gender == 'female'])\n",
    "n1 = len(data[data.gender == 'male'])\n",
    "mean_1 = data[data.gender == 'male']['income'].mean()\n",
    "mean_2  =data[data.gender == 'female']['income'].mean()\n",
    "mu1_square = 7000*7000\n",
    "mu2_square = 5000*5000"
   ]
  },
  {
   "attachments": {
    "image.png": {
     "image/png": "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"
    }
   },
   "cell_type": "markdown",
   "id": "ef416b30",
   "metadata": {},
   "source": [
    "![image.png](attachment:image.png)"
   ]
  },
  {
   "cell_type": "code",
   "execution_count": 114,
   "id": "8496bb7a",
   "metadata": {},
   "outputs": [
    {
     "data": {
      "text/plain": [
       "11.858532354212112"
      ]
     },
     "execution_count": 114,
     "metadata": {},
     "output_type": "execute_result"
    }
   ],
   "source": [
    "z_score = (mean_1-mean_2)/np.sqrt((mu1_square/n1)+(mu2_square/n2))\n",
    "z_score"
   ]
  },
  {
   "cell_type": "markdown",
   "id": "3d4bf4d7",
   "metadata": {},
   "source": [
    "z_0.05 = 1.645 < z_sccore . Do not reject H0. Vậy không đủ bằng chứng để kết luận thu nhập của nam cao hơn của nữ"
   ]
  },
  {
   "cell_type": "markdown",
   "id": "a1a58deb",
   "metadata": {},
   "source": [
    "# với alpha = 0.05, trung bình thu nhập của kh là 13000 đúng hay sai? (chưa biết phương sai)"
   ]
  },
  {
   "cell_type": "code",
   "execution_count": 133,
   "id": "bb4b17de",
   "metadata": {},
   "outputs": [
    {
     "data": {
      "text/plain": [
       "7144.298795694671"
      ]
     },
     "execution_count": 133,
     "metadata": {},
     "output_type": "execute_result"
    }
   ],
   "source": [
    "import statistics\n",
    "standard_deviation = statistics.stdev(data.income)\n",
    "standard_deviation"
   ]
  },
  {
   "cell_type": "markdown",
   "id": "6d0d5fd6",
   "metadata": {},
   "source": [
    "- H0: mu # 13000\n",
    "- H1: mu1 = 13000"
   ]
  },

   },
   "cell_type": "markdown",
   "id": "5c36217f",
   "metadata": {},
   "source": [
    "![image.png](attachment:image.png)"
   ]
  },
  {
   "cell_type": "code",
   "execution_count": 136,
   "id": "fb064fc1",
   "metadata": {},
   "outputs": [
    {
     "data": {
      "text/plain": [
       "-2.6904932307376574"
      ]
     },
     "execution_count": 136,
     "metadata": {},
     "output_type": "execute_result"
    }
   ],
   "source": [
    "z_score = (13000 -  data.income.mean())/(standard_deviation/np.sqrt(500))\n",
    "z_score"
   ]
  },
  {
   "cell_type": "markdown",
   "id": "88d4aaef",
   "metadata": {},
   "source": [
    "p_value = 0.07 > 0.05. Do not reject H0. "
   ]
  },
  {
   "cell_type": "markdown",
   "id": "7dc8f045",
   "metadata": {},
   "source": [
    "# với alpha = 0.05, thu nhập tb của kh nam bằng thu nhập tb của kh nữ đúng hay sai? (chưa biết phương sai)"
   ]
  },
  {
   "cell_type": "code",
   "execution_count": 131,
   "id": "939393f1",
   "metadata": {},
   "outputs": [],
   "source": [
    "standard_deviation_male = statistics.stdev(data[data.gender == 'male']['income'])\n",
    "standard_deviation_female = statistics.stdev(data[data.gender == 'male']['income'])"
   ]
  },
  {
   "attachments": {
    "image-2.png": {
     "image/png": "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"
    }
   },
   "cell_type": "markdown",
   "id": "59b6a5df",
   "metadata": {},
   "source": [
    "![image-2.png](attachment:image-2.png)"
   ]
  },
  {
   "cell_type": "markdown",
   "id": "ab600899",
   "metadata": {},
   "source": [
    "- Ho : mu1 # mu2\n",
    "- H1: mu1 = mu2"
   ]
  },
  {
   "cell_type": "code",
   "execution_count": 126,
   "id": "d0ee72af",
   "metadata": {},
   "outputs": [
    {
     "data": {
      "text/plain": [
       "8.709406746571693"
      ]
     },
     "execution_count": 126,
     "metadata": {},
     "output_type": "execute_result"
    }
   ],
   "source": [
    "z_score = (mean_1-mean_2)/np.sqrt(((standard_deviation_male**2)/n1)+((standard_deviation_female**2)/n2))\n",
    "z_score"
   ]
  },
  {
   "cell_type": "markdown",
   "id": "d3a378d0",
   "metadata": {},
   "source": [
    "z_0.025 = 1.96 < z_sccore . Do not reject H0. Vậy không đủ bằng chứng để kết luận thu nhập của nam bằng thu nhập của nữ"
   ]
  },
  {
   "cell_type": "markdown",
   "id": "05342dfc",
   "metadata": {},
   "source": [
    "# Liệu có mối quan hệ giữa 2 biến age_group và degree hay không? kiểm định điều đó"
   ]
  },
  {
   "cell_type": "code",
   "execution_count": 159,
   "id": "a5d510eb",
   "metadata": {},
   "outputs": [],
   "source": [
    "data['degree'] = data['degree'].map({'master':3,'highshool':1,'bachelor':2})\n",
    "data['age_group'] = data['age_group'].map({'elder':3,'youth':1,'middle':2})"
   ]
  },
  {
   "cell_type": "code",
   "execution_count": 161,
   "id": "239935d8",
   "metadata": {},
   "outputs": [
    {
     "data": {
      "text/html": [
       "<div>\n",
       "<style scoped>\n",
       "    .dataframe tbody tr th:only-of-type {\n",
       "        vertical-align: middle;\n",
       "    }\n",
       "\n",
       "    .dataframe tbody tr th {\n",
       "        vertical-align: top;\n",
       "    }\n",
       "\n",
       "    .dataframe thead th {\n",
       "        text-align: right;\n",
       "    }\n",
       "</style>\n",
       "<table border=\"1\" class=\"dataframe\">\n",
       "  <thead>\n",
       "    <tr style=\"text-align: right;\">\n",
       "      <th></th>\n",
       "      <th>Code</th>\n",
       "      <th>area</th>\n",
       "      <th>gender</th>\n",
       "      <th>age</th>\n",
       "      <th>age_group</th>\n",
       "      <th>year_of_school</th>\n",
       "      <th>degree</th>\n",
       "      <th>job</th>\n",
       "      <th>know_english</th>\n",
       "      <th>know_france</th>\n",
       "      <th>...</th>\n",
       "      <th>flight_date</th>\n",
       "      <th>flight_status</th>\n",
       "      <th>professionally_staff</th>\n",
       "      <th>customer_service</th>\n",
       "      <th>diversity_product</th>\n",
       "      <th>good_price</th>\n",
       "      <th>easily_transaction</th>\n",
       "      <th>goodlooking_staff</th>\n",
       "      <th>diversity_flighttime</th>\n",
       "      <th>good_construction</th>\n",
       "    </tr>\n",
       "  </thead>\n",
       "  <tbody>\n",
       "    <tr>\n",
       "      <th>0</th>\n",
       "      <td>1</td>\n",
       "      <td>central</td>\n",
       "      <td>female</td>\n",
       "      <td>69</td>\n",
       "      <td>2</td>\n",
       "      <td>16</td>\n",
       "      <td>3</td>\n",
       "      <td>manager</td>\n",
       "      <td>1</td>\n",
       "      <td>1</td>\n",
       "      <td>...</td>\n",
       "      <td>01/05/2013</td>\n",
       "      <td>1</td>\n",
       "      <td>2</td>\n",
       "      <td>2</td>\n",
       "      <td>1</td>\n",
       "      <td>1</td>\n",
       "      <td>2</td>\n",
       "      <td>2</td>\n",
       "      <td>1</td>\n",
       "      <td>1</td>\n",
       "    </tr>\n",
       "    <tr>\n",
       "      <th>1</th>\n",
       "      <td>2</td>\n",
       "      <td>southern</td>\n",
       "      <td>female</td>\n",
       "      <td>50</td>\n",
       "      <td>2</td>\n",
       "      <td>12</td>\n",
       "      <td>1</td>\n",
       "      <td>officer</td>\n",
       "      <td>0</td>\n",
       "      <td>0</td>\n",
       "      <td>...</td>\n",
       "      <td>01/05/2013</td>\n",
       "      <td>1</td>\n",
       "      <td>3</td>\n",
       "      <td>3</td>\n",
       "      <td>3</td>\n",
       "      <td>2</td>\n",
       "      <td>3</td>\n",
       "      <td>3</td>\n",
       "      <td>2</td>\n",
       "      <td>3</td>\n",
       "    </tr>\n",
       "    <tr>\n",
       "      <th>2</th>\n",
       "      <td>3</td>\n",
       "      <td>northern</td>\n",
       "      <td>male</td>\n",
       "      <td>73</td>\n",
       "      <td>3</td>\n",
       "      <td>12</td>\n",
       "      <td>1</td>\n",
       "      <td>officer</td>\n",
       "      <td>1</td>\n",
       "      <td>0</td>\n",
       "      <td>...</td>\n",
       "      <td>01/05/2013</td>\n",
       "      <td>1</td>\n",
       "      <td>2</td>\n",
       "      <td>2</td>\n",
       "      <td>1</td>\n",
       "      <td>2</td>\n",
       "      <td>3</td>\n",
       "      <td>5</td>\n",
       "      <td>1</td>\n",
       "      <td>1</td>\n",
       "    </tr>\n",
       "    <tr>\n",
       "      <th>3</th>\n",
       "      <td>4</td>\n",
       "      <td>northern</td>\n",
       "      <td>female</td>\n",
       "      <td>73</td>\n",
       "      <td>3</td>\n",
       "      <td>12</td>\n",
       "      <td>1</td>\n",
       "      <td>officer</td>\n",
       "      <td>0</td>\n",
       "      <td>0</td>\n",
       "      <td>...</td>\n",
       "      <td>01/05/2013</td>\n",
       "      <td>1</td>\n",
       "      <td>5</td>\n",
       "      <td>3</td>\n",
       "      <td>2</td>\n",
       "      <td>4</td>\n",
       "      <td>5</td>\n",
       "      <td>3</td>\n",
       "      <td>2</td>\n",
       "      <td>2</td>\n",
       "    </tr>\n",
       "    <tr>\n",
       "      <th>4</th>\n",
       "      <td>5</td>\n",
       "      <td>central</td>\n",
       "      <td>male</td>\n",
       "      <td>69</td>\n",
       "      <td>2</td>\n",
       "      <td>16</td>\n",
       "      <td>3</td>\n",
       "      <td>officer</td>\n",
       "      <td>1</td>\n",
       "      <td>0</td>\n",
       "      <td>...</td>\n",
       "      <td>01/05/2013</td>\n",
       "      <td>0</td>\n",
       "      <td>3</td>\n",
       "      <td>3</td>\n",
       "      <td>3</td>\n",
       "      <td>3</td>\n",
       "      <td>3</td>\n",
       "      <td>3</td>\n",
       "      <td>3</td>\n",
       "      <td>3</td>\n",
       "    </tr>\n",
       "  </tbody>\n",
       "</table>\n",
       "<p>5 rows × 23 columns</p>\n",
       "</div>"
      ],
      "text/plain": [
       "   Code      area  gender  age  age_group  year_of_school  degree      job  \\\n",
       "0     1   central  female   69          2              16       3  manager   \n",
       "1     2  southern  female   50          2              12       1  officer   \n",
       "2     3  northern    male   73          3              12       1  officer   \n",
       "3     4  northern  female   73          3              12       1  officer   \n",
       "4     5   central    male   69          2              16       3  officer   \n",
       "\n",
       "   know_english  know_france  ...  flight_date  flight_status  \\\n",
       "0             1            1  ...   01/05/2013              1   \n",
       "1             0            0  ...   01/05/2013              1   \n",
       "2             1            0  ...   01/05/2013              1   \n",
       "3             0            0  ...   01/05/2013              1   \n",
       "4             1            0  ...   01/05/2013              0   \n",
       "\n",
       "  professionally_staff customer_service   diversity_product  good_price  \\\n",
       "0                    2                 2                  1           1   \n",
       "1                    3                 3                  3           2   \n",
       "2                    2                 2                  1           2   \n",
       "3                    5                 3                  2           4   \n",
       "4                    3                 3                  3           3   \n",
       "\n",
       "   easily_transaction  goodlooking_staff  diversity_flighttime  \\\n",
       "0                   2                  2                     1   \n",
       "1                   3                  3                     2   \n",
       "2                   3                  5                     1   \n",
       "3                   5                  3                     2   \n",
       "4                   3                  3                     3   \n",
       "\n",
       "   good_construction  \n",
       "0                  1  \n",
       "1                  3  \n",
       "2                  1  \n",
       "3                  2  \n",
       "4                  3  \n",
       "\n",
       "[5 rows x 23 columns]"
      ]
     },
     "execution_count": 161,
     "metadata": {},
     "output_type": "execute_result"
    }
   ],
   "source": [
    "data.head()"
   ]
  },
  {
   "cell_type": "markdown",
   "id": "e2891f49",
   "metadata": {},
   "source": [
    "- H0: Không tương quan\n",
    "- H1: Tương quan"
   ]
  },
  {
   "cell_type": "code",
   "execution_count": 164,
   "id": "d43c4406",
   "metadata": {},
   "outputs": [],
   "source": [
    "coef, p = spearmanr(data.age_group, data.degree)"
   ]
  },
  {
   "cell_type": "code",
   "execution_count": 165,
   "id": "5ce548bf",
   "metadata": {},
   "outputs": [
    {
     "name": "stdout",
     "output_type": "stream",
     "text": [
      "Spearmans correlation coefficient: -0.148\n",
      "tương quan (reject H0) p=0.001\n"
     ]
    }
   ],
   "source": [
    "print('Spearmans correlation coefficient: %.3f' % coef)\n",
    "# interpret the significance\n",
    "alpha = 0.05\n",
    "if p > alpha:\n",
    "    print('Không tươgn quan (fail to reject H0) p=%.3f' % p)\n",
    "else:\n",
    "    print('tương quan (reject H0) p=%.3f' % p)"
   ]
  },
  {
   "cell_type": "markdown",
   "id": "3d1bc6a7",
   "metadata": {},
   "source": [
    "Vậy hai biến có mối quan hệ với nhau"
   ]
  },
  {
   "cell_type": "markdown",
   "id": "d0bb289d",
   "metadata": {},
   "source": [
    "# Số kh làm officer bằng số kh làm sale và gấp 5 lần số kh làm manager đúng hay sai?"
   ]
  },
  {
   "cell_type": "markdown",
   "id": "d4d0cabc",
   "metadata": {},
   "source": [
    "- Ho: officer = sale = 5 manager\n",
    "- H1: Không bằng"
   ]
  },
  {
   "cell_type": "code",
   "execution_count": null,
   "id": "2f6f1aff",
   "metadata": {},
   "outputs": [],
   "source": []
  },
  {
   "cell_type": "markdown",
   "id": "4de52b53",
   "metadata": {},
   "source": [
    "# Kiểm định phân phối của biến age xem có đúng là pp chuẩn hay ko?"
   ]
  },
  {
   "cell_type": "code",
   "execution_count": 183,
   "id": "e69322f6",
   "metadata": {},
   "outputs": [],
   "source": [
    "H0=  'Không tuân theo phân phôi chuẩn'\n",
    "H1= 'Tuân theo Phân phối chuẩn'"
   ]
  },
  {
   "cell_type": "code",
   "execution_count": 188,
   "id": "d3698c63",
   "metadata": {},
   "outputs": [
    {
     "name": "stdout",
     "output_type": "stream",
     "text": [
      "stat=0.867, p=0.000\n",
      "Tuân theo Phân phối chuẩn\n"
     ]
    }
   ],
   "source": [
    "# Example of the Shapiro-Wilk Normality Test\n",
    "from scipy.stats import shapiro\n",
    "stat, p = shapiro(data.age)\n",
    "print('stat=%.3f, p=%.3f' % (stat, p))\n",
    "if p > 0.05:\n",
    "    print(H0)\n",
    "else:\n",
    "    print(H1)"
   ]
  },
  {
   "cell_type": "code",
   "execution_count": null,
   "id": "3cbb79ee",
   "metadata": {},
   "outputs": [],
   "source": []
  }
 ],
 "metadata": {
  "kernelspec": {
   "display_name": "Python 3 (ipykernel)",
   "language": "python",
   "name": "python3"
  },
  "language_info": {
   "codemirror_mode": {
    "name": "ipython",
    "version": 3
   },
   "file_extension": ".py",
   "mimetype": "text/x-python",
   "name": "python",
   "nbconvert_exporter": "python",
   "pygments_lexer": "ipython3",
   "version": "3.9.6"
  }
 },
 "nbformat": 4,
 "nbformat_minor": 5
}
