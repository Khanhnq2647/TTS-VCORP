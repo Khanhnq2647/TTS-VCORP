{
 "cells": [
  {
   "cell_type": "code",
   "execution_count": 112,
   "id": "16716743",
   "metadata": {},
   "outputs": [],
   "source": [
    "from pyspark.sql.types import IntegerType, FloatType\n",
    "from pyspark.sql import SparkSession, DataFrame\n",
    "import pyspark.sql.functions as F\n",
    "import findspark"
   ]
  },
  {
   "cell_type": "code",
   "execution_count": 113,
   "id": "974c275a",
   "metadata": {},
   "outputs": [
    {
     "data": {
      "text/plain": [
       "'C:\\\\Spark\\\\spark-3.0.3-bin-hadoop2.7'"
      ]
     },
     "execution_count": 113,
     "metadata": {},
     "output_type": "execute_result"
    }
   ],
   "source": [
    "findspark.init()\n",
    "findspark.find()\n"
   ]
  },
  {
   "cell_type": "code",
   "execution_count": 114,
   "id": "68a7f744",
   "metadata": {},
   "outputs": [],
   "source": [
    "spark = SparkSession \\\n",
    ".builder \\\n",
    ".appName(\"Phân tích điểm thi đai học\") \\\n",
    ".config(\"spark.some.config.option\", \"some-value\") \\\n",
    ".getOrCreate()\n"
   ]
  },
  {
   "cell_type": "code",
   "execution_count": 111,
   "id": "966a8400",
   "metadata": {},
   "outputs": [],
   "source": [
    "from pyspark.sql import SparkSession\n",
    "spark = SparkSession.builder \\\n",
    "         .appName('SparkByExamples.com') \\\n",
    "         .getOrCreate()"
   ]
  },
  {
   "cell_type": "code",
   "execution_count": null,
   "id": "1b225bd8",
   "metadata": {},
   "outputs": [],
   "source": []
  },
  {
   "cell_type": "code",
   "execution_count": 7,
   "id": "760b830a",
   "metadata": {},
   "outputs": [],
   "source": [
    "data = [('James','','Smith','1991-04-01','M',3000),\n",
    "  ('Michael','Rose','','2000-05-19','M',4000),\n",
    "  ('Robert','','Williams','1978-09-05','M',4000),\n",
    "  ('Maria','Anne','Jones','1967-12-01','F',4000),\n",
    "  ('Jen','Mary','Brown','1980-02-17','F',-1)\n",
    "]\n",
    "\n",
    "columns = [\"firstname\",\"middlename\",\"lastname\",\"dob\",\"gender\",\"salary\"]\n",
    "df = spark.createDataFrame(data=data, schema = columns)"
   ]
  },
  {
   "cell_type": "code",
   "execution_count": 8,
   "id": "714e498b",
   "metadata": {},
   "outputs": [
    {
     "name": "stdout",
     "output_type": "stream",
     "text": [
      "+---------+----------+--------+----------+------+------+\n",
      "|firstname|middlename|lastname|       dob|gender|salary|\n",
      "+---------+----------+--------+----------+------+------+\n",
      "|    James|          |   Smith|1991-04-01|     M|  3000|\n",
      "|  Michael|      Rose|        |2000-05-19|     M|  4000|\n",
      "|   Robert|          |Williams|1978-09-05|     M|  4000|\n",
      "|    Maria|      Anne|   Jones|1967-12-01|     F|  4000|\n",
      "|      Jen|      Mary|   Brown|1980-02-17|     F|    -1|\n",
      "+---------+----------+--------+----------+------+------+\n",
      "\n"
     ]
    }
   ],
   "source": [
    "df.show()"
   ]
  },
  {
   "cell_type": "markdown",
   "id": "42e5822f",
   "metadata": {},
   "source": [
    " Read file csv"
   ]
  },
  {
   "cell_type": "code",
   "execution_count": 18,
   "id": "f619a873",
   "metadata": {},
   "outputs": [
    {
     "name": "stdout",
     "output_type": "stream",
     "text": [
      "root\n",
      " |-- SBD: string (nullable = true)\n",
      " |-- Toan: string (nullable = true)\n",
      " |-- Ngu_van: string (nullable = true)\n",
      " |-- Ngoai_ngu: string (nullable = true)\n",
      " |-- Vat_ly: string (nullable = true)\n",
      " |-- Hoa_hoc: string (nullable = true)\n",
      " |-- Sinh_hoc: string (nullable = true)\n",
      " |-- Lich_su: string (nullable = true)\n",
      " |-- Dia_ly: string (nullable = true)\n",
      " |-- GDCD: string (nullable = true)\n",
      " |-- Cum_thi: string (nullable = true)\n",
      "\n",
      "+-------+----+-------+---------+------+-------+--------+-------+------+----+-------+\n",
      "|    SBD|Toan|Ngu_van|Ngoai_ngu|Vat_ly|Hoa_hoc|Sinh_hoc|Lich_su|Dia_ly|GDCD|Cum_thi|\n",
      "+-------+----+-------+---------+------+-------+--------+-------+------+----+-------+\n",
      "|1000001| 2.2|    3.5|     null|  null|   null|    null|    2.5|   5.5|null|      1|\n",
      "|1000002| 9.2|   8.25|       10|  null|   null|    null|   5.75|  9.75|9.25|      1|\n",
      "|1000003| 4.4|   6.25|     null|  null|   null|    null|   4.25|     4|null|      1|\n",
      "|1000004| 8.4|   6.75|       10|     4|      3|     3.5|   null|  null|null|      1|\n",
      "|1000005| 8.8|   8.25|      9.4|  8.25|   5.75|    5.25|   null|  null|null|      1|\n",
      "+-------+----+-------+---------+------+-------+--------+-------+------+----+-------+\n",
      "only showing top 5 rows\n",
      "\n"
     ]
    }
   ],
   "source": [
    "df = spark.read.csv(\"Diemthi2021.csv\", header = True)\n",
    "df.printSchema()\n",
    "df.show(5)"
   ]
  },
  {
   "cell_type": "code",
   "execution_count": 19,
   "id": "b19e3d60",
   "metadata": {},
   "outputs": [
    {
     "name": "stdout",
     "output_type": "stream",
     "text": [
      "root\n",
      " |-- SBD: string (nullable = true)\n",
      " |-- Toan: float (nullable = true)\n",
      " |-- Ngu_van: float (nullable = true)\n",
      " |-- Ngoai_ngu: float (nullable = true)\n",
      " |-- Vat_ly: float (nullable = true)\n",
      " |-- Hoa_hoc: float (nullable = true)\n",
      " |-- Sinh_hoc: float (nullable = true)\n",
      " |-- Lich_su: float (nullable = true)\n",
      " |-- Dia_ly: float (nullable = true)\n",
      " |-- GDCD: float (nullable = true)\n",
      " |-- Cum_thi: integer (nullable = true)\n",
      "\n"
     ]
    }
   ],
   "source": [
    "#Convering str to float\n",
    "df = df.withColumn('Toan', F.col('Toan').cast(FloatType()))\n",
    "df = df.withColumn('Ngu_van', F.col('Ngu_van').cast(FloatType()))\n",
    "df = df.withColumn('Ngoai_ngu',F.col('Ngoai_ngu').cast(FloatType()))\n",
    "df = df.withColumn('Vat_ly', F.col('Vat_ly').cast(FloatType()))\n",
    "df = df.withColumn('Hoa_hoc', F.col('Hoa_hoc').cast(FloatType()))\n",
    "df = df.withColumn('Sinh_hoc', F.col('Sinh_hoc').cast(FloatType()))\n",
    "df = df.withColumn('Lich_su', F.col('Lich_su').cast(FloatType()))\n",
    "df = df.withColumn('Dia_ly', F.col('Dia_ly').cast(FloatType()))\n",
    "df = df.withColumn('GDCD', F.col('GDCD').cast(FloatType()))\n",
    "df = df.withColumn('Cum_thi', F.col('Cum_thi').cast(IntegerType()))\n",
    "df.printSchema()"
   ]
  },
  {
   "cell_type": "code",
   "execution_count": 20,
   "id": "fd9ae262",
   "metadata": {},
   "outputs": [
    {
     "name": "stdout",
     "output_type": "stream",
     "text": [
      "root\n",
      " |-- SBD: string (nullable = true)\n",
      " |-- Toan: float (nullable = true)\n",
      " |-- Ngu_van: float (nullable = true)\n",
      " |-- Ngoai_ngu: float (nullable = true)\n",
      " |-- Vat_ly: float (nullable = true)\n",
      " |-- Hoa_hoc: float (nullable = true)\n",
      " |-- Sinh_hoc: float (nullable = true)\n",
      " |-- Lich_su: float (nullable = true)\n",
      " |-- Dia_ly: float (nullable = true)\n",
      " |-- GDCD: float (nullable = true)\n",
      " |-- Cum_thi: integer (nullable = true)\n",
      "\n",
      "+-------+----+-------+---------+------+-------+--------+-------+------+----+-------+\n",
      "|    SBD|Toan|Ngu_van|Ngoai_ngu|Vat_ly|Hoa_hoc|Sinh_hoc|Lich_su|Dia_ly|GDCD|Cum_thi|\n",
      "+-------+----+-------+---------+------+-------+--------+-------+------+----+-------+\n",
      "|1000001| 2.2|    3.5|     null|  null|   null|    null|    2.5|   5.5|null|      1|\n",
      "|1000002| 9.2|   8.25|     10.0|  null|   null|    null|   5.75|  9.75|9.25|      1|\n",
      "|1000003| 4.4|   6.25|     null|  null|   null|    null|   4.25|   4.0|null|      1|\n",
      "|1000004| 8.4|   6.75|     10.0|   4.0|    3.0|     3.5|   null|  null|null|      1|\n",
      "|1000005| 8.8|   8.25|      9.4|  8.25|   5.75|    5.25|   null|  null|null|      1|\n",
      "+-------+----+-------+---------+------+-------+--------+-------+------+----+-------+\n",
      "only showing top 5 rows\n",
      "\n"
     ]
    }
   ],
   "source": [
    "#PySpark SQL Tutorial\n",
    "df.createOrReplaceTempView(\"Diemthidh2021\")\n",
    "df2 = spark.sql(\"SELECT * from Diemthidh2021\")\n",
    "df2.printSchema()\n",
    "df2.show(5)"
   ]
  },
  {
   "cell_type": "code",
   "execution_count": 21,
   "id": "adaa941f",
   "metadata": {},
   "outputs": [
    {
     "name": "stdout",
     "output_type": "stream",
     "text": [
      "+-------+----+------+-------+\n",
      "|    SBD|Toan|Vat_ly|Hoa_hoc|\n",
      "+-------+----+------+-------+\n",
      "|1002561| 9.0|  8.25|    9.5|\n",
      "|1007560| 9.0|  8.75|   9.25|\n",
      "|1009322| 9.0|  8.25|    9.5|\n",
      "|1010947| 9.0|  8.75|   9.25|\n",
      "|1015484| 9.0|  8.75|    9.5|\n",
      "+-------+----+------+-------+\n",
      "only showing top 5 rows\n",
      "\n",
      "Số lượng thí sinh thoả mãn là: 414\n"
     ]
    }
   ],
   "source": [
    "#Lấy tất cả thí sinh có điểm toán =9 và Lý, Hoá > 9\n",
    "get = spark.sql(\"SELECT SBD,Toan, Vat_ly,Hoa_hoc from Diemthidh2021 where Toan ==9.0 and Vat_ly >8.0 and Hoa_hoc >9.0\")\n",
    "get.show(5)\n",
    "print(f\"Số lượng thí sinh thoả mãn là: {get.count()}\")"
   ]
  },
  {
   "cell_type": "code",
   "execution_count": 22,
   "id": "9334d20f",
   "metadata": {},
   "outputs": [
    {
     "name": "stdout",
     "output_type": "stream",
     "text": [
      "+-------+--------+\n",
      "|Cum_thi|So_luong|\n",
      "+-------+--------+\n",
      "|      1|  100691|\n",
      "|      2|   86259|\n",
      "|      3|   23241|\n",
      "|      4|   12631|\n",
      "|      5|    5603|\n",
      "+-------+--------+\n",
      "only showing top 5 rows\n",
      "\n"
     ]
    }
   ],
   "source": [
    "groupDF = spark.sql(\"SELECT Cum_thi,Count(*) As So_luong from Diemthidh2021 group by Cum_thi order by Cum_thi\")\n",
    "groupDF.show(5)"
   ]
  },
  {
   "cell_type": "code",
   "execution_count": 23,
   "id": "b2b5b74f",
   "metadata": {},
   "outputs": [],
   "source": [
    "data = groupDF.toPandas()"
   ]
  },
  {
   "cell_type": "code",
   "execution_count": 31,
   "id": "57471ec9",
   "metadata": {},
   "outputs": [
    {
     "data": {
      "image/png": "[encoded data removed]",
      "text/plain": [
       "<Figure size 1224x360 with 1 Axes>"
      ]
     },
     "metadata": {},
     "output_type": "display_data"
    }
   ],
   "source": [
    "import seaborn as sns\n",
    "import matplotlib.pyplot as plt\n",
    "plt.subplots(figsize = (17,5))\n",
    "sns.set_theme(style='darkgrid')\n",
    "sns.barplot(x = data['Cum_thi'], y = data['So_luong'] , color = \"Blue\")\n",
    "plt.title(\"Biểu đồ số lượng thí sinh từng tỉnh đợt 1 2021\");"
   ]
  },
  {
   "cell_type": "code",
   "execution_count": 33,
   "id": "5ca28542",
   "metadata": {},
   "outputs": [],
   "source": [
    "df_pandas = df.toPandas()"
   ]
  },
  {
   "cell_type": "code",
   "execution_count": 35,
   "id": "b9c1e52a",
   "metadata": {},
   "outputs": [
    {
     "data": {
      "text/html": [
       "<div>\n",
       "<style scoped>\n",
       "    .dataframe tbody tr th:only-of-type {\n",
       "        vertical-align: middle;\n",
       "    }\n",
       "\n",
       "    .dataframe tbody tr th {\n",
       "        vertical-align: top;\n",
       "    }\n",
       "\n",
       "    .dataframe thead th {\n",
       "        text-align: right;\n",
       "    }\n",
       "</style>\n",
       "<table border=\"1\" class=\"dataframe\">\n",
       "  <thead>\n",
       "    <tr style=\"text-align: right;\">\n",
       "      <th></th>\n",
       "      <th>SBD</th>\n",
       "      <th>Toan</th>\n",
       "      <th>Ngu_van</th>\n",
       "      <th>Ngoai_ngu</th>\n",
       "      <th>Vat_ly</th>\n",
       "      <th>Hoa_hoc</th>\n",
       "      <th>Sinh_hoc</th>\n",
       "      <th>Lich_su</th>\n",
       "      <th>Dia_ly</th>\n",
       "      <th>GDCD</th>\n",
       "      <th>Cum_thi</th>\n",
       "    </tr>\n",
       "  </thead>\n",
       "  <tbody>\n",
       "    <tr>\n",
       "      <th>0</th>\n",
       "      <td>1000001</td>\n",
       "      <td>2.2</td>\n",
       "      <td>3.50</td>\n",
       "      <td>NaN</td>\n",
       "      <td>NaN</td>\n",
       "      <td>NaN</td>\n",
       "      <td>NaN</td>\n",
       "      <td>2.50</td>\n",
       "      <td>5.50</td>\n",
       "      <td>NaN</td>\n",
       "      <td>1</td>\n",
       "    </tr>\n",
       "    <tr>\n",
       "      <th>1</th>\n",
       "      <td>1000002</td>\n",
       "      <td>9.2</td>\n",
       "      <td>8.25</td>\n",
       "      <td>10.0</td>\n",
       "      <td>NaN</td>\n",
       "      <td>NaN</td>\n",
       "      <td>NaN</td>\n",
       "      <td>5.75</td>\n",
       "      <td>9.75</td>\n",
       "      <td>9.25</td>\n",
       "      <td>1</td>\n",
       "    </tr>\n",
       "    <tr>\n",
       "      <th>2</th>\n",
       "      <td>1000003</td>\n",
       "      <td>4.4</td>\n",
       "      <td>6.25</td>\n",
       "      <td>NaN</td>\n",
       "      <td>NaN</td>\n",
       "      <td>NaN</td>\n",
       "      <td>NaN</td>\n",
       "      <td>4.25</td>\n",
       "      <td>4.00</td>\n",
       "      <td>NaN</td>\n",
       "      <td>1</td>\n",
       "    </tr>\n",
       "    <tr>\n",
       "      <th>3</th>\n",
       "      <td>1000004</td>\n",
       "      <td>8.4</td>\n",
       "      <td>6.75</td>\n",
       "      <td>10.0</td>\n",
       "      <td>4.00</td>\n",
       "      <td>3.00</td>\n",
       "      <td>3.50</td>\n",
       "      <td>NaN</td>\n",
       "      <td>NaN</td>\n",
       "      <td>NaN</td>\n",
       "      <td>1</td>\n",
       "    </tr>\n",
       "    <tr>\n",
       "      <th>4</th>\n",
       "      <td>1000005</td>\n",
       "      <td>8.8</td>\n",
       "      <td>8.25</td>\n",
       "      <td>9.4</td>\n",
       "      <td>8.25</td>\n",
       "      <td>5.75</td>\n",
       "      <td>5.25</td>\n",
       "      <td>NaN</td>\n",
       "      <td>NaN</td>\n",
       "      <td>NaN</td>\n",
       "      <td>1</td>\n",
       "    </tr>\n",
       "  </tbody>\n",
       "</table>\n",
       "</div>"
      ],
      "text/plain": [
       "       SBD  Toan  Ngu_van  Ngoai_ngu  Vat_ly  Hoa_hoc  Sinh_hoc  Lich_su  \\\n",
       "0  1000001   2.2     3.50        NaN     NaN      NaN       NaN     2.50   \n",
       "1  1000002   9.2     8.25       10.0     NaN      NaN       NaN     5.75   \n",
       "2  1000003   4.4     6.25        NaN     NaN      NaN       NaN     4.25   \n",
       "3  1000004   8.4     6.75       10.0    4.00     3.00      3.50      NaN   \n",
       "4  1000005   8.8     8.25        9.4    8.25     5.75      5.25      NaN   \n",
       "\n",
       "   Dia_ly  GDCD  Cum_thi  \n",
       "0    5.50   NaN        1  \n",
       "1    9.75  9.25        1  \n",
       "2    4.00   NaN        1  \n",
       "3     NaN   NaN        1  \n",
       "4     NaN   NaN        1  "
      ]
     },
     "execution_count": 35,
     "metadata": {},
     "output_type": "execute_result"
    }
   ],
   "source": [
    "df_pandas.head()"
   ]
  },
  {
   "cell_type": "code",
   "execution_count": 43,
   "id": "04086d18",
   "metadata": {},
   "outputs": [],
   "source": [
    "Toan  = df_pandas.Toan.value_counts().sort_index()"
   ]
  },
  {
   "cell_type": "code",
   "execution_count": 65,
   "id": "2bb572a6",
   "metadata": {},
   "outputs": [],
   "source": [
    "import numpy as np"
   ]
  },
  {
   "cell_type": "code",
   "execution_count": 66,
   "id": "4016d516",
   "metadata": {},
   "outputs": [],
   "source": [
    "Toan.index = Toan.index.to_series().apply(lambda x: np.round(x,2))"
   ]
  },
  {
   "cell_type": "code",
   "execution_count": 95,
   "id": "d8414a7f",
   "metadata": {
    "scrolled": true
   },
   "outputs": [
    {
     "data": {
      "text/plain": [
       "Text(0.5, 1.0, 'Phổ điểm môn Toán')"
      ]
     },
     "execution_count": 95,
     "metadata": {},
     "output_type": "execute_result"
    },
    {
     "data": {
      "image/png": "[encoded data removed]",
      "text/plain": [
       "<Figure size 1224x360 with 1 Axes>"
      ]
     },
     "metadata": {},
     "output_type": "display_data"
    }
   ],
   "source": [
    "plt.subplots(figsize = (17,5))\n",
    "sns.barplot(y =Toan.values, x = Toan.index, color = \"Blue\")\n",
    "plt.xticks(rotation=90);\n",
    "plt.title(\"Phổ điểm môn Toán\")"
   ]
  },
  {
   "cell_type": "code",
   "execution_count": 92,
   "id": "e2dc8b1a",
   "metadata": {},
   "outputs": [
    {
     "data": {
      "text/plain": [
       "Text(0.5, 1.0, 'Phổ điểm môn Hoá')"
      ]
     },
     "execution_count": 92,
     "metadata": {},
     "output_type": "execute_result"
    },
    {
     "data": {
      "image/png": "[encoded data removed]",
      "text/plain": [
       "<Figure size 1224x360 with 1 Axes>"
      ]
     },
     "metadata": {},
     "output_type": "display_data"
    }
   ],
   "source": [
    "Hoa  = df_pandas.Hoa_hoc.value_counts().sort_index()\n",
    "Hoa.index = Hoa.index.to_series().apply(lambda x: np.round(x,2))\n",
    "plt.subplots(figsize = (17,5))\n",
    "sns.barplot(y =Hoa.values, x = Hoa.index, color = \"Blue\")\n",
    "plt.xticks(rotation=90);\n",
    "plt.title(\"Phổ điểm môn Hoá\")"
   ]
  },
  {
   "cell_type": "code",
   "execution_count": 93,
   "id": "ce40602f",
   "metadata": {},
   "outputs": [
    {
     "data": {
      "text/plain": [
       "Text(0.5, 1.0, 'Phổ điểm môn Tiếng anh')"
      ]
     },
     "execution_count": 93,
     "metadata": {},
     "output_type": "execute_result"
    },
    {
     "data": {
      "image/png": "[encoded data removed]",
      "text/plain": [
       "<Figure size 1224x360 with 1 Axes>"
      ]
     },
     "metadata": {},
     "output_type": "display_data"
    }
   ],
   "source": [
    "Ngoai_ngu  = df_pandas.Ngoai_ngu.value_counts().sort_index()\n",
    "Ngoai_ngu.index = Ngoai_ngu.index.to_series().apply(lambda x: np.round(x,2))\n",
    "plt.subplots(figsize = (17,5))\n",
    "sns.barplot(y =Ngoai_ngu.values, x = Ngoai_ngu.index, color = \"Blue\")\n",
    "plt.xticks(rotation=90);\n",
    "plt.title(\"Phổ điểm môn Tiếng anh\")"
   ]
  },
  {
   "cell_type": "code",
   "execution_count": null,
   "id": "f0219ac8",
   "metadata": {},
   "outputs": [],
   "source": []
  }
 ],
 "metadata": {
  "kernelspec": {
   "display_name": "Python 3 (ipykernel)",
   "language": "python",
   "name": "python3"
  },
  "language_info": {
   "codemirror_mode": {
    "name": "ipython",
    "version": 3
   },
   "file_extension": ".py",
   "mimetype": "text/x-python",
   "name": "python",
   "nbconvert_exporter": "python",
   "pygments_lexer": "ipython3",
   "version": "3.9.6"
  }
 },
 "nbformat": 4,
 "nbformat_minor": 5
}
