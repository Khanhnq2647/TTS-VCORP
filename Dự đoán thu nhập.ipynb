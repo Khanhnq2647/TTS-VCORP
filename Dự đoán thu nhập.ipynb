{
 "cells": [
  {
   "cell_type": "code",
   "execution_count": 26,
   "id": "458e3359",
   "metadata": {},
   "outputs": [],
   "source": [
    "import pandas as pd \n",
    "from sklearn.linear_model import LinearRegression\n",
    "from sklearn.model_selection import train_test_split\n",
    "import seaborn as sns\n",
    "from sklearn.metrics import r2_score\n",
    "import matplotlib.pyplot as plt\n",
    "import numpy as np"
   ]
  },
  {
   "cell_type": "code",
   "execution_count": 27,
   "id": "1c39eca3",
   "metadata": {
    "scrolled": true
   },
   "outputs": [
    {
     "data": {
      "text/html": [
       "<div>\n",
       "<style scoped>\n",
       "    .dataframe tbody tr th:only-of-type {\n",
       "        vertical-align: middle;\n",
       "    }\n",
       "\n",
       "    .dataframe tbody tr th {\n",
       "        vertical-align: top;\n",
       "    }\n",
       "\n",
       "    .dataframe thead th {\n",
       "        text-align: right;\n",
       "    }\n",
       "</style>\n",
       "<table border=\"1\" class=\"dataframe\">\n",
       "  <thead>\n",
       "    <tr style=\"text-align: right;\">\n",
       "      <th></th>\n",
       "      <th>area</th>\n",
       "      <th>gender</th>\n",
       "      <th>age</th>\n",
       "      <th>age_group</th>\n",
       "      <th>year_of_school</th>\n",
       "      <th>degree</th>\n",
       "      <th>job</th>\n",
       "      <th>know_english</th>\n",
       "      <th>know_france</th>\n",
       "      <th>know_chinese</th>\n",
       "      <th>income</th>\n",
       "      <th>flight_status</th>\n",
       "      <th>professionally_staff</th>\n",
       "      <th>customer_service</th>\n",
       "      <th>diversity_product</th>\n",
       "      <th>good_price</th>\n",
       "      <th>easily_transaction</th>\n",
       "      <th>goodlooking_staff</th>\n",
       "      <th>diversity_flighttime</th>\n",
       "      <th>good_construction</th>\n",
       "    </tr>\n",
       "  </thead>\n",
       "  <tbody>\n",
       "    <tr>\n",
       "      <th>0</th>\n",
       "      <td>central</td>\n",
       "      <td>female</td>\n",
       "      <td>69</td>\n",
       "      <td>middle</td>\n",
       "      <td>16</td>\n",
       "      <td>master</td>\n",
       "      <td>manager</td>\n",
       "      <td>1</td>\n",
       "      <td>1</td>\n",
       "      <td>1</td>\n",
       "      <td>33250</td>\n",
       "      <td>1</td>\n",
       "      <td>2</td>\n",
       "      <td>2</td>\n",
       "      <td>1</td>\n",
       "      <td>1</td>\n",
       "      <td>2</td>\n",
       "      <td>2</td>\n",
       "      <td>1</td>\n",
       "      <td>1</td>\n",
       "    </tr>\n",
       "    <tr>\n",
       "      <th>1</th>\n",
       "      <td>southern</td>\n",
       "      <td>female</td>\n",
       "      <td>50</td>\n",
       "      <td>middle</td>\n",
       "      <td>12</td>\n",
       "      <td>highshool</td>\n",
       "      <td>officer</td>\n",
       "      <td>0</td>\n",
       "      <td>0</td>\n",
       "      <td>0</td>\n",
       "      <td>6960</td>\n",
       "      <td>1</td>\n",
       "      <td>3</td>\n",
       "      <td>3</td>\n",
       "      <td>3</td>\n",
       "      <td>2</td>\n",
       "      <td>3</td>\n",
       "      <td>3</td>\n",
       "      <td>2</td>\n",
       "      <td>3</td>\n",
       "    </tr>\n",
       "    <tr>\n",
       "      <th>2</th>\n",
       "      <td>northern</td>\n",
       "      <td>male</td>\n",
       "      <td>73</td>\n",
       "      <td>elder</td>\n",
       "      <td>12</td>\n",
       "      <td>highshool</td>\n",
       "      <td>officer</td>\n",
       "      <td>1</td>\n",
       "      <td>0</td>\n",
       "      <td>0</td>\n",
       "      <td>11100</td>\n",
       "      <td>1</td>\n",
       "      <td>2</td>\n",
       "      <td>2</td>\n",
       "      <td>1</td>\n",
       "      <td>2</td>\n",
       "      <td>3</td>\n",
       "      <td>5</td>\n",
       "      <td>1</td>\n",
       "      <td>1</td>\n",
       "    </tr>\n",
       "    <tr>\n",
       "      <th>3</th>\n",
       "      <td>northern</td>\n",
       "      <td>female</td>\n",
       "      <td>73</td>\n",
       "      <td>elder</td>\n",
       "      <td>12</td>\n",
       "      <td>highshool</td>\n",
       "      <td>officer</td>\n",
       "      <td>0</td>\n",
       "      <td>0</td>\n",
       "      <td>0</td>\n",
       "      <td>11100</td>\n",
       "      <td>1</td>\n",
       "      <td>5</td>\n",
       "      <td>3</td>\n",
       "      <td>2</td>\n",
       "      <td>4</td>\n",
       "      <td>5</td>\n",
       "      <td>3</td>\n",
       "      <td>2</td>\n",
       "      <td>2</td>\n",
       "    </tr>\n",
       "    <tr>\n",
       "      <th>4</th>\n",
       "      <td>central</td>\n",
       "      <td>male</td>\n",
       "      <td>69</td>\n",
       "      <td>middle</td>\n",
       "      <td>16</td>\n",
       "      <td>master</td>\n",
       "      <td>officer</td>\n",
       "      <td>1</td>\n",
       "      <td>0</td>\n",
       "      <td>0</td>\n",
       "      <td>16140</td>\n",
       "      <td>0</td>\n",
       "      <td>3</td>\n",
       "      <td>3</td>\n",
       "      <td>3</td>\n",
       "      <td>3</td>\n",
       "      <td>3</td>\n",
       "      <td>3</td>\n",
       "      <td>3</td>\n",
       "      <td>3</td>\n",
       "    </tr>\n",
       "  </tbody>\n",
       "</table>\n",
       "</div>"
      ],
      "text/plain": [
       "       area  gender  age age_group  year_of_school     degree      job  \\\n",
       "0   central  female   69    middle              16     master  manager   \n",
       "1  southern  female   50    middle              12  highshool  officer   \n",
       "2  northern    male   73     elder              12  highshool  officer   \n",
       "3  northern  female   73     elder              12  highshool  officer   \n",
       "4   central    male   69    middle              16     master  officer   \n",
       "\n",
       "   know_english  know_france  know_chinese  income  flight_status  \\\n",
       "0             1            1             1   33250              1   \n",
       "1             0            0             0    6960              1   \n",
       "2             1            0             0   11100              1   \n",
       "3             0            0             0   11100              1   \n",
       "4             1            0             0   16140              0   \n",
       "\n",
       "   professionally_staff  customer_service   diversity_product  good_price  \\\n",
       "0                     2                  2                  1           1   \n",
       "1                     3                  3                  3           2   \n",
       "2                     2                  2                  1           2   \n",
       "3                     5                  3                  2           4   \n",
       "4                     3                  3                  3           3   \n",
       "\n",
       "   easily_transaction  goodlooking_staff  diversity_flighttime  \\\n",
       "0                   2                  2                     1   \n",
       "1                   3                  3                     2   \n",
       "2                   3                  5                     1   \n",
       "3                   5                  3                     2   \n",
       "4                   3                  3                     3   \n",
       "\n",
       "   good_construction  \n",
       "0                  1  \n",
       "1                  3  \n",
       "2                  1  \n",
       "3                  2  \n",
       "4                  3  "
      ]
     },
     "execution_count": 27,
     "metadata": {},
     "output_type": "execute_result"
    }
   ],
   "source": [
    "df = pd.read_csv(\".\\data\\practive pyspark.csv\")\n",
    "df.drop(columns ={'flight_date','booking_date','Code'}, inplace =True)\n",
    "df.head()"
   ]
  },
  {
   "cell_type": "code",
   "execution_count": 28,
   "id": "96d5c4c6",
   "metadata": {},
   "outputs": [
    {
     "data": {
      "text/plain": [
       "area                    0\n",
       "gender                  0\n",
       "age                     0\n",
       "age_group               0\n",
       "year_of_school          0\n",
       "degree                  0\n",
       "job                     0\n",
       "know_english            0\n",
       "know_france             0\n",
       "know_chinese            0\n",
       "income                  0\n",
       "flight_status           0\n",
       "professionally_staff    0\n",
       "customer_service        0\n",
       "diversity_product       0\n",
       "good_price              0\n",
       "easily_transaction      0\n",
       "goodlooking_staff       0\n",
       "diversity_flighttime    0\n",
       "good_construction       0\n",
       "dtype: int64"
      ]
     },
     "execution_count": 28,
     "metadata": {},
     "output_type": "execute_result"
    }
   ],
   "source": [
    "#Check missing values\n",
    "df.isna().sum()"
   ]
  },
  {
   "cell_type": "markdown",
   "id": "8faf0e84",
   "metadata": {},
   "source": [
    "# Categorical data"
   ]
  },
  {
   "cell_type": "code",
   "execution_count": 29,
   "id": "348fe551",
   "metadata": {},
   "outputs": [],
   "source": [
    "cat_col = ['area','gender','age_group','degree','job']"
   ]
  },
  {
   "cell_type": "code",
   "execution_count": 30,
   "id": "58835ad7",
   "metadata": {},
   "outputs": [
    {
     "data": {
      "image/png": "[encoded data removed]",
      "text/plain": [
       "<Figure size 936x720 with 6 Axes>"
      ]
     },
     "metadata": {
      "needs_background": "light"
     },
     "output_type": "display_data"
    }
   ],
   "source": [
    "fig, ax = plt.subplots(3,2,figsize = (13,10))\n",
    "for idx, col in enumerate(cat_col):\n",
    "    x,y = idx//2, idx %2\n",
    "    fig = sns.countplot(x = df[col], ax=ax [x,y])"
   ]
  },
  {
   "cell_type": "markdown",
   "id": "71a49dab",
   "metadata": {},
   "source": [
    "# Numberic data"
   ]
  },
  {
   "cell_type": "code",
   "execution_count": 31,
   "id": "205c7709",
   "metadata": {},
   "outputs": [],
   "source": [
    "col_num = ['age','income','year_of_school']"
   ]
  },
  {
   "cell_type": "code",
   "execution_count": 32,
   "id": "5045277d",
   "metadata": {},
   "outputs": [
    {
     "data": {
      "image/png": "[encoded data removed]",
      "text/plain": [
       "<Figure size 936x720 with 4 Axes>"
      ]
     },
     "metadata": {
      "needs_background": "light"
     },
     "output_type": "display_data"
    }
   ],
   "source": [
    "fig, ax = plt.subplots(2,2,figsize = (13,10))\n",
    "for idx, col in enumerate(col_num):\n",
    "    x,y = idx//2, idx %2\n",
    "    fig = sns.kdeplot(x = df[col], ax=ax [x,y])"
   ]
  },
  {
   "cell_type": "code",
   "execution_count": 33,
   "id": "791fb434",
   "metadata": {},
   "outputs": [],
   "source": [
    "# logarit biến income\n",
    "df['income'] = np.log10(df['income'] )"
   ]
  },
  {
   "cell_type": "markdown",
   "id": "72825f9e",
   "metadata": {},
   "source": [
    "# Check oulier"
   ]
  },
  {
   "cell_type": "code",
   "execution_count": 34,
   "id": "1fbdb977",
   "metadata": {},
   "outputs": [
    {
     "data": {
      "image/png": "[encoded data removed]",
      "text/plain": [
       "<Figure size 936x720 with 4 Axes>"
      ]
     },
     "metadata": {
      "needs_background": "light"
     },
     "output_type": "display_data"
    }
   ],
   "source": [
    "fig, ax = plt.subplots(2,2,figsize = (13,10))\n",
    "for idx, col in enumerate(col_num):\n",
    "    x,y = idx//2, idx %2\n",
    "    fig = sns.boxplot(x = df[col], ax=ax [x,y])"
   ]
  },
  {
   "cell_type": "markdown",
   "id": "776c0139",
   "metadata": {},
   "source": [
    "# Xử lý oulier "
   ]
  },
  {
   "cell_type": "code",
   "execution_count": 36,
   "id": "983f8ec3",
   "metadata": {},
   "outputs": [],
   "source": [
    "for col in col_num:\n",
    "    for i in range(10):\n",
    "        percentile25 = df[col].quantile(0.25)\n",
    "        percentile75 = df[col].quantile(0.75)\n",
    "        iqr = percentile75- percentile25\n",
    "        upper_limit = percentile75 + 1.5 * iqr\n",
    "        lower_limit = percentile25 - 1.5 * iqr\n",
    "        df = df[(df[col] < upper_limit) & (df[col]> lower_limit)]\n"
   ]
  },
  {
   "cell_type": "code",
   "execution_count": 37,
   "id": "6d596220",
   "metadata": {},
   "outputs": [
    {
     "data": {
      "text/plain": [
       "(424, 20)"
      ]
     },
     "execution_count": 37,
     "metadata": {},
     "output_type": "execute_result"
    }
   ],
   "source": [
    "df.shape"
   ]
  },
  {
   "cell_type": "code",
   "execution_count": 39,
   "id": "78c85384",
   "metadata": {},
   "outputs": [
    {
     "data": {
      "image/png": "[encoded data removed]",
      "text/plain": [
       "<Figure size 936x720 with 4 Axes>"
      ]
     },
     "metadata": {
      "needs_background": "light"
     },
     "output_type": "display_data"
    }
   ],
   "source": [
    "fig, ax = plt.subplots(2,2,figsize = (13,10))\n",
    "for idx, col in enumerate(col_num):\n",
    "    x,y = idx//2, idx %2\n",
    "    fig = sns.boxplot(x = df[col], ax=ax [x,y])"
   ]
  },
  {
   "cell_type": "code",
   "execution_count": 40,
   "id": "587f7c55",
   "metadata": {},
   "outputs": [],
   "source": [
    "X = df[['area', 'gender', 'age', 'age_group', 'year_of_school', 'degree', 'job',\n",
    "       'know_english', 'know_france', 'know_chinese'\n",
    "       ]]\n",
    "y = df['income']"
   ]
  },
  {
   "cell_type": "markdown",
   "id": "f2d74e06",
   "metadata": {},
   "source": [
    "# dummies Data"
   ]
  },
  {
   "cell_type": "code",
   "execution_count": 41,
   "id": "9c052405",
   "metadata": {},
   "outputs": [],
   "source": [
    "X = pd.get_dummies(X, drop_first = True)"
   ]
  },
  {
   "cell_type": "code",
   "execution_count": 42,
   "id": "b91849dc",
   "metadata": {},
   "outputs": [
    {
     "data": {
      "text/html": [
       "<div>\n",
       "<style scoped>\n",
       "    .dataframe tbody tr th:only-of-type {\n",
       "        vertical-align: middle;\n",
       "    }\n",
       "\n",
       "    .dataframe tbody tr th {\n",
       "        vertical-align: top;\n",
       "    }\n",
       "\n",
       "    .dataframe thead th {\n",
       "        text-align: right;\n",
       "    }\n",
       "</style>\n",
       "<table border=\"1\" class=\"dataframe\">\n",
       "  <thead>\n",
       "    <tr style=\"text-align: right;\">\n",
       "      <th></th>\n",
       "      <th>age</th>\n",
       "      <th>year_of_school</th>\n",
       "      <th>know_english</th>\n",
       "      <th>know_france</th>\n",
       "      <th>know_chinese</th>\n",
       "      <th>area_northern</th>\n",
       "      <th>area_southern</th>\n",
       "      <th>gender_male</th>\n",
       "      <th>age_group_middle</th>\n",
       "      <th>age_group_youth</th>\n",
       "      <th>degree_highshool</th>\n",
       "      <th>degree_master</th>\n",
       "      <th>job_officer</th>\n",
       "      <th>job_sale</th>\n",
       "    </tr>\n",
       "  </thead>\n",
       "  <tbody>\n",
       "    <tr>\n",
       "      <th>1</th>\n",
       "      <td>50</td>\n",
       "      <td>12</td>\n",
       "      <td>0</td>\n",
       "      <td>0</td>\n",
       "      <td>0</td>\n",
       "      <td>0</td>\n",
       "      <td>1</td>\n",
       "      <td>0</td>\n",
       "      <td>1</td>\n",
       "      <td>0</td>\n",
       "      <td>1</td>\n",
       "      <td>0</td>\n",
       "      <td>1</td>\n",
       "      <td>0</td>\n",
       "    </tr>\n",
       "    <tr>\n",
       "      <th>2</th>\n",
       "      <td>73</td>\n",
       "      <td>12</td>\n",
       "      <td>1</td>\n",
       "      <td>0</td>\n",
       "      <td>0</td>\n",
       "      <td>1</td>\n",
       "      <td>0</td>\n",
       "      <td>1</td>\n",
       "      <td>0</td>\n",
       "      <td>0</td>\n",
       "      <td>1</td>\n",
       "      <td>0</td>\n",
       "      <td>1</td>\n",
       "      <td>0</td>\n",
       "    </tr>\n",
       "    <tr>\n",
       "      <th>3</th>\n",
       "      <td>73</td>\n",
       "      <td>12</td>\n",
       "      <td>0</td>\n",
       "      <td>0</td>\n",
       "      <td>0</td>\n",
       "      <td>1</td>\n",
       "      <td>0</td>\n",
       "      <td>0</td>\n",
       "      <td>0</td>\n",
       "      <td>0</td>\n",
       "      <td>1</td>\n",
       "      <td>0</td>\n",
       "      <td>1</td>\n",
       "      <td>0</td>\n",
       "    </tr>\n",
       "    <tr>\n",
       "      <th>4</th>\n",
       "      <td>69</td>\n",
       "      <td>16</td>\n",
       "      <td>1</td>\n",
       "      <td>0</td>\n",
       "      <td>0</td>\n",
       "      <td>0</td>\n",
       "      <td>0</td>\n",
       "      <td>1</td>\n",
       "      <td>1</td>\n",
       "      <td>0</td>\n",
       "      <td>0</td>\n",
       "      <td>1</td>\n",
       "      <td>1</td>\n",
       "      <td>0</td>\n",
       "    </tr>\n",
       "    <tr>\n",
       "      <th>5</th>\n",
       "      <td>72</td>\n",
       "      <td>12</td>\n",
       "      <td>0</td>\n",
       "      <td>0</td>\n",
       "      <td>0</td>\n",
       "      <td>1</td>\n",
       "      <td>0</td>\n",
       "      <td>0</td>\n",
       "      <td>0</td>\n",
       "      <td>0</td>\n",
       "      <td>1</td>\n",
       "      <td>0</td>\n",
       "      <td>0</td>\n",
       "      <td>1</td>\n",
       "    </tr>\n",
       "  </tbody>\n",
       "</table>\n",
       "</div>"
      ],
      "text/plain": [
       "   age  year_of_school  know_english  know_france  know_chinese  \\\n",
       "1   50              12             0            0             0   \n",
       "2   73              12             1            0             0   \n",
       "3   73              12             0            0             0   \n",
       "4   69              16             1            0             0   \n",
       "5   72              12             0            0             0   \n",
       "\n",
       "   area_northern  area_southern  gender_male  age_group_middle  \\\n",
       "1              0              1            0                 1   \n",
       "2              1              0            1                 0   \n",
       "3              1              0            0                 0   \n",
       "4              0              0            1                 1   \n",
       "5              1              0            0                 0   \n",
       "\n",
       "   age_group_youth  degree_highshool  degree_master  job_officer  job_sale  \n",
       "1                0                 1              0            1         0  \n",
       "2                0                 1              0            1         0  \n",
       "3                0                 1              0            1         0  \n",
       "4                0                 0              1            1         0  \n",
       "5                0                 1              0            0         1  "
      ]
     },
     "execution_count": 42,
     "metadata": {},
     "output_type": "execute_result"
    }
   ],
   "source": [
    "X.head()"
   ]
  },
  {
   "cell_type": "code",
   "execution_count": 43,
   "id": "e051b458",
   "metadata": {},
   "outputs": [],
   "source": [
    "#Split data\n",
    "X_train, X_test, y_train, y_test = train_test_split(X, y, test_size=0.2,random_state =4 )"
   ]
  },
  {
   "cell_type": "code",
   "execution_count": 44,
   "id": "78b03cbf",
   "metadata": {},
   "outputs": [],
   "source": [
    "reg = LinearRegression().fit(X_train, y_train)"
   ]
  },
  {
   "cell_type": "code",
   "execution_count": 45,
   "id": "b415e331",
   "metadata": {},
   "outputs": [],
   "source": [
    "#predict income\n",
    "y_pred = reg.predict(X_test)\n",
    "y_pred;"
   ]
  },
  {
   "cell_type": "code",
   "execution_count": 46,
   "id": "0912b5c1",
   "metadata": {},
   "outputs": [
    {
     "data": {
      "text/html": [
       "<div>\n",
       "<style scoped>\n",
       "    .dataframe tbody tr th:only-of-type {\n",
       "        vertical-align: middle;\n",
       "    }\n",
       "\n",
       "    .dataframe tbody tr th {\n",
       "        vertical-align: top;\n",
       "    }\n",
       "\n",
       "    .dataframe thead th {\n",
       "        text-align: right;\n",
       "    }\n",
       "</style>\n",
       "<table border=\"1\" class=\"dataframe\">\n",
       "  <thead>\n",
       "    <tr style=\"text-align: right;\">\n",
       "      <th></th>\n",
       "      <th>y_true</th>\n",
       "      <th>y_pridict</th>\n",
       "    </tr>\n",
       "  </thead>\n",
       "  <tbody>\n",
       "    <tr>\n",
       "      <th>83</th>\n",
       "      <td>4.038223</td>\n",
       "      <td>4.039512</td>\n",
       "    </tr>\n",
       "    <tr>\n",
       "      <th>325</th>\n",
       "      <td>4.092018</td>\n",
       "      <td>4.145798</td>\n",
       "    </tr>\n",
       "    <tr>\n",
       "      <th>216</th>\n",
       "      <td>3.987666</td>\n",
       "      <td>4.051789</td>\n",
       "    </tr>\n",
       "    <tr>\n",
       "      <th>331</th>\n",
       "      <td>4.003461</td>\n",
       "      <td>4.040713</td>\n",
       "    </tr>\n",
       "    <tr>\n",
       "      <th>87</th>\n",
       "      <td>3.962843</td>\n",
       "      <td>3.933413</td>\n",
       "    </tr>\n",
       "  </tbody>\n",
       "</table>\n",
       "</div>"
      ],
      "text/plain": [
       "       y_true  y_pridict\n",
       "83   4.038223   4.039512\n",
       "325  4.092018   4.145798\n",
       "216  3.987666   4.051789\n",
       "331  4.003461   4.040713\n",
       "87   3.962843   3.933413"
      ]
     },
     "execution_count": 46,
     "metadata": {},
     "output_type": "execute_result"
    }
   ],
   "source": [
    "e = pd.DataFrame({'y_true': y_test, 'y_pridict': y_pred})\n",
    "e.head()"
   ]
  },
  {
   "cell_type": "markdown",
   "id": "7da30e57",
   "metadata": {},
   "source": [
    "Ta có thấy model đưa ra kết quà khá là tốt với sai số nhỏ"
   ]
  },
  {
   "cell_type": "code",
   "execution_count": 47,
   "id": "11e0d051",
   "metadata": {},
   "outputs": [
    {
     "name": "stdout",
     "output_type": "stream",
     "text": [
      "Hiệu suất của mô hình R bình phương: 0.8538828604858681\n"
     ]
    }
   ],
   "source": [
    "print(f\"Hiệu suất của mô hình R bình phương: {r2_score(y_test, y_pred)}\")"
   ]
  },
  {
   "cell_type": "markdown",
   "id": "05a04c2a",
   "metadata": {},
   "source": [
    " Vậy  85 % sự thay đổi của biến dependent có thể được giải thích bằng các biến independent"
   ]
  },
  {
   "cell_type": "markdown",
   "id": "4663919c",
   "metadata": {},
   "source": [
    "Mean Square error"
   ]
  },
  {
   "attachments": {
    "image.png": {
     "image/png": "[encoded data removed]"
    }
   },
   "cell_type": "markdown",
   "id": "1ceb5668",
   "metadata": {},
   "source": [
    "![image.png](attachment:image.png)"
   ]
  },
  {
   "cell_type": "code",
   "execution_count": 48,
   "id": "c22733d8",
   "metadata": {},
   "outputs": [
    {
     "data": {
      "text/plain": [
       "0.0018840526819060618"
      ]
     },
     "execution_count": 48,
     "metadata": {},
     "output_type": "execute_result"
    }
   ],
   "source": [
    "from sklearn.metrics import mean_squared_error\n",
    "mean_squared_error(y_test, y_pred)"
   ]
  },
  {
   "cell_type": "markdown",
   "id": "d9d43fbc",
   "metadata": {},
   "source": [
    "Ta có thể thấy tổng bình phương sai số giữa giá trị quan sát và giá trị dự đoán là rất nhỏ ~ 0, các giá trị dự đoán gần khớp với giá trị mong đợi. Vậy model của ta là model tốt"
   ]
  },
  {
   "cell_type": "code",
   "execution_count": 49,
   "id": "c32df77d",
   "metadata": {},
   "outputs": [
    {
     "data": {
      "text/plain": [
       "0.09842219533065322"
      ]
     },
     "execution_count": 49,
     "metadata": {},
     "output_type": "execute_result"
    }
   ],
   "source": [
    "from sklearn.metrics import max_error\n",
    "max_error(y_test, y_pred)"
   ]
  },
  {
   "cell_type": "markdown",
   "id": "fd8e293f",
   "metadata": {},
   "source": [
    "Model cho ra giá trị sai số tối đa là 0.098. Khá tốt!"
   ]
  }
 ],
 "metadata": {
  "interpreter": {
   "hash": "c569cd2e17f62341e0f08a54f9a867c3c0d3a6f67454072d7de41a8b5dff8343"
  },
  "kernelspec": {
   "display_name": "Python 3 (ipykernel)",
   "language": "python",
   "name": "python3"
  },
  "language_info": {
   "codemirror_mode": {
    "name": "ipython",
    "version": 3
   },
   "file_extension": ".py",
   "mimetype": "text/x-python",
   "name": "python",
   "nbconvert_exporter": "python",
   "pygments_lexer": "ipython3",
   "version": "3.9.6"
  }
 },
 "nbformat": 4,
 "nbformat_minor": 5
}
