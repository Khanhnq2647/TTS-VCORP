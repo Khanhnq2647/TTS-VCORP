{
 "cells": [
  {
   "cell_type": "code",
   "execution_count": 142,
   "source": [
    "import pandas as pd \r\n",
    "from sklearn.linear_model import LinearRegression\r\n",
    "from sklearn.preprocessing import OneHotEncoder \r\n",
    "from sklearn.compose import make_column_transformer\r\n",
    "from sklearn.pipeline import make_pipeline\r\n",
    "from sklearn.model_selection import train_test_split"
   ],
   "outputs": [],
   "metadata": {}
  },
  {
   "cell_type": "code",
   "execution_count": 118,
   "source": [
    "df = pd.read_csv(\".\\data\\practive pyspark.csv\")\r\n",
    "df.drop(columns ={'flight_date','booking_date','Code'}, inplace =True)\r\n",
    "df.head()"
   ],
   "outputs": [
    {
     "output_type": "execute_result",
     "data": {
      "text/plain": [
       "       area  gender  age age_group  year_of_school     degree      job  \\\n",
       "0   central  female   69    middle              16     master  manager   \n",
       "1  southern  female   50    middle              12  highshool  officer   \n",
       "2  northern    male   73     elder              12  highshool  officer   \n",
       "3  northern  female   73     elder              12  highshool  officer   \n",
       "4   central    male   69    middle              16     master  officer   \n",
       "\n",
       "   know_english  know_france  know_chinese  income  flight_status  \\\n",
       "0             1            1             1   33250              1   \n",
       "1             0            0             0    6960              1   \n",
       "2             1            0             0   11100              1   \n",
       "3             0            0             0   11100              1   \n",
       "4             1            0             0   16140              0   \n",
       "\n",
       "   professionally_staff  customer_service   diversity_product  good_price  \\\n",
       "0                     2                  2                  1           1   \n",
       "1                     3                  3                  3           2   \n",
       "2                     2                  2                  1           2   \n",
       "3                     5                  3                  2           4   \n",
       "4                     3                  3                  3           3   \n",
       "\n",
       "   easily_transaction  goodlooking_staff  diversity_flighttime  \\\n",
       "0                   2                  2                     1   \n",
       "1                   3                  3                     2   \n",
       "2                   3                  5                     1   \n",
       "3                   5                  3                     2   \n",
       "4                   3                  3                     3   \n",
       "\n",
       "   good_construction  \n",
       "0                  1  \n",
       "1                  3  \n",
       "2                  1  \n",
       "3                  2  \n",
       "4                  3  "
      ],
      "text/html": [
       "<div>\n",
       "<style scoped>\n",
       "    .dataframe tbody tr th:only-of-type {\n",
       "        vertical-align: middle;\n",
       "    }\n",
       "\n",
       "    .dataframe tbody tr th {\n",
       "        vertical-align: top;\n",
       "    }\n",
       "\n",
       "    .dataframe thead th {\n",
       "        text-align: right;\n",
       "    }\n",
       "</style>\n",
       "<table border=\"1\" class=\"dataframe\">\n",
       "  <thead>\n",
       "    <tr style=\"text-align: right;\">\n",
       "      <th></th>\n",
       "      <th>area</th>\n",
       "      <th>gender</th>\n",
       "      <th>age</th>\n",
       "      <th>age_group</th>\n",
       "      <th>year_of_school</th>\n",
       "      <th>degree</th>\n",
       "      <th>job</th>\n",
       "      <th>know_english</th>\n",
       "      <th>know_france</th>\n",
       "      <th>know_chinese</th>\n",
       "      <th>income</th>\n",
       "      <th>flight_status</th>\n",
       "      <th>professionally_staff</th>\n",
       "      <th>customer_service</th>\n",
       "      <th>diversity_product</th>\n",
       "      <th>good_price</th>\n",
       "      <th>easily_transaction</th>\n",
       "      <th>goodlooking_staff</th>\n",
       "      <th>diversity_flighttime</th>\n",
       "      <th>good_construction</th>\n",
       "    </tr>\n",
       "  </thead>\n",
       "  <tbody>\n",
       "    <tr>\n",
       "      <th>0</th>\n",
       "      <td>central</td>\n",
       "      <td>female</td>\n",
       "      <td>69</td>\n",
       "      <td>middle</td>\n",
       "      <td>16</td>\n",
       "      <td>master</td>\n",
       "      <td>manager</td>\n",
       "      <td>1</td>\n",
       "      <td>1</td>\n",
       "      <td>1</td>\n",
       "      <td>33250</td>\n",
       "      <td>1</td>\n",
       "      <td>2</td>\n",
       "      <td>2</td>\n",
       "      <td>1</td>\n",
       "      <td>1</td>\n",
       "      <td>2</td>\n",
       "      <td>2</td>\n",
       "      <td>1</td>\n",
       "      <td>1</td>\n",
       "    </tr>\n",
       "    <tr>\n",
       "      <th>1</th>\n",
       "      <td>southern</td>\n",
       "      <td>female</td>\n",
       "      <td>50</td>\n",
       "      <td>middle</td>\n",
       "      <td>12</td>\n",
       "      <td>highshool</td>\n",
       "      <td>officer</td>\n",
       "      <td>0</td>\n",
       "      <td>0</td>\n",
       "      <td>0</td>\n",
       "      <td>6960</td>\n",
       "      <td>1</td>\n",
       "      <td>3</td>\n",
       "      <td>3</td>\n",
       "      <td>3</td>\n",
       "      <td>2</td>\n",
       "      <td>3</td>\n",
       "      <td>3</td>\n",
       "      <td>2</td>\n",
       "      <td>3</td>\n",
       "    </tr>\n",
       "    <tr>\n",
       "      <th>2</th>\n",
       "      <td>northern</td>\n",
       "      <td>male</td>\n",
       "      <td>73</td>\n",
       "      <td>elder</td>\n",
       "      <td>12</td>\n",
       "      <td>highshool</td>\n",
       "      <td>officer</td>\n",
       "      <td>1</td>\n",
       "      <td>0</td>\n",
       "      <td>0</td>\n",
       "      <td>11100</td>\n",
       "      <td>1</td>\n",
       "      <td>2</td>\n",
       "      <td>2</td>\n",
       "      <td>1</td>\n",
       "      <td>2</td>\n",
       "      <td>3</td>\n",
       "      <td>5</td>\n",
       "      <td>1</td>\n",
       "      <td>1</td>\n",
       "    </tr>\n",
       "    <tr>\n",
       "      <th>3</th>\n",
       "      <td>northern</td>\n",
       "      <td>female</td>\n",
       "      <td>73</td>\n",
       "      <td>elder</td>\n",
       "      <td>12</td>\n",
       "      <td>highshool</td>\n",
       "      <td>officer</td>\n",
       "      <td>0</td>\n",
       "      <td>0</td>\n",
       "      <td>0</td>\n",
       "      <td>11100</td>\n",
       "      <td>1</td>\n",
       "      <td>5</td>\n",
       "      <td>3</td>\n",
       "      <td>2</td>\n",
       "      <td>4</td>\n",
       "      <td>5</td>\n",
       "      <td>3</td>\n",
       "      <td>2</td>\n",
       "      <td>2</td>\n",
       "    </tr>\n",
       "    <tr>\n",
       "      <th>4</th>\n",
       "      <td>central</td>\n",
       "      <td>male</td>\n",
       "      <td>69</td>\n",
       "      <td>middle</td>\n",
       "      <td>16</td>\n",
       "      <td>master</td>\n",
       "      <td>officer</td>\n",
       "      <td>1</td>\n",
       "      <td>0</td>\n",
       "      <td>0</td>\n",
       "      <td>16140</td>\n",
       "      <td>0</td>\n",
       "      <td>3</td>\n",
       "      <td>3</td>\n",
       "      <td>3</td>\n",
       "      <td>3</td>\n",
       "      <td>3</td>\n",
       "      <td>3</td>\n",
       "      <td>3</td>\n",
       "      <td>3</td>\n",
       "    </tr>\n",
       "  </tbody>\n",
       "</table>\n",
       "</div>"
      ]
     },
     "metadata": {},
     "execution_count": 118
    }
   ],
   "metadata": {}
  },
  {
   "cell_type": "code",
   "execution_count": 119,
   "source": [
    "#Check missing values\r\n",
    "df.isna().sum()"
   ],
   "outputs": [
    {
     "output_type": "execute_result",
     "data": {
      "text/plain": [
       "area                    0\n",
       "gender                  0\n",
       "age                     0\n",
       "age_group               0\n",
       "year_of_school          0\n",
       "degree                  0\n",
       "job                     0\n",
       "know_english            0\n",
       "know_france             0\n",
       "know_chinese            0\n",
       "income                  0\n",
       "flight_status           0\n",
       "professionally_staff    0\n",
       "customer_service        0\n",
       "diversity_product       0\n",
       "good_price              0\n",
       "easily_transaction      0\n",
       "goodlooking_staff       0\n",
       "diversity_flighttime    0\n",
       "good_construction       0\n",
       "dtype: int64"
      ]
     },
     "metadata": {},
     "execution_count": 119
    }
   ],
   "metadata": {}
  },
  {
   "cell_type": "code",
   "execution_count": 194,
   "source": [
    "X = df[['area', 'gender', 'age', 'age_group', 'year_of_school', 'degree', 'job',\r\n",
    "       'know_english', 'know_france', 'know_chinese',\r\n",
    "       'flight_status', 'professionally_staff', 'customer_service ',\r\n",
    "       'diversity_product', 'good_price', 'easily_transaction',\r\n",
    "       'goodlooking_staff', 'diversity_flighttime', 'good_construction']]\r\n",
    "y = df['income']"
   ],
   "outputs": [],
   "metadata": {}
  },
  {
   "cell_type": "code",
   "execution_count": 195,
   "source": [
    "X_train, X_test, y_train, y_test = train_test_split(X, y, test_size=0.3)"
   ],
   "outputs": [],
   "metadata": {}
  },
  {
   "cell_type": "code",
   "execution_count": 196,
   "source": [
    "ohe = OneHotEncoder()\n",
    "imp_ohe = make_pipeline( ohe)\n",
    "# Making a transformer\n",
    "ct = make_column_transformer(\n",
    "    (imp_ohe, ['area', 'gender','age_group','degree','job']),\n",
    "    remainder='passthrough')"
   ],
   "outputs": [],
   "metadata": {}
  },
  {
   "cell_type": "code",
   "execution_count": 206,
   "source": [
    "ct.fit_transform(df)"
   ],
   "outputs": [
    {
     "output_type": "execute_result",
     "data": {
      "text/plain": [
       "array([[1., 0., 0., ..., 2., 1., 1.],\n",
       "       [0., 0., 1., ..., 3., 2., 3.],\n",
       "       [0., 1., 0., ..., 5., 1., 1.],\n",
       "       ...,\n",
       "       [0., 0., 1., ..., 5., 2., 2.],\n",
       "       [0., 0., 1., ..., 2., 2., 2.],\n",
       "       [0., 1., 0., ..., 1., 3., 3.]])"
      ]
     },
     "metadata": {},
     "execution_count": 206
    }
   ],
   "metadata": {}
  },
  {
   "cell_type": "code",
   "execution_count": 198,
   "source": [
    "logreg = LinearRegression()"
   ],
   "outputs": [],
   "metadata": {}
  },
  {
   "cell_type": "code",
   "execution_count": 199,
   "source": [
    "# Creating a pipeline\n",
    "pipe = make_pipeline(ct, logreg)"
   ],
   "outputs": [],
   "metadata": {}
  },
  {
   "cell_type": "code",
   "execution_count": 200,
   "source": [
    "# Fit data using the pipeline\n",
    "pipe.fit(X_train, y_train)"
   ],
   "outputs": [
    {
     "output_type": "execute_result",
     "data": {
      "text/plain": [
       "Pipeline(steps=[('columntransformer',\n",
       "                 ColumnTransformer(remainder='passthrough',\n",
       "                                   transformers=[('pipeline',\n",
       "                                                  Pipeline(steps=[('onehotencoder',\n",
       "                                                                   OneHotEncoder())]),\n",
       "                                                  ['area', 'gender',\n",
       "                                                   'age_group', 'degree',\n",
       "                                                   'job'])])),\n",
       "                ('linearregression', LinearRegression())])"
      ]
     },
     "metadata": {},
     "execution_count": 200
    }
   ],
   "metadata": {}
  },
  {
   "cell_type": "code",
   "execution_count": 201,
   "source": [
    "#predict income\n",
    "y_pred = pipe.predict(X_test)\n",
    "y_pred"
   ],
   "outputs": [
    {
     "output_type": "execute_result",
     "data": {
      "text/plain": [
       "array([11858.50491347, 17606.62259827, 10150.20347291, 20840.95996622,\n",
       "       10095.99632822, 11698.41255524, 12807.43731498, 26128.37405615,\n",
       "        9142.55941702, 14352.36747306,  6674.36453568, 14466.46322206,\n",
       "       13177.69056404, 11144.47584167, 10490.51830133, 11707.54363269,\n",
       "        9601.06148428, 12357.80112558, 10615.49429938, 16322.32743837,\n",
       "        9017.23717064,  8242.18504721, 14678.33384517,  6941.46517573,\n",
       "        9974.07105779,  9787.78465516,  8252.91683787, 12249.08828709,\n",
       "        7489.7083966 , 20987.35148728, 28946.99947767, 13506.23985072,\n",
       "       10849.03702024, 15101.90559345, 12309.61887393, 17883.78797407,\n",
       "       11853.94313138,  7499.87056736, 27259.06563446, 11477.13491241,\n",
       "       14121.6917063 , 11658.11855781, 10618.48645197,  9838.21032451,\n",
       "        8599.17296716,  8354.82500979, 10369.06208247, 26396.61843929,\n",
       "        5123.32508061, 15799.34731865, 15291.98080042, 12471.7938894 ,\n",
       "       14213.38030711, 19430.19003894, 12563.88906331, 28867.07764396,\n",
       "       11758.11596086, 10438.14569975, 28002.57706132,  6209.77830753,\n",
       "       12951.83538579, 12167.91671833, 33679.56251519, 17320.56938081,\n",
       "        7205.26951428, 13627.54714279, 16220.8143875 , 31016.48297685,\n",
       "       10749.86203525,  8677.87937001, 11906.68322683,  6333.46706703,\n",
       "       22352.44125472, 15579.93877618,  8092.20766121,  6665.47303505,\n",
       "        9476.82360325,  9022.03967983, 17120.74371785, 12336.19316331,\n",
       "        9199.00517706, 12231.59286705, 15655.18588134, 12468.69138564,\n",
       "        8554.73040393, 10497.8185175 , 16570.13696034, 10153.30466035,\n",
       "        7973.47577649,  6865.28001196, 10368.22750002,  8847.43351683,\n",
       "        9902.23409973, 21604.22029855,  8916.29989341, 12255.88888933,\n",
       "       32229.55250249,  8623.57155401,  7811.1689096 , 30585.33897504,\n",
       "       14504.51441806, 10527.29529328, 12299.39706686,  7320.83970661,\n",
       "        9572.13927188, 10138.65509469,  9976.25731536, 31622.36030182,\n",
       "        8041.34297692, 10529.87340219, 11086.3673672 , 28799.92790998,\n",
       "       14863.23455542, 21250.18809653, 18625.92047381, 18136.40716462,\n",
       "       11990.6956616 , 15070.00078608,  7588.49407495, 14729.2065642 ,\n",
       "       19352.48444364,  9152.02456218, 27378.44409378, 21395.50714371,\n",
       "       10442.0025099 , 11543.23327807, 17687.51952747, 22083.97063485,\n",
       "        9225.36105501,  7393.49529947, 32549.24583836, 24635.73625737,\n",
       "       11228.98021614,  7301.31881912, 13525.97956131, 12334.90390226,\n",
       "        9236.77773981, 21897.90157296,  9771.73021352, 12552.00840359,\n",
       "       10055.98007505,  8257.24964721, 14408.29245727, 11501.46106961,\n",
       "       19302.35566525, 11152.53463193, 19254.76158366, 14538.09076062,\n",
       "       14743.77411928,  8596.99447224])"
      ]
     },
     "metadata": {},
     "execution_count": 201
    }
   ],
   "metadata": {}
  },
  {
   "cell_type": "code",
   "execution_count": null,
   "source": [],
   "outputs": [],
   "metadata": {}
  },
  {
   "cell_type": "code",
   "execution_count": null,
   "source": [],
   "outputs": [],
   "metadata": {}
  },
  {
   "cell_type": "code",
   "execution_count": null,
   "source": [],
   "outputs": [],
   "metadata": {}
  },
  {
   "cell_type": "code",
   "execution_count": 163,
   "source": [
    "import statsmodels.formula.api as smf"
   ],
   "outputs": [],
   "metadata": {}
  },
  {
   "cell_type": "code",
   "execution_count": 202,
   "source": [
    "mod = smf.ols(formula=\"income ~ area + gender  + year_of_school+degree+job+ know_france +know_chinese \", data=df)\n",
    "res = mod.fit()\n",
    "print(res.summary())"
   ],
   "outputs": [
    {
     "output_type": "stream",
     "name": "stdout",
     "text": [
      "                            OLS Regression Results                            \n",
      "==============================================================================\n",
      "Dep. Variable:                 income   R-squared:                       0.775\n",
      "Model:                            OLS   Adj. R-squared:                  0.771\n",
      "Method:                 Least Squares   F-statistic:                     168.9\n",
      "Date:                Wed, 11 Aug 2021   Prob (F-statistic):          1.39e-151\n",
      "Time:                        17:03:13   Log-Likelihood:                -4772.6\n",
      "No. Observations:                 500   AIC:                             9567.\n",
      "Df Residuals:                     489   BIC:                             9614.\n",
      "Df Model:                          10                                         \n",
      "Covariance Type:            nonrobust                                         \n",
      "=======================================================================================\n",
      "                          coef    std err          t      P>|t|      [0.025      0.975]\n",
      "---------------------------------------------------------------------------------------\n",
      "Intercept            1.312e+04   2004.099      6.549      0.000    9186.722    1.71e+04\n",
      "area[T.northern]    -3435.5310    437.165     -7.859      0.000   -4294.485   -2576.577\n",
      "area[T.southern]    -5046.4209    557.706     -9.049      0.000   -6142.216   -3950.626\n",
      "gender[T.male]       1330.2594    381.873      3.484      0.001     579.945    2080.574\n",
      "degree[T.highshool]  1412.7663    594.522      2.376      0.018     244.634    2580.899\n",
      "degree[T.master]     5031.6342    562.684      8.942      0.000    3926.058    6137.211\n",
      "job[T.officer]      -7020.6523    696.223    -10.084      0.000   -8388.610   -5652.694\n",
      "job[T.sale]         -6012.6063    666.529     -9.021      0.000   -7322.221   -4702.991\n",
      "year_of_school        434.5332    114.722      3.788      0.000     209.124     659.943\n",
      "know_france          2040.7255    468.870      4.352      0.000    1119.478    2961.973\n",
      "know_chinese         2581.1531    516.495      4.997      0.000    1566.329    3595.977\n",
      "==============================================================================\n",
      "Omnibus:                      156.621   Durbin-Watson:                   1.952\n",
      "Prob(Omnibus):                  0.000   Jarque-Bera (JB):              997.143\n",
      "Skew:                           1.204   Prob(JB):                    2.97e-217\n",
      "Kurtosis:                       9.485   Cond. No.                         191.\n",
      "==============================================================================\n",
      "\n",
      "Notes:\n",
      "[1] Standard Errors assume that the covariance matrix of the errors is correctly specified.\n"
     ]
    }
   ],
   "metadata": {}
  },
  {
   "cell_type": "code",
   "execution_count": null,
   "source": [],
   "outputs": [],
   "metadata": {}
  }
 ],
 "metadata": {
  "kernelspec": {
   "display_name": "Python 3 (ipykernel)",
   "language": "python",
   "name": "python3"
  },
  "language_info": {
   "codemirror_mode": {
    "name": "ipython",
    "version": 3
   },
   "file_extension": ".py",
   "mimetype": "text/x-python",
   "name": "python",
   "nbconvert_exporter": "python",
   "pygments_lexer": "ipython3",
   "version": "3.9.6"
  }
 },
 "nbformat": 4,
 "nbformat_minor": 5
}