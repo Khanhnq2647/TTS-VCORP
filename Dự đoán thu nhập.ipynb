{
 "cells": [
  {
   "cell_type": "code",
   "execution_count": 22,
   "id": "75b391bc",
   "metadata": {},
   "outputs": [],
   "source": [
    "import pandas as pd \n",
    "from sklearn.linear_model import LinearRegression\n",
    "from sklearn.preprocessing import OneHotEncoder \n",
    "from sklearn.compose import make_column_transformer\n",
    "from sklearn.pipeline import make_pipeline\n",
    "from sklearn.model_selection import train_test_split\n",
    "import seaborn as sns\n",
    "from sklearn.metrics import r2_score\n",
    "import matplotlib.pyplot as plt\n",
    "import numpy as np\n",
    "from sklearn.model_selection import cross_val_score"
   ]
  },
  {
   "cell_type": "code",
   "execution_count": 2,
   "id": "e0fba4f2",
   "metadata": {
    "scrolled": true
   },
   "outputs": [
    {
     "data": {
      "text/html": [
       "<div>\n",
       "<style scoped>\n",
       "    .dataframe tbody tr th:only-of-type {\n",
       "        vertical-align: middle;\n",
       "    }\n",
       "\n",
       "    .dataframe tbody tr th {\n",
       "        vertical-align: top;\n",
       "    }\n",
       "\n",
       "    .dataframe thead th {\n",
       "        text-align: right;\n",
       "    }\n",
       "</style>\n",
       "<table border=\"1\" class=\"dataframe\">\n",
       "  <thead>\n",
       "    <tr style=\"text-align: right;\">\n",
       "      <th></th>\n",
       "      <th>area</th>\n",
       "      <th>gender</th>\n",
       "      <th>age</th>\n",
       "      <th>age_group</th>\n",
       "      <th>year_of_school</th>\n",
       "      <th>degree</th>\n",
       "      <th>job</th>\n",
       "      <th>know_english</th>\n",
       "      <th>know_france</th>\n",
       "      <th>know_chinese</th>\n",
       "      <th>income</th>\n",
       "      <th>flight_status</th>\n",
       "      <th>professionally_staff</th>\n",
       "      <th>customer_service</th>\n",
       "      <th>diversity_product</th>\n",
       "      <th>good_price</th>\n",
       "      <th>easily_transaction</th>\n",
       "      <th>goodlooking_staff</th>\n",
       "      <th>diversity_flighttime</th>\n",
       "      <th>good_construction</th>\n",
       "    </tr>\n",
       "  </thead>\n",
       "  <tbody>\n",
       "    <tr>\n",
       "      <th>0</th>\n",
       "      <td>central</td>\n",
       "      <td>female</td>\n",
       "      <td>69</td>\n",
       "      <td>middle</td>\n",
       "      <td>16</td>\n",
       "      <td>master</td>\n",
       "      <td>manager</td>\n",
       "      <td>1</td>\n",
       "      <td>1</td>\n",
       "      <td>1</td>\n",
       "      <td>33250</td>\n",
       "      <td>1</td>\n",
       "      <td>2</td>\n",
       "      <td>2</td>\n",
       "      <td>1</td>\n",
       "      <td>1</td>\n",
       "      <td>2</td>\n",
       "      <td>2</td>\n",
       "      <td>1</td>\n",
       "      <td>1</td>\n",
       "    </tr>\n",
       "    <tr>\n",
       "      <th>1</th>\n",
       "      <td>southern</td>\n",
       "      <td>female</td>\n",
       "      <td>50</td>\n",
       "      <td>middle</td>\n",
       "      <td>12</td>\n",
       "      <td>highshool</td>\n",
       "      <td>officer</td>\n",
       "      <td>0</td>\n",
       "      <td>0</td>\n",
       "      <td>0</td>\n",
       "      <td>6960</td>\n",
       "      <td>1</td>\n",
       "      <td>3</td>\n",
       "      <td>3</td>\n",
       "      <td>3</td>\n",
       "      <td>2</td>\n",
       "      <td>3</td>\n",
       "      <td>3</td>\n",
       "      <td>2</td>\n",
       "      <td>3</td>\n",
       "    </tr>\n",
       "    <tr>\n",
       "      <th>2</th>\n",
       "      <td>northern</td>\n",
       "      <td>male</td>\n",
       "      <td>73</td>\n",
       "      <td>elder</td>\n",
       "      <td>12</td>\n",
       "      <td>highshool</td>\n",
       "      <td>officer</td>\n",
       "      <td>1</td>\n",
       "      <td>0</td>\n",
       "      <td>0</td>\n",
       "      <td>11100</td>\n",
       "      <td>1</td>\n",
       "      <td>2</td>\n",
       "      <td>2</td>\n",
       "      <td>1</td>\n",
       "      <td>2</td>\n",
       "      <td>3</td>\n",
       "      <td>5</td>\n",
       "      <td>1</td>\n",
       "      <td>1</td>\n",
       "    </tr>\n",
       "    <tr>\n",
       "      <th>3</th>\n",
       "      <td>northern</td>\n",
       "      <td>female</td>\n",
       "      <td>73</td>\n",
       "      <td>elder</td>\n",
       "      <td>12</td>\n",
       "      <td>highshool</td>\n",
       "      <td>officer</td>\n",
       "      <td>0</td>\n",
       "      <td>0</td>\n",
       "      <td>0</td>\n",
       "      <td>11100</td>\n",
       "      <td>1</td>\n",
       "      <td>5</td>\n",
       "      <td>3</td>\n",
       "      <td>2</td>\n",
       "      <td>4</td>\n",
       "      <td>5</td>\n",
       "      <td>3</td>\n",
       "      <td>2</td>\n",
       "      <td>2</td>\n",
       "    </tr>\n",
       "    <tr>\n",
       "      <th>4</th>\n",
       "      <td>central</td>\n",
       "      <td>male</td>\n",
       "      <td>69</td>\n",
       "      <td>middle</td>\n",
       "      <td>16</td>\n",
       "      <td>master</td>\n",
       "      <td>officer</td>\n",
       "      <td>1</td>\n",
       "      <td>0</td>\n",
       "      <td>0</td>\n",
       "      <td>16140</td>\n",
       "      <td>0</td>\n",
       "      <td>3</td>\n",
       "      <td>3</td>\n",
       "      <td>3</td>\n",
       "      <td>3</td>\n",
       "      <td>3</td>\n",
       "      <td>3</td>\n",
       "      <td>3</td>\n",
       "      <td>3</td>\n",
       "    </tr>\n",
       "  </tbody>\n",
       "</table>\n",
       "</div>"
      ],
      "text/plain": [
       "       area  gender  age age_group  year_of_school     degree      job  \\\n",
       "0   central  female   69    middle              16     master  manager   \n",
       "1  southern  female   50    middle              12  highshool  officer   \n",
       "2  northern    male   73     elder              12  highshool  officer   \n",
       "3  northern  female   73     elder              12  highshool  officer   \n",
       "4   central    male   69    middle              16     master  officer   \n",
       "\n",
       "   know_english  know_france  know_chinese  income  flight_status  \\\n",
       "0             1            1             1   33250              1   \n",
       "1             0            0             0    6960              1   \n",
       "2             1            0             0   11100              1   \n",
       "3             0            0             0   11100              1   \n",
       "4             1            0             0   16140              0   \n",
       "\n",
       "   professionally_staff  customer_service   diversity_product  good_price  \\\n",
       "0                     2                  2                  1           1   \n",
       "1                     3                  3                  3           2   \n",
       "2                     2                  2                  1           2   \n",
       "3                     5                  3                  2           4   \n",
       "4                     3                  3                  3           3   \n",
       "\n",
       "   easily_transaction  goodlooking_staff  diversity_flighttime  \\\n",
       "0                   2                  2                     1   \n",
       "1                   3                  3                     2   \n",
       "2                   3                  5                     1   \n",
       "3                   5                  3                     2   \n",
       "4                   3                  3                     3   \n",
       "\n",
       "   good_construction  \n",
       "0                  1  \n",
       "1                  3  \n",
       "2                  1  \n",
       "3                  2  \n",
       "4                  3  "
      ]
     },
     "execution_count": 2,
     "metadata": {},
     "output_type": "execute_result"
    }
   ],
   "source": [
    "df = pd.read_csv(\".\\data\\practive pyspark.csv\")\n",
    "df.drop(columns ={'flight_date','booking_date','Code'}, inplace =True)\n",
    "df.head()"
   ]
  },
  {
   "cell_type": "code",
   "execution_count": 3,
   "id": "d59f6cfb",
   "metadata": {},
   "outputs": [],
   "source": [
    "# logarit biến income\n",
    "df['income'] = np.log(df['income'] )"
   ]
  },
  {
   "cell_type": "code",
   "execution_count": 4,
   "id": "c2db0d05",
   "metadata": {},
   "outputs": [
    {
     "data": {
      "text/plain": [
       "area                    0\n",
       "gender                  0\n",
       "age                     0\n",
       "age_group               0\n",
       "year_of_school          0\n",
       "degree                  0\n",
       "job                     0\n",
       "know_english            0\n",
       "know_france             0\n",
       "know_chinese            0\n",
       "income                  0\n",
       "flight_status           0\n",
       "professionally_staff    0\n",
       "customer_service        0\n",
       "diversity_product       0\n",
       "good_price              0\n",
       "easily_transaction      0\n",
       "goodlooking_staff       0\n",
       "diversity_flighttime    0\n",
       "good_construction       0\n",
       "dtype: int64"
      ]
     },
     "execution_count": 4,
     "metadata": {},
     "output_type": "execute_result"
    }
   ],
   "source": [
    "#Check missing values\n",
    "df.isna().sum()"
   ]
  },
  {
   "cell_type": "code",
   "execution_count": 5,
   "id": "3d630bd7",
   "metadata": {},
   "outputs": [],
   "source": [
    "X = df[['area', 'gender', 'age', 'age_group', 'year_of_school', 'degree', 'job',\n",
    "       'know_english', 'know_france', 'know_chinese'\n",
    "       ]]\n",
    "y = df['income']"
   ]
  },
  {
   "cell_type": "code",
   "execution_count": 26,
   "id": "a095cb95",
   "metadata": {},
   "outputs": [],
   "source": [
    "#Split data\n",
    "X_train, X_test, y_train, y_test = train_test_split(X, y, test_size=0.2,random_state =4 )"
   ]
  },
  {
   "cell_type": "code",
   "execution_count": 7,
   "id": "fa3a5b52",
   "metadata": {},
   "outputs": [],
   "source": [
    "ohe = OneHotEncoder()\n",
    "imp_ohe = make_pipeline(ohe)\n",
    "\n",
    "# Making a transformer\n",
    "ct = make_column_transformer(\n",
    "    (imp_ohe, ['area', 'gender','age_group','degree','job']),\n",
    "    remainder='passthrough')"
   ]
  },
  {
   "cell_type": "code",
   "execution_count": 8,
   "id": "f0968573",
   "metadata": {},
   "outputs": [],
   "source": [
    "logreg = LinearRegression()"
   ]
  },
  {
   "cell_type": "code",
   "execution_count": 9,
   "id": "49a82069",
   "metadata": {},
   "outputs": [],
   "source": [
    "pipe = make_pipeline(ct,logreg )"
   ]
  },
  {
   "cell_type": "code",
   "execution_count": null,
   "id": "16a576cb",
   "metadata": {},
   "outputs": [],
   "source": []
  },
  {
   "cell_type": "code",
   "execution_count": 20,
   "id": "286ad862",
   "metadata": {},
   "outputs": [
    {
     "data": {
      "text/plain": [
       "Pipeline(steps=[('columntransformer',\n",
       "                 ColumnTransformer(remainder='passthrough',\n",
       "                                   transformers=[('pipeline',\n",
       "                                                  Pipeline(steps=[('onehotencoder',\n",
       "                                                                   OneHotEncoder())]),\n",
       "                                                  ['area', 'gender',\n",
       "                                                   'age_group', 'degree',\n",
       "                                                   'job'])])),\n",
       "                ('linearregression', LinearRegression())])"
      ]
     },
     "execution_count": 20,
     "metadata": {},
     "output_type": "execute_result"
    }
   ],
   "source": [
    "# Fit data using the pipeline\n",
    "pipe.fit(X_train, y_train)"
   ]
  },
  {
   "cell_type": "code",
   "execution_count": 11,
   "id": "433604f3",
   "metadata": {},
   "outputs": [],
   "source": [
    "#predict income\n",
    "y_pred = pipe.predict(X_test)\n",
    "y_pred;"
   ]
  },
  {
   "cell_type": "code",
   "execution_count": 12,
   "id": "343a62c8",
   "metadata": {},
   "outputs": [
    {
     "data": {
      "text/html": [
       "<div>\n",
       "<style scoped>\n",
       "    .dataframe tbody tr th:only-of-type {\n",
       "        vertical-align: middle;\n",
       "    }\n",
       "\n",
       "    .dataframe tbody tr th {\n",
       "        vertical-align: top;\n",
       "    }\n",
       "\n",
       "    .dataframe thead th {\n",
       "        text-align: right;\n",
       "    }\n",
       "</style>\n",
       "<table border=\"1\" class=\"dataframe\">\n",
       "  <thead>\n",
       "    <tr style=\"text-align: right;\">\n",
       "      <th></th>\n",
       "      <th>y_true</th>\n",
       "      <th>y_pridict</th>\n",
       "    </tr>\n",
       "  </thead>\n",
       "  <tbody>\n",
       "    <tr>\n",
       "      <th>66</th>\n",
       "      <td>9.163249</td>\n",
       "      <td>9.262221</td>\n",
       "    </tr>\n",
       "    <tr>\n",
       "      <th>152</th>\n",
       "      <td>9.028818</td>\n",
       "      <td>9.033287</td>\n",
       "    </tr>\n",
       "    <tr>\n",
       "      <th>123</th>\n",
       "      <td>9.372459</td>\n",
       "      <td>9.269107</td>\n",
       "    </tr>\n",
       "    <tr>\n",
       "      <th>285</th>\n",
       "      <td>10.126631</td>\n",
       "      <td>10.198592</td>\n",
       "    </tr>\n",
       "    <tr>\n",
       "      <th>70</th>\n",
       "      <td>9.325453</td>\n",
       "      <td>9.301528</td>\n",
       "    </tr>\n",
       "  </tbody>\n",
       "</table>\n",
       "</div>"
      ],
      "text/plain": [
       "        y_true  y_pridict\n",
       "66    9.163249   9.262221\n",
       "152   9.028818   9.033287\n",
       "123   9.372459   9.269107\n",
       "285  10.126631  10.198592\n",
       "70    9.325453   9.301528"
      ]
     },
     "execution_count": 12,
     "metadata": {},
     "output_type": "execute_result"
    }
   ],
   "source": [
    "e = pd.DataFrame({'y_true': y_test, 'y_pridict': y_pred})\n",
    "e.head()"
   ]
  },
  {
   "cell_type": "markdown",
   "id": "c99ef051",
   "metadata": {},
   "source": [
    "Ta có thấy model đưa ra kết quà khá là tốt với sai số nhỏ"
   ]
  },
  {
   "cell_type": "code",
   "execution_count": 13,
   "id": "f21f84f1",
   "metadata": {},
   "outputs": [
    {
     "name": "stdout",
     "output_type": "stream",
     "text": [
      "Hiệu suất của mô hình R bình phương: 0.8677036853105986\n"
     ]
    }
   ],
   "source": [
    "print(f\"Hiệu suất của mô hình R bình phương: {r2_score(y_test, y_pred)}\")"
   ]
  },
  {
   "cell_type": "markdown",
   "id": "8a25c628",
   "metadata": {},
   "source": [
    " Vậy 86.67 % sự thay đổi của biến dependent có thể được giải thích bằng các biến independent"
   ]
  },
  {
   "cell_type": "markdown",
   "id": "4379055c",
   "metadata": {},
   "source": [
    "Mean Square error"
   ]
  },
  {
   "attachments": {
    "image.png": {
     "image/png": "[encoded data removed]"
    }
   },
   "cell_type": "markdown",
   "id": "4f7119c5",
   "metadata": {},
   "source": [
    "![image.png](attachment:image.png)"
   ]
  },
  {
   "cell_type": "code",
   "execution_count": 15,
   "id": "3c878605",
   "metadata": {},
   "outputs": [
    {
     "data": {
      "text/plain": [
       "0.022986362986716004"
      ]
     },
     "execution_count": 15,
     "metadata": {},
     "output_type": "execute_result"
    }
   ],
   "source": [
    "from sklearn.metrics import mean_squared_error\n",
    "mean_squared_error(y_test, y_pred)"
   ]
  },
  {
   "cell_type": "markdown",
   "id": "940d98b9",
   "metadata": {},
   "source": [
    "Ta có thể thấy tổng bình phương sai số giữa giá trị quan sát và giá trị dự đoán là rất nhỏ ~ 0, các giá trị dự đoán gần khớp với giá trị mong đợi. Vậy model của ta là model tốt"
   ]
  },
  {
   "cell_type": "code",
   "execution_count": 27,
   "id": "b4bf6afe",
   "metadata": {},
   "outputs": [
    {
     "data": {
      "text/plain": [
       "0.5609906103422677"
      ]
     },
     "execution_count": 27,
     "metadata": {},
     "output_type": "execute_result"
    }
   ],
   "source": [
    "from sklearn.metrics import max_error\n",
    "max_error(y_test, y_pred)"
   ]
  },
  {
   "cell_type": "markdown",
   "id": "774bb977",
   "metadata": {},
   "source": [
    "Model cho ra giá trị sai số tối đa là 0.56. Khá tốt!"
   ]
  },
  {
   "cell_type": "code",
   "execution_count": null,
   "id": "6ac0d10e",
   "metadata": {},
   "outputs": [],
   "source": []
  }
 ],
 "metadata": {
  "kernelspec": {
   "display_name": "Python 3 (ipykernel)",
   "language": "python",
   "name": "python3"
  },
  "language_info": {
   "codemirror_mode": {
    "name": "ipython",
    "version": 3
   },
   "file_extension": ".py",
   "mimetype": "text/x-python",
   "name": "python",
   "nbconvert_exporter": "python",
   "pygments_lexer": "ipython3",
   "version": "3.9.6"
  }
 },
 "nbformat": 4,
 "nbformat_minor": 5
}
