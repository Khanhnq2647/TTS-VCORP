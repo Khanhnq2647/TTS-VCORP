{
 "cells": [
  {
   "cell_type": "code",
   "execution_count": 193,
   "id": "75b391bc",
   "metadata": {},
   "outputs": [],
   "source": [
    "import pandas as pd \n",
    "from sklearn.linear_model import LinearRegression\n",
    "from sklearn.preprocessing import OneHotEncoder \n",
    "from sklearn.compose import make_column_transformer\n",
    "from sklearn.pipeline import make_pipeline\n",
    "from sklearn.model_selection import train_test_split\n",
    "import seaborn as sns\n",
    "from sklearn.metrics import r2_score\n",
    "import matplotlib.pyplot as plt\n",
    "import numpy as np"
   ]
  },
  {
   "cell_type": "code",
   "execution_count": 194,
   "id": "e0fba4f2",
   "metadata": {},
   "outputs": [
    {
     "data": {
      "text/html": [
       "<div>\n",
       "<style scoped>\n",
       "    .dataframe tbody tr th:only-of-type {\n",
       "        vertical-align: middle;\n",
       "    }\n",
       "\n",
       "    .dataframe tbody tr th {\n",
       "        vertical-align: top;\n",
       "    }\n",
       "\n",
       "    .dataframe thead th {\n",
       "        text-align: right;\n",
       "    }\n",
       "</style>\n",
       "<table border=\"1\" class=\"dataframe\">\n",
       "  <thead>\n",
       "    <tr style=\"text-align: right;\">\n",
       "      <th></th>\n",
       "      <th>area</th>\n",
       "      <th>gender</th>\n",
       "      <th>age</th>\n",
       "      <th>age_group</th>\n",
       "      <th>year_of_school</th>\n",
       "      <th>degree</th>\n",
       "      <th>job</th>\n",
       "      <th>know_english</th>\n",
       "      <th>know_france</th>\n",
       "      <th>know_chinese</th>\n",
       "      <th>income</th>\n",
       "      <th>flight_status</th>\n",
       "      <th>professionally_staff</th>\n",
       "      <th>customer_service</th>\n",
       "      <th>diversity_product</th>\n",
       "      <th>good_price</th>\n",
       "      <th>easily_transaction</th>\n",
       "      <th>goodlooking_staff</th>\n",
       "      <th>diversity_flighttime</th>\n",
       "      <th>good_construction</th>\n",
       "    </tr>\n",
       "  </thead>\n",
       "  <tbody>\n",
       "    <tr>\n",
       "      <th>0</th>\n",
       "      <td>central</td>\n",
       "      <td>female</td>\n",
       "      <td>69</td>\n",
       "      <td>middle</td>\n",
       "      <td>16</td>\n",
       "      <td>master</td>\n",
       "      <td>manager</td>\n",
       "      <td>1</td>\n",
       "      <td>1</td>\n",
       "      <td>1</td>\n",
       "      <td>33250</td>\n",
       "      <td>1</td>\n",
       "      <td>2</td>\n",
       "      <td>2</td>\n",
       "      <td>1</td>\n",
       "      <td>1</td>\n",
       "      <td>2</td>\n",
       "      <td>2</td>\n",
       "      <td>1</td>\n",
       "      <td>1</td>\n",
       "    </tr>\n",
       "    <tr>\n",
       "      <th>1</th>\n",
       "      <td>southern</td>\n",
       "      <td>female</td>\n",
       "      <td>50</td>\n",
       "      <td>middle</td>\n",
       "      <td>12</td>\n",
       "      <td>highshool</td>\n",
       "      <td>officer</td>\n",
       "      <td>0</td>\n",
       "      <td>0</td>\n",
       "      <td>0</td>\n",
       "      <td>6960</td>\n",
       "      <td>1</td>\n",
       "      <td>3</td>\n",
       "      <td>3</td>\n",
       "      <td>3</td>\n",
       "      <td>2</td>\n",
       "      <td>3</td>\n",
       "      <td>3</td>\n",
       "      <td>2</td>\n",
       "      <td>3</td>\n",
       "    </tr>\n",
       "    <tr>\n",
       "      <th>2</th>\n",
       "      <td>northern</td>\n",
       "      <td>male</td>\n",
       "      <td>73</td>\n",
       "      <td>elder</td>\n",
       "      <td>12</td>\n",
       "      <td>highshool</td>\n",
       "      <td>officer</td>\n",
       "      <td>1</td>\n",
       "      <td>0</td>\n",
       "      <td>0</td>\n",
       "      <td>11100</td>\n",
       "      <td>1</td>\n",
       "      <td>2</td>\n",
       "      <td>2</td>\n",
       "      <td>1</td>\n",
       "      <td>2</td>\n",
       "      <td>3</td>\n",
       "      <td>5</td>\n",
       "      <td>1</td>\n",
       "      <td>1</td>\n",
       "    </tr>\n",
       "    <tr>\n",
       "      <th>3</th>\n",
       "      <td>northern</td>\n",
       "      <td>female</td>\n",
       "      <td>73</td>\n",
       "      <td>elder</td>\n",
       "      <td>12</td>\n",
       "      <td>highshool</td>\n",
       "      <td>officer</td>\n",
       "      <td>0</td>\n",
       "      <td>0</td>\n",
       "      <td>0</td>\n",
       "      <td>11100</td>\n",
       "      <td>1</td>\n",
       "      <td>5</td>\n",
       "      <td>3</td>\n",
       "      <td>2</td>\n",
       "      <td>4</td>\n",
       "      <td>5</td>\n",
       "      <td>3</td>\n",
       "      <td>2</td>\n",
       "      <td>2</td>\n",
       "    </tr>\n",
       "    <tr>\n",
       "      <th>4</th>\n",
       "      <td>central</td>\n",
       "      <td>male</td>\n",
       "      <td>69</td>\n",
       "      <td>middle</td>\n",
       "      <td>16</td>\n",
       "      <td>master</td>\n",
       "      <td>officer</td>\n",
       "      <td>1</td>\n",
       "      <td>0</td>\n",
       "      <td>0</td>\n",
       "      <td>16140</td>\n",
       "      <td>0</td>\n",
       "      <td>3</td>\n",
       "      <td>3</td>\n",
       "      <td>3</td>\n",
       "      <td>3</td>\n",
       "      <td>3</td>\n",
       "      <td>3</td>\n",
       "      <td>3</td>\n",
       "      <td>3</td>\n",
       "    </tr>\n",
       "  </tbody>\n",
       "</table>\n",
       "</div>"
      ],
      "text/plain": [
       "       area  gender  age age_group  year_of_school     degree      job  \\\n",
       "0   central  female   69    middle              16     master  manager   \n",
       "1  southern  female   50    middle              12  highshool  officer   \n",
       "2  northern    male   73     elder              12  highshool  officer   \n",
       "3  northern  female   73     elder              12  highshool  officer   \n",
       "4   central    male   69    middle              16     master  officer   \n",
       "\n",
       "   know_english  know_france  know_chinese  income  flight_status  \\\n",
       "0             1            1             1   33250              1   \n",
       "1             0            0             0    6960              1   \n",
       "2             1            0             0   11100              1   \n",
       "3             0            0             0   11100              1   \n",
       "4             1            0             0   16140              0   \n",
       "\n",
       "   professionally_staff  customer_service   diversity_product  good_price  \\\n",
       "0                     2                  2                  1           1   \n",
       "1                     3                  3                  3           2   \n",
       "2                     2                  2                  1           2   \n",
       "3                     5                  3                  2           4   \n",
       "4                     3                  3                  3           3   \n",
       "\n",
       "   easily_transaction  goodlooking_staff  diversity_flighttime  \\\n",
       "0                   2                  2                     1   \n",
       "1                   3                  3                     2   \n",
       "2                   3                  5                     1   \n",
       "3                   5                  3                     2   \n",
       "4                   3                  3                     3   \n",
       "\n",
       "   good_construction  \n",
       "0                  1  \n",
       "1                  3  \n",
       "2                  1  \n",
       "3                  2  \n",
       "4                  3  "
      ]
     },
     "execution_count": 194,
     "metadata": {},
     "output_type": "execute_result"
    }
   ],
   "source": [
    "df = pd.read_csv(\".\\data\\practive pyspark.csv\")\n",
    "df.drop(columns ={'flight_date','booking_date','Code'}, inplace =True)\n",
    "df.head()"
   ]
  },
  {
   "cell_type": "code",
   "execution_count": 195,
   "id": "d59f6cfb",
   "metadata": {},
   "outputs": [],
   "source": [
    "#df['income'] = np.log(df['income'] )"
   ]
  },
  {
   "cell_type": "code",
   "execution_count": 196,
   "id": "c2db0d05",
   "metadata": {},
   "outputs": [
    {
     "data": {
      "text/plain": [
       "area                    0\n",
       "gender                  0\n",
       "age                     0\n",
       "age_group               0\n",
       "year_of_school          0\n",
       "degree                  0\n",
       "job                     0\n",
       "know_english            0\n",
       "know_france             0\n",
       "know_chinese            0\n",
       "income                  0\n",
       "flight_status           0\n",
       "professionally_staff    0\n",
       "customer_service        0\n",
       "diversity_product       0\n",
       "good_price              0\n",
       "easily_transaction      0\n",
       "goodlooking_staff       0\n",
       "diversity_flighttime    0\n",
       "good_construction       0\n",
       "dtype: int64"
      ]
     },
     "execution_count": 196,
     "metadata": {},
     "output_type": "execute_result"
    }
   ],
   "source": [
    "#Check missing values\n",
    "df.isna().sum()"
   ]
  },
  {
   "cell_type": "code",
   "execution_count": 197,
   "id": "3d630bd7",
   "metadata": {},
   "outputs": [],
   "source": [
    "X = df[['area', 'gender', 'age', 'age_group', 'year_of_school', 'degree', 'job',\n",
    "       'know_english', 'know_france', 'know_chinese',\n",
    "       'flight_status', 'professionally_staff', 'customer_service ',\n",
    "       'diversity_product', 'good_price', 'easily_transaction',\n",
    "       'goodlooking_staff', 'diversity_flighttime', 'good_construction']]\n",
    "y = df['income']"
   ]
  },
  {
   "cell_type": "code",
   "execution_count": 198,
   "id": "a095cb95",
   "metadata": {},
   "outputs": [],
   "source": [
    "X_train, X_test, y_train, y_test = train_test_split(X, y, test_size=0.2,random_state =4 )"
   ]
  },
  {
   "cell_type": "code",
   "execution_count": 199,
   "id": "fa3a5b52",
   "metadata": {},
   "outputs": [],
   "source": [
    "ohe = OneHotEncoder()\n",
    "imp_ohe = make_pipeline( ohe)\n",
    "# Making a transformer\n",
    "ct = make_column_transformer(\n",
    "    (imp_ohe, ['area', 'gender','age_group','degree','job']),\n",
    "    remainder='passthrough')"
   ]
  },
  {
   "cell_type": "code",
   "execution_count": 200,
   "id": "f0968573",
   "metadata": {},
   "outputs": [],
   "source": [
    "logreg = LinearRegression()"
   ]
  },
  {
   "cell_type": "code",
   "execution_count": 201,
   "id": "49a82069",
   "metadata": {},
   "outputs": [],
   "source": [
    "pipe = make_pipeline(ct,logreg )"
   ]
  },
  {
   "cell_type": "code",
   "execution_count": 202,
   "id": "286ad862",
   "metadata": {},
   "outputs": [
    {
     "data": {
      "text/plain": [
       "Pipeline(steps=[('columntransformer',\n",
       "                 ColumnTransformer(remainder='passthrough',\n",
       "                                   transformers=[('pipeline',\n",
       "                                                  Pipeline(steps=[('onehotencoder',\n",
       "                                                                   OneHotEncoder())]),\n",
       "                                                  ['area', 'gender',\n",
       "                                                   'age_group', 'degree',\n",
       "                                                   'job'])])),\n",
       "                ('linearregression', LinearRegression())])"
      ]
     },
     "execution_count": 202,
     "metadata": {},
     "output_type": "execute_result"
    }
   ],
   "source": [
    "# Fit data using the pipeline\n",
    "pipe.fit(X_train, y_train)"
   ]
  },
  {
   "cell_type": "code",
   "execution_count": 203,
   "id": "433604f3",
   "metadata": {},
   "outputs": [],
   "source": [
    "#predict income\n",
    "y_pred = pipe.predict(X_test)\n",
    "y_pred;"
   ]
  },
  {
   "cell_type": "code",
   "execution_count": 204,
   "id": "343a62c8",
   "metadata": {},
   "outputs": [
    {
     "data": {
      "text/html": [
       "<div>\n",
       "<style scoped>\n",
       "    .dataframe tbody tr th:only-of-type {\n",
       "        vertical-align: middle;\n",
       "    }\n",
       "\n",
       "    .dataframe tbody tr th {\n",
       "        vertical-align: top;\n",
       "    }\n",
       "\n",
       "    .dataframe thead th {\n",
       "        text-align: right;\n",
       "    }\n",
       "</style>\n",
       "<table border=\"1\" class=\"dataframe\">\n",
       "  <thead>\n",
       "    <tr style=\"text-align: right;\">\n",
       "      <th></th>\n",
       "      <th>y_true</th>\n",
       "      <th>y_pridict</th>\n",
       "    </tr>\n",
       "  </thead>\n",
       "  <tbody>\n",
       "    <tr>\n",
       "      <th>66</th>\n",
       "      <td>9540</td>\n",
       "      <td>10584.678875</td>\n",
       "    </tr>\n",
       "    <tr>\n",
       "      <th>152</th>\n",
       "      <td>8340</td>\n",
       "      <td>9583.392233</td>\n",
       "    </tr>\n",
       "    <tr>\n",
       "      <th>123</th>\n",
       "      <td>11760</td>\n",
       "      <td>9675.771791</td>\n",
       "    </tr>\n",
       "    <tr>\n",
       "      <th>285</th>\n",
       "      <td>25000</td>\n",
       "      <td>27704.572555</td>\n",
       "    </tr>\n",
       "    <tr>\n",
       "      <th>70</th>\n",
       "      <td>11220</td>\n",
       "      <td>10415.299520</td>\n",
       "    </tr>\n",
       "  </tbody>\n",
       "</table>\n",
       "</div>"
      ],
      "text/plain": [
       "     y_true     y_pridict\n",
       "66     9540  10584.678875\n",
       "152    8340   9583.392233\n",
       "123   11760   9675.771791\n",
       "285   25000  27704.572555\n",
       "70    11220  10415.299520"
      ]
     },
     "execution_count": 204,
     "metadata": {},
     "output_type": "execute_result"
    }
   ],
   "source": [
    "e = pd.DataFrame({'y_true': y_test, 'y_pridict': y_pred})\n",
    "e.head()"
   ]
  },
  {
   "cell_type": "code",
   "execution_count": 221,
   "id": "f21f84f1",
   "metadata": {},
   "outputs": [
    {
     "name": "stdout",
     "output_type": "stream",
     "text": [
      "Hiệu suất của mô hình R bình phương: 0.7680487791316059\n"
     ]
    }
   ],
   "source": [
    "print(f\"Hiệu suất của mô hình R bình phương: {r2_score(y_test, y_pred)}\")"
   ]
  },
  {
   "cell_type": "markdown",
   "id": "fa3576c8",
   "metadata": {},
   "source": [
    "# Kiểm tra các giả định của mô hình"
   ]
  },
  {
   "cell_type": "markdown",
   "id": "ca3af090",
   "metadata": {},
   "source": [
    "## Giả định 1: Phần dư tuân theo phân phối chuẩn"
   ]
  },
  {
   "cell_type": "code",
   "execution_count": 206,
   "id": "eb966512",
   "metadata": {},
   "outputs": [
    {
     "data": {
      "text/html": [
       "<div>\n",
       "<style scoped>\n",
       "    .dataframe tbody tr th:only-of-type {\n",
       "        vertical-align: middle;\n",
       "    }\n",
       "\n",
       "    .dataframe tbody tr th {\n",
       "        vertical-align: top;\n",
       "    }\n",
       "\n",
       "    .dataframe thead th {\n",
       "        text-align: right;\n",
       "    }\n",
       "</style>\n",
       "<table border=\"1\" class=\"dataframe\">\n",
       "  <thead>\n",
       "    <tr style=\"text-align: right;\">\n",
       "      <th></th>\n",
       "      <th>y_true</th>\n",
       "      <th>y_pridict</th>\n",
       "      <th>residual</th>\n",
       "    </tr>\n",
       "  </thead>\n",
       "  <tbody>\n",
       "    <tr>\n",
       "      <th>66</th>\n",
       "      <td>9540</td>\n",
       "      <td>10584.678875</td>\n",
       "      <td>0.045129</td>\n",
       "    </tr>\n",
       "    <tr>\n",
       "      <th>152</th>\n",
       "      <td>8340</td>\n",
       "      <td>9583.392233</td>\n",
       "      <td>0.060353</td>\n",
       "    </tr>\n",
       "    <tr>\n",
       "      <th>123</th>\n",
       "      <td>11760</td>\n",
       "      <td>9675.771791</td>\n",
       "      <td>-0.084722</td>\n",
       "    </tr>\n",
       "    <tr>\n",
       "      <th>285</th>\n",
       "      <td>25000</td>\n",
       "      <td>27704.572555</td>\n",
       "      <td>0.044611</td>\n",
       "    </tr>\n",
       "    <tr>\n",
       "      <th>70</th>\n",
       "      <td>11220</td>\n",
       "      <td>10415.299520</td>\n",
       "      <td>-0.032321</td>\n",
       "    </tr>\n",
       "  </tbody>\n",
       "</table>\n",
       "</div>"
      ],
      "text/plain": [
       "     y_true     y_pridict  residual\n",
       "66     9540  10584.678875  0.045129\n",
       "152    8340   9583.392233  0.060353\n",
       "123   11760   9675.771791 -0.084722\n",
       "285   25000  27704.572555  0.044611\n",
       "70    11220  10415.299520 -0.032321"
      ]
     },
     "execution_count": 206,
     "metadata": {},
     "output_type": "execute_result"
    }
   ],
   "source": [
    "e['residual'] = np.log10(e['y_pridict'])- np.log10(e['y_true'])\n",
    "e.head()"
   ]
  },
  {
   "cell_type": "code",
   "execution_count": 207,
   "id": "54a0a194",
   "metadata": {},
   "outputs": [
    {
     "data": {
      "text/plain": [
       "<seaborn.axisgrid.FacetGrid at 0x24d03a8c370>"
      ]
     },
     "execution_count": 207,
     "metadata": {},
     "output_type": "execute_result"
    },
    {
     "data": {
      "image/png": "[encoded data removed]",
      "text/plain": [
       "<Figure size 360x360 with 1 Axes>"
      ]
     },
     "metadata": {},
     "output_type": "display_data"
    }
   ],
   "source": [
    "sns.displot(e.residual)"
   ]
  },
  {
   "cell_type": "markdown",
   "id": "b749f9eb",
   "metadata": {},
   "source": [
    "Nhìn đồ thị, ta có thể thấy đồ thị phần dư tuân theo phân phối chuẩn. Thoả mãn giả định 1"
   ]
  },
  {
   "cell_type": "markdown",
   "id": "023858f4",
   "metadata": {},
   "source": [
    "## Giả định 2: Biến tiên của phần dư là đồng nhất giữa giá trị dự đoán"
   ]
  },
  {
   "cell_type": "code",
   "execution_count": 208,
   "id": "ed0b1818",
   "metadata": {},
   "outputs": [
    {
     "data": {
      "text/plain": [
       "303    10620\n",
       "202    36500\n",
       "349     8340\n",
       "272    40000\n",
       "192    10380\n",
       "       ...  \n",
       "385    12000\n",
       "197    10620\n",
       "439    16620\n",
       "174     9900\n",
       "122    12108\n",
       "Name: income, Length: 400, dtype: int64"
      ]
     },
     "execution_count": 208,
     "metadata": {},
     "output_type": "execute_result"
    }
   ],
   "source": [
    "y_train"
   ]
  },
  {
   "cell_type": "code",
   "execution_count": 211,
   "id": "c265a477",
   "metadata": {},
   "outputs": [
    {
     "data": {
      "image/png": "[encoded data removed]",
      "text/plain": [
       "<Figure size 432x288 with 1 Axes>"
      ]
     },
     "metadata": {},
     "output_type": "display_data"
    }
   ],
   "source": [
    "# plot for residual error \n",
    "  \n",
    "## setting plot style \n",
    "plt.style.use('fivethirtyeight') \n",
    "  \n",
    "## plotting residual errors in training data \n",
    "plt.scatter(pipline.predict(X_train), pipline.predict(X_train) - y_train, \n",
    "            color = \"green\", s = 10, label = 'Train data') \n",
    "  \n",
    "## plotting residual errors in test data \n",
    "plt.scatter(pipline.predict(X_test), pipline.predict(X_test) - y_test, \n",
    "            color = \"blue\", s = 10, label = 'Test data') \n",
    "  \n",
    "## plotting line for zero residual error \n",
    "plt.hlines(y = 0, xmin = 0, xmax = 35000, linewidth = 2) \n",
    "  \n",
    "## plot title \n",
    "plt.title(\"Residual errors\") \n",
    "  \n",
    "## function to show plot \n",
    "plt.show() "
   ]
  },
  {
   "attachments": {
    "image.png": {
     "image/png": "[encoded data removed]"
    }
   },
   "cell_type": "markdown",
   "id": "46ebd2a1",
   "metadata": {},
   "source": [
    "Ta có thấy mô hình đã vi phạm giả định 2, phương sai thay đổi. dẫn đến ước lượng hồi quy bị sai lệch \n",
    "\n",
    "\n",
    "\n",
    "![image.png](attachment:image.png)"
   ]
  }
 ],
 "metadata": {
  "kernelspec": {
   "display_name": "Python 3 (ipykernel)",
   "language": "python",
   "name": "python3"
  },
  "language_info": {
   "codemirror_mode": {
    "name": "ipython",
    "version": 3
   },
   "file_extension": ".py",
   "mimetype": "text/x-python",
   "name": "python",
   "nbconvert_exporter": "python",
   "pygments_lexer": "ipython3",
   "version": "3.9.6"
  }
 },
 "nbformat": 4,
 "nbformat_minor": 5
}
